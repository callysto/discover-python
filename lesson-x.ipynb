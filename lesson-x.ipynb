{
 "cells": [
  {
   "cell_type": "code",
   "execution_count": 1,
   "metadata": {},
   "outputs": [
    {
     "data": {
      "text/html": [
       "<style>div.run_this_cell{display:block;}</style>\n"
      ],
      "text/plain": [
       "<IPython.core.display.HTML object>"
      ]
     },
     "metadata": {},
     "output_type": "display_data"
    }
   ],
   "source": [
    "%%html\n",
    "<style>div.run_this_cell{display:block;}</style>"
   ]
  },
  {
   "cell_type": "markdown",
   "metadata": {},
   "source": [
    "<img style=\"float:right;margin-left:50px;margin-right:50px;\" width=\"300\" src=\"images/discovercoding.png\">\n",
    "\n",
    "# Discover Python with Callysto\n",
    "Lesson created and taught by [Discover Coding](https://discovercoding.ca).\n",
    "\n",
    "With support and funding from [Callysto](https://callysto.ca/) and the [Pacific Institute for Mathematical Sciences](https://www.pims.math.ca/)\n",
    "\n",
    "# Lesson X: Lists & Random\n",
    "\n",
    "**PLACE-HOLDER** Lesson not confirmed.\n",
    "This lesson will explore more:\n",
    "- lists\n",
    "- random\n"
   ]
  },
  {
   "cell_type": "markdown",
   "metadata": {},
   "source": [
    "# 1. LISTS\n"
   ]
  },
  {
   "cell_type": "markdown",
   "metadata": {},
   "source": [
    "# 3. Random\n",
    "\n",
    "<img style=\"float:left;margin-right:30px;\" width=\"400px\" src=\"https://media.giphy.com/media/H4uFElBB9Nt7zq3RZ9/source.gif\">\n",
    "\n",
    "So far, all of our code is very **predictable** -- we can see what will happen. So let's try to let the computer add some *randomness*. We can tell the computer to pick a number, or roll a dice.\n",
    "\n",
    "First, we need to `import random` in our code. This let's us use some random *functions* to generate a random number. \n",
    "\n",
    "`random.random()` picks a *DECIMAL* number between `0` and `1`\n",
    "`random.randint(x,y)` picks a *WHOLE* number between `x` and `y`\n",
    "\n",
    "Let's look at an example:\n"
   ]
  },
  {
   "cell_type": "code",
   "execution_count": null,
   "metadata": {},
   "outputs": [],
   "source": [
    "# RUN ME (try it a couple of times)\n",
    "import random\n",
    "print( random.random() )"
   ]
  },
  {
   "cell_type": "code",
   "execution_count": null,
   "metadata": {},
   "outputs": [],
   "source": [
    "# RUN ME (try it a couple of times)\n",
    "import random\n",
    "print( random.randint(0,5) )"
   ]
  },
  {
   "cell_type": "markdown",
   "metadata": {},
   "source": [
    "### *Activity 3.1*\n",
    "\n",
    "Now you try!\n",
    "\n",
    "Tell the computer to make a random number between 1 and 10.\n",
    "\n",
    "Save it into a variable named `myRandomNumber`"
   ]
  },
  {
   "cell_type": "code",
   "execution_count": null,
   "metadata": {},
   "outputs": [],
   "source": [
    "# FILL IN THE BLANKS:\n",
    "import ______\n",
    "__________ = random._______( __ , __ )\n",
    "print ( myRandomNumber )"
   ]
  },
  {
   "cell_type": "markdown",
   "metadata": {},
   "source": [
    "### *Activity 3.2*\n",
    "\n",
    "This time, let's pick a number between 1000 and 5000.\n",
    "\n",
    "Save it into a variable named `myRandomNumber`"
   ]
  },
  {
   "cell_type": "code",
   "execution_count": null,
   "metadata": {},
   "outputs": [],
   "source": [
    "# FILL IN THE BLANKS:\n",
    "import ______\n",
    "__________ = random._______( __ , __ )\n",
    "print ( myRandomNumber )"
   ]
  },
  {
   "cell_type": "markdown",
   "metadata": {},
   "source": [
    "### *Activity 3.3*\n",
    "\n",
    "Remember the previous activities where we entered a temperature? Let's set one randomly now!"
   ]
  },
  {
   "cell_type": "code",
   "execution_count": null,
   "metadata": {},
   "outputs": [],
   "source": [
    "# ADD TWO LINES OF CODE to set a random temperature \n",
    "______ ______\n",
    "__________ = _______.________ ( ___ , ___ )\n",
    "\n",
    "if temperature < -23 :\n",
    "    print( \"Brrr. It's cold.\")\n",
    "    print( \"Indoor recess!\")\n",
    "elif temperature > 30 :\n",
    "    print ( \"So hot. Let's go swimming.\")\n",
    "else :\n",
    "    print ( \"Go play outside!\" )"
   ]
  },
  {
   "cell_type": "markdown",
   "metadata": {},
   "source": [
    "<img style=\"float:right;margin-left:30px;\" src=\"images/guessthenumber.gif\">\n",
    "\n",
    "# 4. EXTRA CHALLENGE:<br/> \"Guess the Number\" Game\n",
    "\n",
    "Now, let's create a number guessing game using a conditionals, variables and random numbers.\n",
    "\n",
    "1. Save a random number in a variable named `secret`\n",
    "1. Ask the user to `input` a number\n",
    "1. If the guess is corret, print a winning message\n",
    "1. If the guess is higher than `secret`, print `lower`\n",
    "1. Otherwise (`else`), the guess must need to be `higher`\n"
   ]
  },
  {
   "cell_type": "code",
   "execution_count": null,
   "metadata": {},
   "outputs": [],
   "source": [
    "# FILL IN THE BLANKS\n",
    "\n",
    "# 1. import module and pick a random number\n",
    "import ______\n",
    "secret = ______.______( ___ , ___ )\n",
    "\n",
    "# This is a loop. Don't worry about it for now. \n",
    "while True :\n",
    "\n",
    "# 3. Prompt for user input\n",
    "#    HINT: We have to convert the user response from a string to an int\n",
    "    guess = input( \"______ \" )\n",
    "    number = int(guess)\n",
    "\n",
    "# 4. Check if number is equal to secret, if so, print a message and break out of loop. \n",
    "#    Otherwise, print a hint of higher or lower, and keep looping\n",
    "    if ______ == ______ :\n",
    "        print ( \"_____\" )\n",
    "        break # this makes our loop stop. Don't worry about it for now\n",
    "    elif ______ > ______ :\n",
    "        print ( \"_____\" )\n",
    "    else :\n",
    "        print ( \"_____\" )\n"
   ]
  },
  {
   "cell_type": "markdown",
   "metadata": {},
   "source": [
    "## 5.1 EXTRA Random Function\n",
    "\n",
    "if we have a *LIST* of things, we can pick a random thing from the list using `random.choice()`.\n",
    "\n",
    "Here's an example:"
   ]
  },
  {
   "cell_type": "code",
   "execution_count": null,
   "metadata": {},
   "outputs": [],
   "source": [
    "# RUN ME (try it a couple of times)\n",
    "import random\n",
    "myList = [\"computer\", \"orange\", \"piano\"]\n",
    "myRandomThing = random.choice(myList)\n",
    "print ( myRandomThing )"
   ]
  },
  {
   "cell_type": "markdown",
   "metadata": {},
   "source": [
    "Let's try a simple word-guessing quiz"
   ]
  },
  {
   "cell_type": "code",
   "execution_count": null,
   "metadata": {},
   "outputs": [],
   "source": [
    "# FILL IN THE LINE OF CODE \n",
    "import ______\n",
    "food = [\"bits\", \"bytes\", \"electrons\"]\n",
    "meal = random._____( _____ )\n",
    "\n",
    "answer = input(\"What did your computer eat for breakfast? \")\n",
    "if answer == meal :\n",
    "    print(\"Om nom nom. correct.\")\n",
    "else :\n",
    "    print(\"Bzzt. It ate \" + meal)"
   ]
  },
  {
   "cell_type": "markdown",
   "metadata": {},
   "source": [
    "**EXTRA CHALLENGE 2:** Can you try creating a *\"Guess the Word\"* game using `random.choice()`?"
   ]
  },
  {
   "cell_type": "code",
   "execution_count": null,
   "metadata": {},
   "outputs": [],
   "source": [
    "# CODE HERE\n",
    "\n",
    "# 1. import module and pick a random word\n",
    "\n",
    "# 2. Create a loop that is ALWAYS True\n",
    "while True:\n",
    "\n",
    "# 3. Prompt for user input\n",
    "\n",
    "# 4. Check if user input is correct, then print and break out of loop. \n",
    "#    Otherwise, prompt user for input again\n",
    "\n"
   ]
  }
 ],
 "metadata": {
  "kernelspec": {
   "display_name": "Python 3",
   "language": "python",
   "name": "python3"
  },
  "language_info": {
   "codemirror_mode": {
    "name": "ipython",
    "version": 3
   },
   "file_extension": ".py",
   "mimetype": "text/x-python",
   "name": "python",
   "nbconvert_exporter": "python",
   "pygments_lexer": "ipython3",
   "version": "3.7.5"
  }
 },
 "nbformat": 4,
 "nbformat_minor": 2
}
