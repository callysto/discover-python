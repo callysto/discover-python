{
 "cells": [
  {
   "cell_type": "code",
   "execution_count": 1,
   "metadata": {},
   "outputs": [
    {
     "data": {
      "text/html": [
       "<style>div.run_this_cell{display:block;}</style>\n"
      ],
      "text/plain": [
       "<IPython.core.display.HTML object>"
      ]
     },
     "metadata": {},
     "output_type": "display_data"
    }
   ],
   "source": [
    "%%html\n",
    "<style>div.run_this_cell{display:block;}</style>"
   ]
  },
  {
   "cell_type": "markdown",
   "metadata": {},
   "source": [
    "<img style=\"float:right;margin-left:50px;margin-right:50px;\" width=\"300\" src=\"images/discovercoding.png\">\n",
    "\n",
    "# Discover Python with Callysto\n",
    "Lesson created and taught by [Discover Coding](https://discovercoding.ca).\n",
    "\n",
    "With support and funding from [Callysto](https://callysto.ca/) and the [Pacific Institute for Mathematical Sciences](https://www.pims.math.ca/)\n",
    "\n",
    "# Lesson 8: Random Roshambo (Rock-Paper-Scissors)\n",
    "\n",
    "In this lesson, we'll learn how to use make a game of Rock Paper Scissors with a random computer AI opponent!\n",
    "\n",
    "We'll use many of our previous coding concepts:\n",
    "- import\n",
    "- print\n",
    "- loops\n",
    "- conditionals\n"
   ]
  },
  {
   "cell_type": "markdown",
   "metadata": {},
   "source": [
    "# 1. The RANDOM library\n",
    "\n",
    "<img style=\"float:left;margin-right:30px;\" width=\"400px\" src=\"https://media.giphy.com/media/H4uFElBB9Nt7zq3RZ9/source.gif\">\n",
    "\n",
    "`random` allows us to get unpredictable results from our code - which can help us make some fun and exciting programs.\n",
    "\n",
    "Many programs use a `random` library. It can be used for: \n",
    "- security (creating a one time unique password) \n",
    "- games (generating a level or making an choice) \n",
    "- AI (most AI programs use randomness at one point)\n",
    "\n",
    "To get started with generating random numbers, first we `import random` into our code.\n",
    "\n",
    "This lets us use some random *functions* to generate a random number. There are [a lot to choose from](https://docs.python.org/3/library/random.html), but here are 3 very common functions:\n",
    "\n",
    "- `random.random()` picks a *DECIMAL* number between `0` and `1`\n",
    "- `random.randint(x,y)` picks a *WHOLE* number between `x` and `y`\n",
    "- `random.choice( [list] )` picks a random item from the `list`\n",
    "\n",
    "Give it a try!"
   ]
  },
  {
   "cell_type": "code",
   "execution_count": null,
   "metadata": {},
   "outputs": [],
   "source": [
    "# RUN ME\n",
    "import random\n",
    "\n",
    "random_decimal = random.random()\n",
    "random_number = random.randint(1, 10)\n",
    "random_letter = random.choice( [\"a\",\"b\",\"c\"] )\n",
    "\n",
    "print(random_decimal)\n",
    "print(random_number)\n",
    "print(random_letter)"
   ]
  },
  {
   "cell_type": "markdown",
   "metadata": {},
   "source": [
    "## 1.2 Your random AI\n",
    "\n",
    "Now you try! For our simple game, we need an AI that randomly picks \"Rock\" \"Paper\" or \"Scissors\". \n"
   ]
  },
  {
   "cell_type": "code",
   "execution_count": null,
   "metadata": {},
   "outputs": [],
   "source": [
    "# Fill in the blanks\n",
    "import _____\n",
    "\n",
    "AI_move = random.______ ( [ \"_____\" , \"_____\" , \"_____\" ])\n",
    "\n",
    "print( ______ )"
   ]
  },
  {
   "cell_type": "markdown",
   "metadata": {},
   "source": [
    "<img style=\"float:right;margin-left:50px;margin-right:50px;\" width=\"300\" src=\"images/rps_guess.jpg\">\n",
    "\n",
    "# 2. Basic Game Algorithm\n",
    "\n",
    "We now have the basics to create our Python game. \n",
    "\n",
    "Here's what we need our code to do:\n",
    "\n",
    "1. Import the `random` library\n",
    "2. Ask the player for `input` (rock, paper, or scissors)\n",
    "3. Generate a random move from your AI (*hint*: it's the same code from section 1.2)\n",
    "4. Compare the player and CPU moves to decide winner\n",
    "\n",
    "Here's some code to get you started:"
   ]
  },
  {
   "cell_type": "code",
   "execution_count": null,
   "metadata": {},
   "outputs": [],
   "source": [
    "# Fill in the blanks\n",
    "import random\n",
    "\n",
    "# Get some input from the player using the input() function\n",
    "player = input(\"_______\")\n",
    "cpu = random.choice( [\"_____\",\"_____\",\"______\"])\n",
    "\n",
    "print (\"CPU plays \" + cpu)\n",
    "\n",
    "# If the player plays ROCK, check what the CPU plays\n",
    "if player == \"rock\" :\n",
    "    if cpu == \"______\" :\n",
    "        print (\"______\")\n",
    "    elif cpu == \"______\" :\n",
    "        print (\"______\")\n",
    "    else :\n",
    "        print (\"______\")\n",
    "        \n",
    "# Or if the player picked PAPER . . .\n",
    "elif player __ \"_______\" :\n",
    "    if cpu\n",
    "\n",
    "# Or if the player picked SCISSORS . . .\n",
    "elif player __ \"_______\" :\n",
    "    if cpu"
   ]
  },
  {
   "cell_type": "markdown",
   "metadata": {},
   "source": [
    "# 3. Advanced Game Algorithm\n",
    "\n",
    "Once we have the basics of the game, we can enhance it in three ways.\n",
    "\n",
    "## 3.1 Add a loop to keep playing\n",
    "\n",
    "Add a `while true :` loop around your code so that you keep playing the game over and over . . .\n",
    "\n",
    "## 3.2 Create some ASCII art to show the player's and AI's moves\n",
    "\n",
    "After the player and CPU each picks a move; print their moves using ASCII art.\n",
    "\n",
    "Here's some sample art you could you (or design your own!):\n",
    "\n",
    "Rock:\n",
    "```\n",
    "   .----.\n",
    "  / ~   \\\\\n",
    "  \\  ~   /\n",
    "   `----'\n",
    "```\n",
    "Paper:\n",
    "```\n",
    "    ______\n",
    "   /     /\n",
    "  /     /\n",
    " /_____/\n",
    "```\n",
    "Scissors:\n",
    "```\n",
    "  \\ /\n",
    "   X\n",
    "  O O\n",
    "\n",
    "```\n",
    "\n",
    "## 3.3 Keep score!\n",
    "\n",
    "Add to variables: `player_score` and `cpu_score` and keep track of the winner at the end of each round!"
   ]
  },
  {
   "cell_type": "code",
   "execution_count": null,
   "metadata": {},
   "outputs": [],
   "source": [
    "# Try each of the 3 challenges!\n",
    "import random\n",
    "\n",
    "# 3.1 Add a loop\n",
    "\n",
    "while ______ :\n",
    "    \n",
    "    # Get player and CPU moves\n",
    "    player = input(\"_______\")\n",
    "    cpu = random.choice( [\"_____\",\"_____\",\"______\"])\n",
    "\n",
    "    # 3.2 Print ASCII art of the moves\n",
    "    # (insert code here)\n",
    "\n",
    "    # Check player vs CPU moves\n",
    "    # (Insert code here)\n",
    "\n",
    "    # 3.3 Keep track and print updated scores\n",
    "    # (Insert code here)"
   ]
  },
  {
   "cell_type": "markdown",
   "metadata": {},
   "source": [
    "# 4. Sample Code for Base Game\n",
    "\n",
    "```\n",
    "import random\n",
    "\n",
    "player = input(\"your move (rock, paper, scissors): \")\n",
    "cpu = random.choice( [\"rock\",\"paper\",\"scissors\"])\n",
    "\n",
    "print (\"CPU plays \" + cpu)\n",
    "\n",
    "if player == \"rock\" :\n",
    "    if cpu == \"rock\":\n",
    "        print (\"tie!\")\n",
    "    elif cpu == \"paper\":\n",
    "        print (\"you lose!\")\n",
    "    else :\n",
    "        print (\"you win!\")\n",
    "elif player == \"paper\" :\n",
    "    if cpu == \"rock\":\n",
    "        print (\"you win!\")\n",
    "    elif cpu == \"paper\":\n",
    "        print (\"tie!\")\n",
    "    else :\n",
    "        print (\"you lost!\")\n",
    "elif player == \"scissors\" :\n",
    "    if cpu == \"rock\":\n",
    "        print (\"you lose!\")\n",
    "    elif cpu == \"paper\":\n",
    "        print (\"you win!\")\n",
    "    else :\n",
    "        print (\"tie!\")\n",
    "else :\n",
    "    print (\"you didn't enter rock, paper, or scissors. You lose!\")\n",
    "```"
   ]
  }
 ],
 "metadata": {
  "kernelspec": {
   "display_name": "Python 3",
   "language": "python",
   "name": "python3"
  },
  "language_info": {
   "codemirror_mode": {
    "name": "ipython",
    "version": 3
   },
   "file_extension": ".py",
   "mimetype": "text/x-python",
   "name": "python",
   "nbconvert_exporter": "python",
   "pygments_lexer": "ipython3",
   "version": "3.8.5"
  }
 },
 "nbformat": 4,
 "nbformat_minor": 2
}
