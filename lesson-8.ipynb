{
 "cells": [
  {
   "cell_type": "code",
   "execution_count": 1,
   "metadata": {},
   "outputs": [
    {
     "data": {
      "text/html": [
       "<style>div.run_this_cell{display:block;}</style>\n"
      ],
      "text/plain": [
       "<IPython.core.display.HTML object>"
      ]
     },
     "metadata": {},
     "output_type": "display_data"
    }
   ],
   "source": [
    "%%html\n",
    "<style>div.run_this_cell{display:block;}</style>"
   ]
  },
  {
   "cell_type": "markdown",
   "metadata": {},
   "source": [
    "<img style=\"float:right;margin-left:50px;margin-right:50px;\" width=\"300\" src=\"images/discovercoding.png\">\n",
    "\n",
    "# Discover Python with Callysto\n",
    "Lesson created and taught by [Discover Coding](https://discovercoding.ca).\n",
    "\n",
    "With support and funding from [Callysto](https://callysto.ca/) and the [Pacific Institute for Mathematical Sciences](https://www.pims.math.ca/)\n",
    "\n",
    "# Lesson 8: Keeping it Real\n",
    "\n",
    "In this lesson, we'll apply our python code in a *real* and *physical* computing device, called a **micro:bit**.\n",
    "\n",
    "We'll use many of our previous coding concepts:\n",
    "- import\n",
    "- print\n",
    "- random\n",
    "- conditionals\n"
   ]
  },
  {
   "cell_type": "markdown",
   "metadata": {},
   "source": [
    "# 1. What is a micro:bit?\n",
    "\n",
    "a micro:bit is a simple computer that has a simple display, two buttons, an accelerometer, and many more connectors and sensors. Most importantly for us, it can be programmed using Python!\n",
    "\n",
    "## 1.1 Connect Your micro:bit\n",
    "\n",
    "Let's jump right into it! First, connect your micro:bit with a USB cable\n",
    "\n",
    "[image]\n",
    "\n",
    "## 1.2 Use the MicroPython editor\n",
    "\n",
    "Next, goto to https://python.microbit.org/v/2.0. \n",
    "\n",
    "**NOTE** This must be done using the Google Chrome browser.\n",
    "\n",
    "[image]\n",
    "\n",
    "This is our Python editor, specially designed to talk to the micro:bit. \n",
    "\n",
    "Take a look at the Python code, can you guess what it does?\n",
    "\n",
    "## 1.3 Connect!\n",
    "\n",
    "Press the Connect button [image]. This will use **WebUSB**, which is a special *javascript* program to connect your USB device (micro:bit) to Chrome.\n",
    "\n",
    "## 1.4 Flash!\n",
    "\n",
    "Finally, press the Flash button [image]. \n",
    "\n",
    "This copies the Python code into your micro:bit to run!\n",
    "\n",
    "When it's done, take a look at your micro:bit. Is it doing what you expected?"
   ]
  },
  {
   "cell_type": "markdown",
   "metadata": {},
   "source": [
    "# 2. MicroPython\n",
    "\n",
    "So, we just loaded a default Python program into our micro:bit. Now, its time to write our own! \n",
    "\n",
    "The Python code we use with the micro:bit has the same syntax and logic as what we've done so far, but we just need to use a couple of special functions unique for the micro:bit.\n"
   ]
  },
  {
   "cell_type": "markdown",
   "metadata": {},
   "source": [
    "## 2.1 Import\n",
    "\n",
    "First, we need to import micro:bit libraries:\n",
    "\n",
    "`from microbit import *`\n",
    "   "
   ]
  },
  {
   "cell_type": "markdown",
   "metadata": {},
   "source": [
    "## 2.2 While Loop\n",
    "\n",
    "The micro:bit will run whatever code you *flash* onto it right away. \n",
    "\n",
    "So if you write some code for it, and want it to keep running, we can use an *infinite loop*:\n",
    "\n",
    "`while True:`\n",
    "\n",
    "It's also sometimes a good idea to put a little pause at the end of the loop before we run our program over again.\n",
    "\n",
    "### 2.2.1 The Reset Button\n",
    "\n",
    "**HINT** If we don't use a while loop, we can also use the **reset** button on the micro:bit to restart our program.\n",
    "\n",
    "[image]"
   ]
  },
  {
   "cell_type": "markdown",
   "metadata": {},
   "source": [
    "## 2.3 Print\n",
    "\n",
    "Instead of using `print()`, we only have a 5 x 5 LED screen, so we can scroll a message using:\n",
    "\n",
    "`display.scroll(\"message\")`\n",
    "\n",
    "Or we can display a pre-made image:\n",
    "\n",
    "`display.show(Image.SOMETHING)`\n",
    "\n",
    "Here's a list of possible `Image.SOMETHING`s:\n",
    "\n",
    "- Image.HAPPY\n",
    "- Image.SAD\n",
    "- Image.YES\n",
    "- Image.NO\n",
    "- Image.COW\n",
    "- Image.DUCK\n",
    "\n",
    "and many, many more! For a full list, see the [micro:bit documentation page](https://microbit-micropython.readthedocs.io/en/v1.0.1/display.html)"
   ]
  },
  {
   "cell_type": "markdown",
   "metadata": {},
   "source": [
    "# 3. Buttons\n",
    "\n",
    "So that's the basics with the default program. Let's make it more interesting...\n",
    "\n",
    "Previously, we used `input()` as a way for a user to interact with our program. For the micro:bit, we'll use two simple buttons instead! The buttons already have a special variable created for them:\n",
    "\n",
    "`button_a` and `button_b`\n",
    "\n",
    "We can call a special function `is_pressed()` on these two variables. This will return `True` or `False`, depending on if the button is pressed.\n",
    "\n",
    "## Activity 3.1: Controllable Images\n",
    "\n",
    "So, let's use the buttons to display a different image OR scroll and image when a button is pressed.\n",
    "\n",
    "Inside your while loop, let's add the following conditionals:\n",
    "\n",
    "`if button_a.is_pressed():`\n",
    "\n",
    "and\n",
    "\n",
    "`if button_b.is_pressed():`\n",
    "\n",
    "*Can you add them so that **button_a** makes a message scroll; and **button_b** shows an image?\n"
   ]
  },
  {
   "cell_type": "markdown",
   "metadata": {},
   "source": [
    "# 4. Diamond, Sword, Shirt\n",
    "\n",
    "Just like normal Python code, we can import other modules, like `import random` to make our programs more interesting.\n",
    "\n",
    "The micro:bit also has an *accelerometer* to measure how the micro:bit is moved. For this class, we will call a special function to check if the micro:bit was *shaken*:\n",
    "\n",
    "`if accelerometer.was_gesture(\"shake\"):`\n",
    "\n",
    "Let's combine these two ideas to make our micro:bit play ~~ROCK, PAPER, SCISSORS~~ **Diamond, Sword, Shirt**. When we shake the microbit, we will generate a random number, and then display one of the 3 images.\n",
    "\n",
    "Here's how:\n",
    "\n",
    "## 4.1 Code Snippet 1:\n",
    "\n",
    "First, let's import the random module:\n",
    "\n",
    "`import random`\n",
    "\n",
    "## 4.2 Code Snippet 2:\n",
    "\n",
    "Next, let's add a conditional inside the loop to check if micro:bit was shaken:\n",
    "\n",
    "`if accelerometer.was_gesture(\"shake\"):`\n",
    "\n",
    "## 4.3 Code Snippet 3:\n",
    "\n",
    "Inside that conditional, let's generate a random number between 0 and 3.\n",
    "\n",
    "`action = random.randint(0,3)`\n",
    "\n",
    "## 4.4 Code Snippet 4:\n",
    "\n",
    "Finally, create an `if`-`elif`-`else` block that displays a different image, depending on if `action` was `0`, `1`, or `2`.\n",
    "\n",
    "The images that we can use for our game are:\n",
    "\n",
    "`Images.DIAMOND`\n",
    "\n",
    "`Images.SWORD`\n",
    "\n",
    "`Images.TSHIRT`\n",
    "\n",
    "If you need extra help, take a look a the regular python code below:"
   ]
  },
  {
   "cell_type": "code",
   "execution_count": 4,
   "metadata": {},
   "outputs": [
    {
     "name": "stdout",
     "output_type": "stream",
     "text": [
      "Shirt\n"
     ]
    }
   ],
   "source": [
    "# RUN ME\n",
    "# Your MicroPython code will look a little bit different\n",
    "import random\n",
    "\n",
    "while True:\n",
    "    action = random.randint(0,3)\n",
    "    if action == 0 :\n",
    "        print (\"Diamond\")\n",
    "    elif action == 1 :\n",
    "        print (\"Sword\")\n",
    "    else :\n",
    "        print (\"Shirt\")\n",
    "        \n",
    "    break # This will not be in your MicroPython code"
   ]
  },
  {
   "cell_type": "markdown",
   "metadata": {},
   "source": [
    "## 4.5 Extra Tweak\n",
    "\n",
    "Sometimes, if you shake, the same image will show up, and so it looks like nothing happened.\n",
    "\n",
    "We can make each \"shake\" more distinct by clearing the display for just a little bit before we show the next image.\n",
    "\n",
    "Add the following code *right before* we get a new random number:\n",
    "\n",
    "`display.clear()`\n",
    "\n",
    "`sleep(250)`"
   ]
  },
  {
   "cell_type": "markdown",
   "metadata": {},
   "source": [
    "# 5. Final Code\n",
    "\n",
    "    # DIAMOND, SWORD, SHIRT on the microbit\n",
    "    from microbit import *\n",
    "    import random\n",
    "\n",
    "    while True:\n",
    "\n",
    "        if accelerometer.was_gesture(\"shake\"):\n",
    "            display.clear()\n",
    "            sleep(250)\n",
    "            action = random.randint(0,3)\n",
    "            if action == 1 :\n",
    "                display.show(Image.DIAMOND)\n",
    "            elif action == 2 :\n",
    "                display.show(Image.SWORD)\n",
    "            else :\n",
    "                display.show(Image.TSHIRT)\n",
    "\n",
    "        if button_a.is_pressed():\n",
    "            display.show(Image.HAPPY)\n",
    "\n",
    "        if button_b.is_pressed():\n",
    "            display.show(Image.SAD)\n",
    "\n",
    "        sleep(10)\n"
   ]
  }
 ],
 "metadata": {
  "kernelspec": {
   "display_name": "Python 3",
   "language": "python",
   "name": "python3"
  },
  "language_info": {
   "codemirror_mode": {
    "name": "ipython",
    "version": 3
   },
   "file_extension": ".py",
   "mimetype": "text/x-python",
   "name": "python",
   "nbconvert_exporter": "python",
   "pygments_lexer": "ipython3",
   "version": "3.7.5"
  }
 },
 "nbformat": 4,
 "nbformat_minor": 2
}
