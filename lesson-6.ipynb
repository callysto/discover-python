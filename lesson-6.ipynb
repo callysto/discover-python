{
 "cells": [
  {
   "cell_type": "code",
   "execution_count": null,
   "metadata": {},
   "outputs": [],
   "source": [
    "%%html\n",
    "<style>div.run_this_cell{display:block;}</style>"
   ]
  },
  {
   "cell_type": "markdown",
   "metadata": {},
   "source": [
    "<img style=\"float:right;margin-left:50px;margin-right:50px;\" width=\"300\" src=\"images/discovercoding.png\">\n",
    "\n",
    "# Discover Python with Callysto\n",
    "Lesson created and taught by [Discover Coding](https://discovercoding.ca).\n",
    "\n",
    "With support and funding from [Callysto](https://callysto.ca/) and the [Pacific Institute for Mathematical Sciences](https://www.pims.math.ca/)\n",
    "\n",
    "# Lesson 6: Drawing with Turtle\n",
    "\n",
    "In this lesson we will use a special library, called **turtle**, to draw lines and colors to create shapes and **graphics** with *code*!"
   ]
  },
  {
   "cell_type": "markdown",
   "metadata": {},
   "source": [
    "<img style=\"float:right;margin-left:80px;margin-right:50px;\" width=\"500\" src=\"images/codereuse.jpg\">\n",
    "\n",
    "# 1. Turtle Library\n",
    "\n",
    "In _**ALL**_ programming languages, we want to *re-use* code. \n",
    "\n",
    "We want to use *existing* code that has already been written to solve some problem, so that we don't have to solve it over again!\n",
    "\n",
    "There are many ways to re-use code. One way is to *Copy and Paste* from an old project in a new one.\n",
    "\n",
    "A better way for big projects is to *import* a *library*.\n",
    "\n",
    "<div style=\"clear:both;\"></div>\n",
    "\n",
    "In this project, we will import a `Turtle` library to draw lines and shapes using Python.\n",
    "\n",
    "<img width=\"300\" src=\"images/shapes.jpg\">\n",
    "\n",
    "To get started, we will use this special line of code:\n",
    "\n",
    "`from mobilechelonian import Turtle`\n",
    "\n",
    "Try to copy, paste and run that code to see what happens"
   ]
  },
  {
   "cell_type": "code",
   "execution_count": null,
   "metadata": {},
   "outputs": [],
   "source": [
    "# COPY, PASTE, and RUN the above code to create Turtle\n"
   ]
  },
  {
   "cell_type": "markdown",
   "metadata": {},
   "source": [
    "Was that *EXCITING*? No. It didn't do anything. We just imported a library. \n",
    "\n",
    "Now, we have create a new `Turtle()`, and use _**methods**_ to tell the turtle what to do.\n",
    "\n",
    "Pick a variable name for your turtle and create him or her like this:\n",
    "\n",
    "`speedyFred = Turtle()`\n",
    "\n",
    "Now you try:"
   ]
  },
  {
   "cell_type": "code",
   "execution_count": null,
   "metadata": {},
   "outputs": [],
   "source": [
    "from mobilechelonian import Turtle\n",
    "\n",
    "# WRITE YOUR OWN CODE - create a Turtle()\n"
   ]
  },
  {
   "cell_type": "markdown",
   "metadata": {},
   "source": [
    "# 2. Turtle's world\n",
    "\n",
    "You've created your first Turtle! \n",
    "\n",
    "Before we move it, let's take a look at the world your turtle lives in -- it's a very basic place that is 400 units across in the `x` and `y` directions.\n",
    "\n",
    "Your turtle's `home()` is at `(200,200)`.\n",
    "\n",
    "<img width=\"400\" src=\"images/turtlecanvas.jpg\">\n",
    "\n",
    "In the next example, we created a new turtle for you. Try moving it to a couple of positions."
   ]
  },
  {
   "cell_type": "code",
   "execution_count": null,
   "metadata": {},
   "outputs": [],
   "source": [
    "from mobilechelonian import Turtle\n",
    "\n",
    "# FILL IN THE BLANKS\n",
    "\n",
    "# Create a new turtle\n",
    "speedyFred = Turtle()\n",
    "speedyFred.speed(10)\n",
    "speedyFred.setposition( __ , __ )\n",
    "speedyFred.setposition( __ , __ )\n",
    "speedyFred.setposition( __ , __ )"
   ]
  },
  {
   "cell_type": "markdown",
   "metadata": {},
   "source": [
    "# 3. Turtle *Methods*\n",
    "\n",
    "The **Turtle** *class* has some *methods* we can call to tell our turtle what to do. You've seen two methods so far. Here's the full list. \n",
    "\n",
    "<img style=\"float:right;margin-left:30px;margin-right:30px;\" width=\"230\" src=\"images/attention.png\">\n",
    "\n",
    "_**This is an important REFERENCE section!!**_\n",
    "\n",
    "1. **SPEED**\n",
    "    * `speedyFred.speed(number)`\n",
    "    * Sets the speed of our turtle, between 1-10. \n",
    "    * 10 is usually a good speed ;)\n",
    "\n",
    "1. **MOVE ANYWHERE**\n",
    "    * `speedyFred.setposition(x, y)`\n",
    "    * Moves our turtle to an `x`,`y` location\n",
    "    * `x` and `y` should be between 0-400\n",
    "\n",
    "1. **MOVE HOME**\n",
    "    * `speedyFred.home()` : Moves the turtle home, at (200,200).\n",
    "\n",
    "1. **MOVE** \n",
    "    * `speedyFred.forward(number)` : Move our turtle forward\n",
    "    * `speedyFred.backward(number)` : Moves our turtle backward \n",
    "\n",
    "1. **TURN** \n",
    "    * `speedyFred.right(degrees)` : Turn turtle left\n",
    "    * `speedyFred.left(degrees)` : Turn turtle right \n",
    "    * degrees should between 0 to 360\n",
    "\n",
    "1. **CIRCLE**\n",
    "    * `speedyFred.circle(radius, degrees)`\n",
    "    * The turtle can draw a circle\n",
    "    * `radius` is the size of the circle\n",
    "    * `degrees` is how much of the circle to draw, between 0 to 360.\n",
    "        * 90 is a quarter-circle.\n",
    "        * 180 is a half-circle.\n",
    "        * 360 is a full-circle.\n",
    "\n",
    "1. **PEN**\n",
    "    * Our turtle is like a pen. \n",
    "    * `speedyFred.penup()` : lift *UP* pen, stops drawing when turtle moves\n",
    "    * `speedyFred.pendown()` : put pen *DOWN*, starts drawing when turtle moves\n",
    "<img style=\"float:right;margin-left:30px;margin-right:30px;\" width=\"230\" src=\"images/attention.png\">\n",
    "\n",
    "1. **COLOR**\n",
    "    * `speedyFred.pencolor('color')` : \n",
    "    * Sets the color of the turtle’s line. \n",
    "    * The color can be a [color name from this list](https://www.w3schools.com/tags/ref_colornames.asp)\n",
    "    * Or it can be mix of RED, GREEN, BLUE values: `rgb(RED, GREEN, BLUE)`\n",
    "        - **For Example**\n",
    "        - `speedyFred.pencolor('red')`\n",
    "        - `speedyFred.pencolor('rgb(100,0,255)')`\n",
    "\n",
    "\n",
    "**OK**, that's EVERYTHING we have to use to draw with Turtle.\n",
    "\n",
    "**REMEMBER** the code above uses `speedyFred` as the turtle name. **YOUR** turtle will have a different name.\n",
    "\n"
   ]
  },
  {
   "cell_type": "markdown",
   "metadata": {},
   "source": [
    "### *3.1 Basic Movement*\n",
    "\n",
    "Let's try using some of the methods to do basic movements:"
   ]
  },
  {
   "cell_type": "code",
   "execution_count": null,
   "metadata": {},
   "outputs": [],
   "source": [
    "from mobilechelonian import Turtle\n",
    "\n",
    "# FILL IN THE BLANKS\n",
    "lazyLeo = Turtle()\n",
    "lazyLeo.speed(3)\n",
    "lazyLeo.forward(__)\n",
    "lazyLeo.left(__)\n",
    "lazyLeo.forward(__)\n",
    "lazyLeo.right(__)\n",
    "lazyLeo.backward(__)"
   ]
  },
  {
   "cell_type": "markdown",
   "metadata": {},
   "source": [
    "### *3.2 Shape Challenges*\n",
    "\n",
    "Now, we have the basics, let's try to get challenged with some basic shapes.\n",
    "\n",
    "Can you draw these shapes?\n",
    "\n",
    "<img width=\"600\" src=\"images/challengeshapes.jpg\">\n",
    "\n",
    "**NOTE** If you create multiple turtles, you will create multiple, separate images.\n"
   ]
  },
  {
   "cell_type": "code",
   "execution_count": null,
   "metadata": {},
   "outputs": [],
   "source": [
    "from mobilechelonian import Turtle\n",
    "\n",
    "# CHALLENGE: Create the shapes above\n"
   ]
  },
  {
   "cell_type": "markdown",
   "metadata": {},
   "source": [
    "### *3.3 Shape Challenges - only one turtle*\n",
    "\n",
    "**Now** can you create those same three shapes *WITH **ONLY** ONE TURTLE?*\n",
    "\n",
    "**HINT** Use `penup()` `setposition(x,y)` `pendown()` to move the pen without drawing. \n",
    "\n",
    "This will let you draw shapes in different parts of the screen.\n"
   ]
  },
  {
   "cell_type": "code",
   "execution_count": null,
   "metadata": {},
   "outputs": [],
   "source": [
    "from mobilechelonian import Turtle\n",
    "\n",
    "# CHALLENGE: Create the shapes above\n"
   ]
  },
  {
   "cell_type": "markdown",
   "metadata": {},
   "source": [
    "<img style=\"float:right;margin-left:30px;\" width=\"300\" src=\"images/face.jpg\">\n",
    "\n",
    "# 4. What Else Can You Draw?\n",
    "\n",
    "Remember, to draw shapes that don't \"touch\" each other, use:\n",
    "\n",
    "`penup()` to stop drawing\n",
    "\n",
    "`setposition(x,y)` to move somewhere else\n",
    "\n",
    "`pendown()` to resume drawing\n",
    "\n",
    "Try using different angles and colors to create interesting drawings!"
   ]
  },
  {
   "cell_type": "code",
   "execution_count": null,
   "metadata": {},
   "outputs": [],
   "source": [
    "from mobilechelonian import Turtle\n",
    "\n",
    "# DRAW YOUR OWN SHAPES with Turtle!\n"
   ]
  }
 ],
 "metadata": {
  "kernelspec": {
   "display_name": "Python 3",
   "language": "python",
   "name": "python3"
  },
  "language_info": {
   "codemirror_mode": {
    "name": "ipython",
    "version": 3
   },
   "file_extension": ".py",
   "mimetype": "text/x-python",
   "name": "python",
   "nbconvert_exporter": "python",
   "pygments_lexer": "ipython3",
   "version": "3.7.5"
  }
 },
 "nbformat": 4,
 "nbformat_minor": 2
}
