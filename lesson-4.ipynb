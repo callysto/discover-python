{
 "cells": [
  {
   "cell_type": "code",
   "execution_count": null,
   "metadata": {},
   "outputs": [],
   "source": [
    "%%html\n",
    "<style>div.run_this_cell{display:block;}</style>"
   ]
  },
  {
   "cell_type": "markdown",
   "metadata": {},
   "source": [
    "<img style=\"float:right;margin-left:50px;margin-right:50px;\" width=\"300\" src=\"images/discovercoding.png\">\n",
    "\n",
    "# Discover Python with Callysto\n",
    "Lesson created and taught by [Discover Coding](https://discovercoding.ca).\n",
    "\n",
    "With support and funding from [Callysto](https://callysto.ca/) and the [Pacific Institute for Mathematical Sciences](https://www.pims.math.ca/)\n",
    "\n",
    "# Lesson 4: Lists and Loops\n",
    "\n",
    "This lesson will explore more:\n",
    "- lists using `[` `,` `]`\n",
    "- `for` loops\n",
    "- strings as a special kind of list\n",
    "\n",
    "<img style=\"float:right;margin-left:50px;margin-right:50px;\" width=\"400\" src=\"images/list.jpg\">\n",
    "\n",
    "# 1. Lists\n",
    "\n",
    "A *list* (sometimes called an *array* in other programming languages) is just like what it sounds like in real life. It's a ordered collection of *\"things\"* -- strings, numbers, variable, and even other lists!\n",
    "\n",
    "Lists are useful for keeping track of multiple things without having lots of variables. \n",
    "\n",
    "## 1.1 Creating a List\n",
    "\n",
    "In Python, lists are very simple to make. We use three symbols:\n",
    "- `[` is the start of a list\n",
    "- `,` separates the items in a list\n",
    "- `]` is the end of a list\n",
    "\n",
    "Here's what list can look like:\n",
    "\n",
    "    emptyList = [ ]\n",
    "    breakfastFoods = [ \"cereal\", \"eggs\", \"yogurt\" ]\n",
    "\n",
    "Here's what we just created:\n",
    "\n",
    "<img width=\"500\" src=\"images/breakfastfoods.jpg\">\n",
    "\n",
    "\n",
    "### *Activity 1.2 Make Some Lists*\n",
    "\n",
    "Now you try! **Can you make a list of four (4) colors?**"
   ]
  },
  {
   "cell_type": "code",
   "execution_count": null,
   "metadata": {},
   "outputs": [],
   "source": [
    "# FILL IN THE BLANKS\n",
    "colorList = [ \"____\", \"_____\", \"_____\", \"_____\" ]\n",
    "print( colorList )"
   ]
  },
  {
   "cell_type": "markdown",
   "metadata": {},
   "source": [
    "*Can you make a **shopping list** of at least three (3) school supplies?\"*\n"
   ]
  },
  {
   "cell_type": "code",
   "execution_count": null,
   "metadata": {},
   "outputs": [],
   "source": [
    "# WRITE YOUR OWN CODE\n",
    "# make a list called shoppingList, then print it\n",
    "______ = [ __________ ]\n",
    "print( shoppingList )"
   ]
  },
  {
   "cell_type": "markdown",
   "metadata": {},
   "source": [
    "We can store **numbers** in the list too! \n",
    "\n",
    "Can you make **a list temperatures** that each day of Spring Break will be?"
   ]
  },
  {
   "cell_type": "code",
   "execution_count": null,
   "metadata": {},
   "outputs": [],
   "source": [
    "# WRITE YOUR OWN CODE\n",
    "# make a list called springBreakTemps, then print it\n",
    "______ = \n",
    "print( springBreakTemps )"
   ]
  },
  {
   "cell_type": "markdown",
   "metadata": {},
   "source": [
    "## 1.1 Adding Items \n",
    "\n",
    "We can *add items* to the end of a list using `append()`\n",
    "\n",
    "<img width=\"600\" src=\"images/append.jpg\">\n",
    "\n",
    "Let's use a `while` loop and `input()` to add more items to our shoppingList. We'll keep adding items until the user enters a blank input."
   ]
  },
  {
   "cell_type": "code",
   "execution_count": null,
   "metadata": {},
   "outputs": [],
   "source": [
    "# RUN ME\n",
    "while True :\n",
    "    item = input(\"Add to shopping list: \")\n",
    "    if item == \"\" :\n",
    "        break\n",
    "    else :\n",
    "        shoppingList.append( item )"
   ]
  },
  {
   "cell_type": "markdown",
   "metadata": {},
   "source": [
    "Let's print the list to make sure things were added."
   ]
  },
  {
   "cell_type": "code",
   "execution_count": null,
   "metadata": {},
   "outputs": [],
   "source": [
    "# FILL IN THE BLANK\n",
    "print( _______ )"
   ]
  },
  {
   "cell_type": "markdown",
   "metadata": {},
   "source": [
    "## 1.2 Removing Items \n",
    "\n",
    "We can *remove items* from a list using `remove()`\n",
    "\n",
    "As you goto the store and buy your supplies, you'll remove things from your shopping list. Let's use a `while()` loop and `input()` to ask for things to remove as you buy them. Again, we'll stop when the user enters a blank input."
   ]
  },
  {
   "cell_type": "code",
   "execution_count": null,
   "metadata": {},
   "outputs": [],
   "source": [
    "# FILL IN THE BLANKS\n",
    "while True :\n",
    "    item = input(\"Remove from shopping list: \")\n",
    "    if item == \"\" :\n",
    "        break\n",
    "    else :\n",
    "        shoppingList._______( ____ )"
   ]
  },
  {
   "cell_type": "markdown",
   "metadata": {},
   "source": [
    "Let's check the list to make sure things were removed."
   ]
  },
  {
   "cell_type": "code",
   "execution_count": null,
   "metadata": {},
   "outputs": [],
   "source": [
    "# WRITE YOUR OWN CODE:\n",
    "#   print the shopping list\n"
   ]
  },
  {
   "cell_type": "markdown",
   "metadata": {},
   "source": [
    "## 1.3 Modify Items\n",
    "\n",
    "So we've seen how we can *add* to the end of a list; or *remove* an item from a list. \n",
    "\n",
    "But, what if we want to *read* or *change* an item in the middle of the list? \n",
    "\n",
    "- First, we use `index()` to find out **WHERE** in the list something is\n",
    "- Then, we use `[ number ]` to read or modify the item.\n",
    "\n",
    "Here's an example of the indexes of the items in the `shoppingList`:\n",
    "\n",
    "<img width=\"600\" src=\"images/index.jpg\">\n",
    "\n",
    "The **index** start at zero (0); that is, the **first** item in a list, has index `[0]`\n",
    "\n",
    "Or put another way, the **index** is how many spots I need to count **from the start of the list**.\n",
    "\n",
    "Let's try finding the index of items in our shopping list:"
   ]
  },
  {
   "cell_type": "code",
   "execution_count": null,
   "metadata": {},
   "outputs": [],
   "source": [
    "# RUN ME\n",
    "item = input( \"What item would you like to look for? \")\n",
    "if item in shoppingList :\n",
    "    index = shoppingList.index( item )\n",
    "    print( \"item is at index: \" + str(index) )\n",
    "else :\n",
    "    print( \"item not found\" )"
   ]
  },
  {
   "cell_type": "markdown",
   "metadata": {},
   "source": [
    "Now that we have the index, let's try setting a new value for the item at that index.\n",
    "For example, here's how we modify the *FIRST* item in the list:"
   ]
  },
  {
   "cell_type": "code",
   "execution_count": null,
   "metadata": {},
   "outputs": [],
   "source": [
    "# RUN ME\n",
    "print( \"Old first item: \" + shoppingList[0] )\n",
    "shoppingList[0] = \"crayons\"\n",
    "print( \"New first item: \" + shoppingList[0] )"
   ]
  },
  {
   "cell_type": "markdown",
   "metadata": {},
   "source": [
    "Now **you** try. Change the item using `index` and print `shoppingList`"
   ]
  },
  {
   "cell_type": "code",
   "execution_count": null,
   "metadata": {},
   "outputs": [],
   "source": [
    "# FILL THE BLANKS\n",
    "shoppingList[ _______ ] = \"________\"\n",
    "print( shoppingList )"
   ]
  },
  {
   "cell_type": "markdown",
   "metadata": {},
   "source": [
    "# 2. \"for\" Loops\n",
    "\n",
    "Previously, we learned to use a `while` loop to run code over and over and over, until a condition is `False` or we reach a `break`. \n",
    "\n",
    "But a `for` loop makes it **EASIER** for us to loop through each *item* in a *list*.\n",
    "\n",
    "<img width=\"600\" src=\"images/listforloop.gif\">\n",
    "\n",
    "Here's an example:"
   ]
  },
  {
   "cell_type": "code",
   "execution_count": null,
   "metadata": {},
   "outputs": [],
   "source": [
    "# RUN ME\n",
    "# print each item in the colorList we created earlier\n",
    "for color in colorList :\n",
    "    print( color )"
   ]
  },
  {
   "cell_type": "markdown",
   "metadata": {},
   "source": [
    "Now, you try. Let's print each item in the shopping list separately."
   ]
  },
  {
   "cell_type": "code",
   "execution_count": null,
   "metadata": {},
   "outputs": [],
   "source": [
    "# FILL IN THE BLANKS\n",
    "for _____ in _____ :\n",
    "    print( ______ )"
   ]
  },
  {
   "cell_type": "markdown",
   "metadata": {},
   "source": [
    "<img style=\"float:left;margin-left:50px;margin-right:50px;\" width=\"400\" src=\"images/charlist.jpg\">\n",
    "\n",
    "## *2.1 More Lists and Loops*\n",
    "\n",
    "Let's practice making more lists. First let's make one using `[` and `]`.\n",
    "\n",
    "Can you make a **LIST** of **your favorite books or movies**\n",
    "\n"
   ]
  },
  {
   "cell_type": "code",
   "execution_count": null,
   "metadata": {},
   "outputs": [],
   "source": [
    "# FILL IN THE BLANKS\n",
    "bestBooks = [ ___________ ]"
   ]
  },
  {
   "cell_type": "markdown",
   "metadata": {},
   "source": [
    "Now, let's make **an empty** list and `append()` to it using `input()`\n",
    "\n",
    "Can you make a **LIST** of **your favorite characters**"
   ]
  },
  {
   "cell_type": "code",
   "execution_count": null,
   "metadata": {},
   "outputs": [],
   "source": [
    "# FILL IN THE BLANKS\n",
    "\n",
    "# Make an EMPTY list\n",
    "bestCharacters = _____\n",
    "\n",
    "# Ask user for input\n",
    "while True :\n",
    "    character = input( \"Enter a cool character: \")\n",
    "    if character == \"\" :\n",
    "        break\n",
    "    else\n",
    "        # APPEND the character to the list\n",
    "        bestCharacters.________( character )"
   ]
  },
  {
   "cell_type": "markdown",
   "metadata": {},
   "source": [
    "Let's use a `for` loop to print the characters and books (or movies):"
   ]
  },
  {
   "cell_type": "code",
   "execution_count": null,
   "metadata": {},
   "outputs": [],
   "source": [
    "# FILL IN THE BLANKS - print characters\n",
    "\n",
    "for character in bestCharacters __\n",
    "    print ( _______ )"
   ]
  },
  {
   "cell_type": "code",
   "execution_count": null,
   "metadata": {},
   "outputs": [],
   "source": [
    "# FILL IN THE BLANKS - print best books or movies\n",
    "\n",
    "for _______ in _________ :\n",
    "    print ___________"
   ]
  },
  {
   "cell_type": "markdown",
   "metadata": {},
   "source": [
    "# 3. Strings as Lists\n",
    "\n",
    "Strings are like a special kind of list - it's a list of single characters! \n",
    "\n",
    "For example, you can think of `name = \"discover coding\"` to look like this:\n",
    "\n",
    "<img width=\"600\" src=\"images/namestring.jpg\">\n",
    "\n",
    "We can do **SOME** of the same *list* operations on a string, like:\n",
    "\n",
    "- get the `.index()` of a letter \n",
    "- use `for` to loop through each letter\n",
    "- use `[ number ]` to **READ** a letter at an index\n",
    "\n",
    "Let's try experimenting with it. First, let's create a variable with your name:"
   ]
  },
  {
   "cell_type": "code",
   "execution_count": null,
   "metadata": {},
   "outputs": [],
   "source": [
    "# FILL IN THE BLANKS\n",
    "myName = ___________"
   ]
  },
  {
   "cell_type": "markdown",
   "metadata": {},
   "source": [
    "Can you print the FIRST and LAST letters of your name, using an index?\n",
    "\n",
    "**HINT** The index of the *LAST* item in a list is `-1`"
   ]
  },
  {
   "cell_type": "code",
   "execution_count": null,
   "metadata": {},
   "outputs": [],
   "source": [
    "# FILL IN THE BLANKS\n",
    "print( \"My first letter \" + myName[ __ ] )\n",
    "print( \"My last letter \" + myName[ __ ] )"
   ]
  },
  {
   "cell_type": "markdown",
   "metadata": {},
   "source": [
    "**Now**, can you find the *index* of a letter in the middle of your name?"
   ]
  },
  {
   "cell_type": "code",
   "execution_count": null,
   "metadata": {},
   "outputs": [],
   "source": [
    "# FILL IN THE BLANKS\n",
    "letterIndex = myName._____(\" __ \")\n",
    "print( letterIndex )"
   ]
  },
  {
   "cell_type": "markdown",
   "metadata": {},
   "source": [
    "### *CHALLENGE 3.1: Count string length*\n",
    "\n",
    "Let's try counting the number of letters in your name:"
   ]
  },
  {
   "cell_type": "code",
   "execution_count": null,
   "metadata": {},
   "outputs": [],
   "source": [
    "# FILL IN THE BLANKS\n",
    "count = 0\n",
    "\n",
    "# Use a FOR loop to find each letter in myName\n",
    "___ letter in _____ : \n",
    "    count = count + __\n",
    "\n",
    "print( \"my name's length is \" + count )"
   ]
  },
  {
   "cell_type": "markdown",
   "metadata": {},
   "source": [
    "**BONUS** Did you know, there's an easier way to find the length of a list? We just use the function `len()`. \n",
    "\n",
    "Let's try it:"
   ]
  },
  {
   "cell_type": "code",
   "execution_count": null,
   "metadata": {},
   "outputs": [],
   "source": [
    "# FILL IN THE BLANKS\n",
    "nameLength = len( _______ )\n",
    "print( nameLength )"
   ]
  },
  {
   "cell_type": "markdown",
   "metadata": {},
   "source": [
    "## 3.2 String is not EXACTLY a list\n",
    "\n",
    "**IMPORTANT** - A string is *LIKE* a list, but it's NOT the exact same. We **CANNOT** do the following to a string:\n",
    "\n",
    "- cannot use `.append()` to add to a string\n",
    "- cannot use `[ number ]` to **MODIFY** a letter in the string\n",
    "\n",
    "Don't believe it? Give it a try and see the errors!"
   ]
  },
  {
   "cell_type": "code",
   "execution_count": null,
   "metadata": {},
   "outputs": [],
   "source": [
    "# FILL IN THE BLANKS\n",
    "myString = \"____________\""
   ]
  },
  {
   "cell_type": "code",
   "execution_count": null,
   "metadata": {},
   "outputs": [],
   "source": [
    "# Now, try to append\n",
    "myString.append(\"____________\")"
   ]
  },
  {
   "cell_type": "code",
   "execution_count": null,
   "metadata": {},
   "outputs": [],
   "source": [
    "# Now, try to change the first letter in the string\n",
    "myString[ __ ] = \"__\""
   ]
  },
  {
   "cell_type": "markdown",
   "metadata": {},
   "source": [
    "Did `.append()` and changing `[0]` work? If not, can you think of a way to append or change a string?\n",
    "\n",
    "**Hint:** *You need to create a new string and copy only some of the letters of the string."
   ]
  },
  {
   "cell_type": "markdown",
   "metadata": {},
   "source": [
    "### More Information about Lists\n",
    "https://docs.python.org/3/tutorial/datastructures.html#more-on-lists\n",
    "    "
   ]
  }
 ],
 "metadata": {
  "kernelspec": {
   "display_name": "Python 3",
   "language": "python",
   "name": "python3"
  },
  "language_info": {
   "codemirror_mode": {
    "name": "ipython",
    "version": 3
   },
   "file_extension": ".py",
   "mimetype": "text/x-python",
   "name": "python",
   "nbconvert_exporter": "python",
   "pygments_lexer": "ipython3",
   "version": "3.7.5"
  }
 },
 "nbformat": 4,
 "nbformat_minor": 2
}
