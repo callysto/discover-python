{
 "cells": [
  {
   "cell_type": "code",
   "execution_count": 40,
   "metadata": {},
   "outputs": [
    {
     "data": {
      "text/html": [
       "<style>div.run_this_cell{display:block;}</style>\n"
      ],
      "text/plain": [
       "<IPython.core.display.HTML object>"
      ]
     },
     "metadata": {},
     "output_type": "display_data"
    }
   ],
   "source": [
    "%%html\n",
    "<style>div.run_this_cell{display:block;}</style>"
   ]
  },
  {
   "cell_type": "markdown",
   "metadata": {},
   "source": [
    "<img style=\"float:right;margin-left:50px;margin-right:50px;\" width=\"300\" src=\"images/discovercoding.png\">\n",
    "\n",
    "# Discover Python with Callysto\n",
    "Lesson created and taught by [Discover Coding](https://discovercoding.ca).\n",
    "\n",
    "With support and funding from [Callysto](https://callysto.ca/) and the [Pacific Institute for Mathematical Sciences](https://www.pims.math.ca/)\n",
    "\n",
    "# Lesson 4: Caesar Cipher\n",
    "\n",
    "This lesson will explore more:\n",
    "- lists and range\n",
    "- for loops\n",
    "\n",
    "# 1. What is a Caesar Cipher?\n",
    "\n",
    "Also known as Caesar's cipher, it was a way for Julius Caesar to send *encrypted* messages to his military in a way that made it hard for enemy spies to read. \n",
    "\n",
    "For example, if he wanted to *secretly* send a message that said: `hello world`, he would instead write: `khoor zruog`\n",
    "\n",
    "Run the code below to see an example of **Cipher Wheel**. This is used to *create a secret message*. Click the image and move your mouse so that `A` is on the outside of `D`. Now, when you want to send a message, look for the letter on the **outside** of the wheel, and write down the letter from the **inside** of the wheel."
   ]
  },
  {
   "cell_type": "code",
   "execution_count": 41,
   "metadata": {},
   "outputs": [
    {
     "data": {
      "application/javascript": [
       "// code from http://inventwithpython.com/cipherwheel/\n",
       "//$('div.input').hide();\n",
       "$('div.cell.code_cell.rendered.selected div.input').hide();\n",
       "\n",
       "var startRotation = 0;\n",
       "var wheelIsRotating = false;\n",
       "var startAngle = 0;\n",
       "var adjustment = 0;\n",
       "\n",
       "function getAngle(e) {\n",
       "    var wheeloffset = $('#wheelimg').offset();\n",
       "    var wheelwidth = $('#wheelimg').width();\n",
       "    var wheelheight = $('#wheelimg').height();\n",
       "    var originx = wheeloffset.left + (wheelwidth / 2);\n",
       "    var originy = wheeloffset.top + (wheelheight / 2);\n",
       "\n",
       "    var x = e.pageX - originx;\n",
       "    var y = e.pageY - originy;\n",
       "\n",
       "    if (x == 0) {\n",
       "        if (y <= 0) {\n",
       "            return 90.0;\n",
       "        }\n",
       "        else {\n",
       "            return 270.0;\n",
       "        }\n",
       "    }\n",
       "    var slope = (y / x);\n",
       "    var angle = Math.atan( slope ) * (180 / 3.141592);\n",
       "\n",
       "    if (y >= 0 && x >= 0) {\n",
       "        angle = (90 - angle) + 270.0;\n",
       "    }\n",
       "    if (y >= 0 && x < 0) {\n",
       "        angle = -angle + 180.0;\n",
       "    }\n",
       "    if( y < 0 && x < 0) {\n",
       "        angle = (90 - angle) + 90.0;\n",
       "    }\n",
       "    if (y < 0 && x >= 0) {\n",
       "        angle = -angle;\n",
       "    }\n",
       "\n",
       "    if (angle == 360.0) {\n",
       "        return 0.0;\n",
       "    }\n",
       "    else {\n",
       "        return angle;\n",
       "    }\n",
       "}\n",
       "\n",
       "\n",
       "function clickCipherWheel(e) {\n",
       "    var angle = getAngle(e);\n",
       "\n",
       "    if (wheelIsRotating) {\n",
       "        wheelIsRotating = false;\n",
       "        $('#wheelinfo').html('Click wheel to rotate.');\n",
       "        adjustment = parseInt((startAngle - angle) / 6.9230);\n",
       "        startRotation = mod(adjustment + startRotation, 52)\n",
       "        return;\n",
       "    }\n",
       "    else {\n",
       "        startAngle = angle;\n",
       "        wheelIsRotating = true;\n",
       "        $('#wheelinfo').html('Click wheel to stop rotating.');\n",
       "    }\n",
       "}\n",
       "\n",
       "function mod(a, b) {\n",
       "    return ((a % b) + b) % b;\n",
       "}\n",
       "\n",
       "function showRotation(n) {\n",
       "    $('#wheelimg').css('background-position', (n * -400).toString() + 'px 0px');\n",
       "\n",
       "    // # rotate the number line at the bottom:\n",
       "    var notLinedUp = (n % 2 == 1);\n",
       "    var charCode = 65 + Math.floor((52 - n) / 2);\n",
       "    var i = 0;\n",
       "    var s = '';\n",
       "\n",
       "    if (!notLinedUp) {\n",
       "        s += '&nbsp;';\n",
       "    }\n",
       "\n",
       "    while (i < 26) {\n",
       "        if ((charCode - 65) > 25) {\n",
       "            charCode = ((charCode - 65) % 26) + 65;\n",
       "        }\n",
       "\n",
       "        var schar = String.fromCharCode(charCode);\n",
       "\n",
       "        if (charCode == 65) {\n",
       "            s += '&nbsp;<u>' + schar + '</u>&nbsp;';\n",
       "        } else {\n",
       "            if (schar.length == 1) {\n",
       "                schar = '&nbsp;' + schar;\n",
       "            }\n",
       "            s += schar + '&nbsp;';\n",
       "        }\n",
       "        i += 1;\n",
       "        charCode += 1;\n",
       "\n",
       "    }\n",
       "    $('#shiftedLetters').html(s);\n",
       "}\n",
       "\n",
       "function rotateCipherWheel(e) {\n",
       "    if (!wheelIsRotating) {\n",
       "        return;\n",
       "    }\n",
       "    adjustment = parseInt((startAngle - getAngle(e)) / 6.9230);\n",
       "    showRotation(mod(adjustment + startRotation, 52));\n",
       "}\n",
       "\n",
       "$('#wheelimg').mousemove( rotateCipherWheel );\n",
       "$('#wheelimg').click( clickCipherWheel );\n",
       "showRotation(0);\n"
      ],
      "text/plain": [
       "<IPython.core.display.Javascript object>"
      ]
     },
     "metadata": {},
     "output_type": "display_data"
    }
   ],
   "source": [
    "%%javascript\n",
    "// code from http://inventwithpython.com/cipherwheel/\n",
    "//$('div.input').hide();\n",
    "$('div.cell.code_cell.rendered.selected div.input').hide();\n",
    "\n",
    "var startRotation = 0;\n",
    "var wheelIsRotating = false;\n",
    "var startAngle = 0;\n",
    "var adjustment = 0;\n",
    "\n",
    "function getAngle(e) {\n",
    "    var wheeloffset = $('#wheelimg').offset();\n",
    "    var wheelwidth = $('#wheelimg').width();\n",
    "    var wheelheight = $('#wheelimg').height();\n",
    "    var originx = wheeloffset.left + (wheelwidth / 2);\n",
    "    var originy = wheeloffset.top + (wheelheight / 2);\n",
    "\n",
    "    var x = e.pageX - originx;\n",
    "    var y = e.pageY - originy;\n",
    "\n",
    "    if (x == 0) {\n",
    "        if (y <= 0) {\n",
    "            return 90.0;\n",
    "        }\n",
    "        else {\n",
    "            return 270.0;\n",
    "        }\n",
    "    }\n",
    "    var slope = (y / x);\n",
    "    var angle = Math.atan( slope ) * (180 / 3.141592);\n",
    "\n",
    "    if (y >= 0 && x >= 0) {\n",
    "        angle = (90 - angle) + 270.0;\n",
    "    }\n",
    "    if (y >= 0 && x < 0) {\n",
    "        angle = -angle + 180.0;\n",
    "    }\n",
    "    if( y < 0 && x < 0) {\n",
    "        angle = (90 - angle) + 90.0;\n",
    "    }\n",
    "    if (y < 0 && x >= 0) {\n",
    "        angle = -angle;\n",
    "    }\n",
    "\n",
    "    if (angle == 360.0) {\n",
    "        return 0.0;\n",
    "    }\n",
    "    else {\n",
    "        return angle;\n",
    "    }\n",
    "}\n",
    "\n",
    "\n",
    "function clickCipherWheel(e) {\n",
    "    var angle = getAngle(e);\n",
    "\n",
    "    if (wheelIsRotating) {\n",
    "        wheelIsRotating = false;\n",
    "        $('#wheelinfo').html('Click wheel to rotate.');\n",
    "        adjustment = parseInt((startAngle - angle) / 6.9230);\n",
    "        startRotation = mod(adjustment + startRotation, 52)\n",
    "        return;\n",
    "    }\n",
    "    else {\n",
    "        startAngle = angle;\n",
    "        wheelIsRotating = true;\n",
    "        $('#wheelinfo').html('Click wheel to stop rotating.');\n",
    "    }\n",
    "}\n",
    "\n",
    "function mod(a, b) {\n",
    "    return ((a % b) + b) % b;\n",
    "}\n",
    "\n",
    "function showRotation(n) {\n",
    "    $('#wheelimg').css('background-position', (n * -400).toString() + 'px 0px');\n",
    "\n",
    "    // # rotate the number line at the bottom:\n",
    "    var notLinedUp = (n % 2 == 1);\n",
    "    var charCode = 65 + Math.floor((52 - n) / 2);\n",
    "    var i = 0;\n",
    "    var s = '';\n",
    "\n",
    "    if (!notLinedUp) {\n",
    "        s += '&nbsp;';\n",
    "    }\n",
    "\n",
    "    while (i < 26) {\n",
    "        if ((charCode - 65) > 25) {\n",
    "            charCode = ((charCode - 65) % 26) + 65;\n",
    "        }\n",
    "\n",
    "        var schar = String.fromCharCode(charCode);\n",
    "\n",
    "        if (charCode == 65) {\n",
    "            s += '&nbsp;<u>' + schar + '</u>&nbsp;';\n",
    "        } else {\n",
    "            if (schar.length == 1) {\n",
    "                schar = '&nbsp;' + schar;\n",
    "            }\n",
    "            s += schar + '&nbsp;';\n",
    "        }\n",
    "        i += 1;\n",
    "        charCode += 1;\n",
    "\n",
    "    }\n",
    "    $('#shiftedLetters').html(s);\n",
    "}\n",
    "\n",
    "function rotateCipherWheel(e) {\n",
    "    if (!wheelIsRotating) {\n",
    "        return;\n",
    "    }\n",
    "    adjustment = parseInt((startAngle - getAngle(e)) / 6.9230);\n",
    "    showRotation(mod(adjustment + startRotation, 52));\n",
    "}\n",
    "\n",
    "$('#wheelimg').mousemove( rotateCipherWheel );\n",
    "$('#wheelimg').click( clickCipherWheel );\n",
    "showRotation(0);\n"
   ]
  },
  {
   "cell_type": "markdown",
   "metadata": {},
   "source": [
    "\n",
    "<div id=\"wheelimg\" style=\"margin-left: auto; margin-right: auto; width: 400px; height: 400px; background-image:url('images/wheelsprite.png')\"></div>\n",
    "<div id=\"wheelinfo\" style=\"text-align: center; color: black;\">Click wheel to rotate.</div>\n",
    "\n",
    "<div id=\"letters\" style=\"font-family: Lucida Console,monospace; color: black; margin-left: auto; margin-right: auto; white-space: nowrap; width: 800px;\"><span id=\"shiftedLetters\"></span><br />&nbsp;&nbsp;A &nbsp;B &nbsp;C &nbsp;D &nbsp;E &nbsp;F &nbsp;G &nbsp;H &nbsp;I &nbsp;J &nbsp;K &nbsp;L &nbsp;M &nbsp;N &nbsp;O &nbsp;P &nbsp;Q &nbsp;R &nbsp;S &nbsp;T &nbsp;U &nbsp;V &nbsp;W &nbsp;X &nbsp;Y &nbsp;Z<br />&nbsp;&nbsp;0 &nbsp;1 &nbsp;2 &nbsp;3 &nbsp;4 &nbsp;5 &nbsp;6 &nbsp;7 &nbsp;8 &nbsp;9 10 11 12 13 14 15 16 17 18 19 20 21 22 23 24 25<br /></div>\n"
   ]
  },
  {
   "cell_type": "markdown",
   "metadata": {},
   "source": [
    "# 1. Review\n",
    "\n",
    "Before we can make our own cipher encoder and decoder, we need to review some coding concepts. \n",
    "\n",
    "## 1.1 Join (concatenate) strings\n",
    "\n",
    "Use `+` to join two strings."
   ]
  },
  {
   "cell_type": "code",
   "execution_count": null,
   "metadata": {},
   "outputs": [],
   "source": [
    "# RUN ME\n",
    "myString = \"hello \" + \"world!\"\n",
    "print ( myString )"
   ]
  },
  {
   "cell_type": "markdown",
   "metadata": {},
   "source": [
    "## 1.2 Find the remainder\n",
    "\n",
    "Use the *modulus operator* `%` to divide two numbers and get the remainder."
   ]
  },
  {
   "cell_type": "code",
   "execution_count": null,
   "metadata": {},
   "outputs": [],
   "source": [
    "# RUN ME\n",
    "# What is the remainder of 26 divided by 3?\n",
    "26 % 3"
   ]
  },
  {
   "cell_type": "markdown",
   "metadata": {},
   "source": [
    "## 1.3 Get user input\n",
    "\n",
    "Use the function `input()` to ask the user for some input"
   ]
  },
  {
   "cell_type": "code",
   "execution_count": null,
   "metadata": {},
   "outputs": [],
   "source": [
    "# RUN ME\n",
    "userString = input(\"Please enter some words: \")\n",
    "print(\"The user entered: \" + userString)"
   ]
  },
  {
   "cell_type": "markdown",
   "metadata": {},
   "source": [
    "## 1.4 Loops\n",
    "\n",
    "A `while` loop lets us run some code over and over and over, until a condition is `False` or we reach a `break`. "
   ]
  },
  {
   "cell_type": "code",
   "execution_count": null,
   "metadata": {},
   "outputs": [],
   "source": [
    "# RUN ME\n",
    "while True:\n",
    "    userCommand = input(\"Say stop: \")\n",
    "    if userCommand == \"stop\" :\n",
    "        break"
   ]
  },
  {
   "cell_type": "markdown",
   "metadata": {},
   "source": [
    "# 2. Lists\n",
    "\n",
    "A list is like a variable that holds lots of values.\n"
   ]
  },
  {
   "cell_type": "code",
   "execution_count": 46,
   "metadata": {},
   "outputs": [
    {
     "name": "stdout",
     "output_type": "stream",
     "text": [
      "[2, 4, 7, 10, 5]\n"
     ]
    }
   ],
   "source": [
    "# RUN ME - here is a list of number\n",
    "numberList = [2, 4, 7, 10, 5]\n",
    "print ( numberList )"
   ]
  },
  {
   "cell_type": "code",
   "execution_count": 47,
   "metadata": {},
   "outputs": [
    {
     "name": "stdout",
     "output_type": "stream",
     "text": [
      "['red', 'orange', 'yellow', 'green', 'blue', 'indigo', 'violet']\n"
     ]
    }
   ],
   "source": [
    "# RUN ME - here is a list of words\n",
    "rainbow = [ \"red\", \"orange\", \"yellow\", \"green\", \"blue\", \"indigo\", \"violet\"]\n",
    "print ( rainbow )"
   ]
  },
  {
   "cell_type": "code",
   "execution_count": 53,
   "metadata": {},
   "outputs": [
    {
     "name": "stdout",
     "output_type": "stream",
     "text": [
      "['d', 'i', 's', 'c', 'o', 'v', 'e', 'r']\n"
     ]
    }
   ],
   "source": [
    "# RUN ME - or a list of letters\n",
    "dc = [ 'd', 'i', 's', 'c', 'o', 'v', 'e', 'r']\n",
    "print ( dc )"
   ]
  },
  {
   "cell_type": "code",
   "execution_count": null,
   "metadata": {},
   "outputs": [],
   "source": [
    "# FILL IN THE BLANKS - create a list with the letters of your name\n",
    "nameLetters = [ \"__\", \"__\", \"__\" ]"
   ]
  },
  {
   "cell_type": "markdown",
   "metadata": {},
   "source": [
    "## 2.1 List Index\n",
    "\n",
    "Each item has a \"place\" in the list; like it's \"place\" in line.\n",
    "\n",
    "In Python (and many other programming languages), we start counting from zero 0. \n",
    "\n",
    "- So the first item in a list has index 0. \n",
    "- The second item has index 1.\n",
    "- And so on\n",
    "\n",
    "*hint:* The index is the number of times you move from the front of the list.\n",
    "\n",
    "We can use the `index()` function to find the index of an item in a list. "
   ]
  },
  {
   "cell_type": "markdown",
   "metadata": {},
   "source": [
    "Let's try finding the index of the colors of the rainbow"
   ]
  },
  {
   "cell_type": "code",
   "execution_count": 54,
   "metadata": {},
   "outputs": [
    {
     "data": {
      "text/plain": [
       "0"
      ]
     },
     "execution_count": 54,
     "metadata": {},
     "output_type": "execute_result"
    }
   ],
   "source": [
    "# PREDICT ME - what is the index of each color of the rainbow?\n",
    "rainbow.index(\"red\")"
   ]
  },
  {
   "cell_type": "code",
   "execution_count": null,
   "metadata": {},
   "outputs": [],
   "source": [
    "# FILL IN THE BLANKS\n",
    "# Find the index of a letter of your name\n",
    "nameLetters._______(\"__\")"
   ]
  },
  {
   "cell_type": "markdown",
   "metadata": {},
   "source": [
    "## 2.2 Using an Index\n",
    "\n",
    "Using `.index()` helps us **find** the index of an item in a list.\n",
    "\n",
    "But what how do we get the **item** in a list **AT** some index? We can use `[N]` to get the N'th item in a list. \n",
    "\n",
    "For example:"
   ]
  },
  {
   "cell_type": "code",
   "execution_count": 57,
   "metadata": {},
   "outputs": [
    {
     "data": {
      "text/plain": [
       "'red'"
      ]
     },
     "execution_count": 57,
     "metadata": {},
     "output_type": "execute_result"
    }
   ],
   "source": [
    "# RUN ME - first item in the rainbow list\n",
    "rainbow[0]"
   ]
  },
  {
   "cell_type": "code",
   "execution_count": null,
   "metadata": {},
   "outputs": [],
   "source": [
    "# FILL IN THE BLANK - what is the 4th letter of your name?\n",
    "nameLetters[__]"
   ]
  },
  {
   "cell_type": "markdown",
   "metadata": {},
   "source": [
    "## 2.3 String as List\n",
    "\n",
    "A string is a special kind of list. It is a list of single characters.\n",
    "\n",
    "Let's try it. Create a normal string that is your name and find the 1st and 4th letter of your name"
   ]
  },
  {
   "cell_type": "code",
   "execution_count": null,
   "metadata": {},
   "outputs": [],
   "source": [
    "# FILL IN THE BLANKS\n",
    "myName = \"__________\"\n",
    "print ( myName[__] )\n",
    "print ( myName[__] )"
   ]
  },
  {
   "cell_type": "markdown",
   "metadata": {},
   "source": [
    "## 2.4 Length of a List\n",
    "\n",
    "A list can have 0 or more items in it. The *length* of the list is the number of items in the list. To find the length of a list, use `len()`, like so:"
   ]
  },
  {
   "cell_type": "code",
   "execution_count": 61,
   "metadata": {},
   "outputs": [
    {
     "name": "stdout",
     "output_type": "stream",
     "text": [
      "7\n"
     ]
    }
   ],
   "source": [
    "# RUN ME\n",
    "colorCount = len( rainbow )\n",
    "print ( colorCount )"
   ]
  },
  {
   "cell_type": "markdown",
   "metadata": {},
   "source": [
    "# 3. Caesar Cipher\n",
    "\n",
    "We can use a list of letters to make a cipher and *encode* a message.\n",
    "\n",
    "For each letter we *want* to write, we will *actually* write down the letter at `index + 3`\n",
    "\n",
    "So, "
   ]
  },
  {
   "cell_type": "markdown",
   "metadata": {},
   "source": []
  },
  {
   "cell_type": "code",
   "execution_count": 76,
   "metadata": {},
   "outputs": [
    {
     "name": "stdout",
     "output_type": "stream",
     "text": [
      "Enter a message: khoor\n",
      "h\n",
      "e\n",
      "l\n",
      "l\n",
      "o\n"
     ]
    }
   ],
   "source": [
    "# RUN ME - Let's put the alphabet in a list\n",
    "#  Remember: we can make the list using [ ] or just a string\n",
    "alphabet = \"abcdefghijklmnopqrstuvwxyz\"\n",
    "\n",
    "# Get a message to encode\n",
    "message = input( \"Enter a message: \")\n",
    "\n",
    "# For each letter in the message, find the index in the alphabet, add 3, and print the new letter\n",
    "for letter in message:\n",
    "    oldIndex = alphabet.index(letter)\n",
    "    newIndex = oldIndex - 3\n",
    "    # TRICK - we have to make sure newIndex is between 0 and 25\n",
    "    newIndex = newIndex % 26\n",
    "    print( alphabet[newIndex] )"
   ]
  },
  {
   "cell_type": "markdown",
   "metadata": {},
   "source": [
    "## Extra Challenge 1\n",
    "\n",
    "Can you store the new encoded message into a string variable?\n",
    "\n",
    "HINT: Create a new/blank/empty string, and CONCATENTATE each new letter to it"
   ]
  },
  {
   "cell_type": "markdown",
   "metadata": {},
   "source": [
    "## Extra Challenge 2\n",
    "\n",
    "Can you *decode* a message?"
   ]
  }
 ],
 "metadata": {
  "kernelspec": {
   "display_name": "Python 3",
   "language": "python",
   "name": "python3"
  },
  "language_info": {
   "codemirror_mode": {
    "name": "ipython",
    "version": 3
   },
   "file_extension": ".py",
   "mimetype": "text/x-python",
   "name": "python",
   "nbconvert_exporter": "python",
   "pygments_lexer": "ipython3",
   "version": "3.7.5"
  }
 },
 "nbformat": 4,
 "nbformat_minor": 2
}
