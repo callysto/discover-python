{
 "cells": [
  {
   "cell_type": "code",
   "execution_count": null,
   "metadata": {},
   "outputs": [],
   "source": [
    "%%html\n",
    "<style>div.run_this_cell{display:block;}</style>"
   ]
  },
  {
   "cell_type": "markdown",
   "metadata": {},
   "source": [
    "<img style=\"float:right;margin-left:50px;margin-right:50px;\" width=\"300\" src=\"images/discovercoding.png\">\n",
    "\n",
    "# Discover Python with Callysto\n",
    "Lesson created and taught by [Discover Coding](https://discovercoding.ca).\n",
    "\n",
    "With support and funding from [Callysto](https://callysto.ca/) and the [Pacific Institute for Mathematical Sciences](https://www.pims.math.ca/)\n",
    "\n",
    "# Lesson 7: *Interesting* Drawings with Turtle\n",
    "\n",
    "In the last lesson, we drew basic shapes with turtle.\n",
    "\n",
    "In this lesson, we'll combine it with loops to make more interesting shapes and drawings.\n"
   ]
  },
  {
   "cell_type": "markdown",
   "metadata": {},
   "source": [
    "<img style=\"float:right;margin-left:50px;margin-right:50px;\" width=\"300\" src=\"images/mandala.png\">\n",
    "\n",
    "# 1. Spirograph Drawings\n",
    "\n",
    "A **Mandala** drawing is a circular design with repeating shapes. Like this:\n",
    "\n",
    "<div style=\"clear:both;\"></div>\n",
    "\n",
    "\n",
    "<img style=\"float:left;margin-left:50px;margin-right:50px;\" width=\"300\" src=\"images/spirographset.jpg\">\n",
    "\n",
    "One way to make them is to use a device called a **spirograph**.\n",
    "\n",
    "This works by making curved lines over and over and over and over....\n",
    "\n",
    "Are you sensing a *hint*?\n",
    "\n",
    "We can make something similar with code, using a *loop*\n",
    "\n",
    "<div style=\"clear:both;\"></div>\n",
    "\n",
    "Recall, for our Turtle code, we start with importing the library:\n",
    "\n",
    "`from mobilechelonian import Turtle`\n",
    "\n",
    "The basic algorithm for our spirograph is:\n",
    "\n",
    "* Start from Home. \n",
    "* Draw a shape.\n",
    "* Return Home.\n",
    "* Turn a small angle.\n",
    "* Repeat!\n",
    "\n",
    "That's it! "
   ]
  },
  {
   "cell_type": "markdown",
   "metadata": {},
   "source": [
    "# 2. Simple Square\n",
    "\n",
    "Let's try this algorithm with a simple square.\n",
    "\n",
    "Fill in the blanks below. There are some important things to note:\n",
    "\n",
    "1. A square has the same length on all sides.\n",
    "1. We need to start back at the same spot.\n",
    "1. We need to face the same DIRECTION we started with."
   ]
  },
  {
   "cell_type": "code",
   "execution_count": null,
   "metadata": {},
   "outputs": [],
   "source": [
    "from mobilechelonian import Turtle\n",
    "\n",
    "# FILL IN THE BLANKS\n",
    "squareSam = Turtle()\n",
    "squareSam.speed(10)\n",
    "squareSam.forward(__)\n",
    "squareSam.left(90)\n",
    "squareSam.forward(__)\n",
    "squareSam.left(90)\n",
    "squareSam.forward(__)\n",
    "squareSam.left(90)\n",
    "squareSam.forward(__)\n",
    "squareSam.left(90)"
   ]
  },
  {
   "cell_type": "markdown",
   "metadata": {},
   "source": [
    "**Optional CHALLENGE:** can you simplify that into a loop?"
   ]
  },
  {
   "cell_type": "markdown",
   "metadata": {},
   "source": [
    "# 3. Repeating Squares\n",
    "\n",
    "Now, let's take that code, and put it in a loop.\n",
    "\n",
    "And each time we loop, we change the starting position by a small degree."
   ]
  },
  {
   "cell_type": "code",
   "execution_count": null,
   "metadata": {},
   "outputs": [],
   "source": [
    "from mobilechelonian import Turtle\n",
    "\n",
    "# FILL IN THE BLANKS\n",
    "\n",
    "# Make a turtle\n",
    "______ = Turtle()\n",
    "______.speed(10)\n",
    "\n",
    "count = 1\n",
    "while count < 25 :\n",
    "    # Draw a square (use your code from above)\n",
    "\n",
    "    # turn just a little bit before the next loop\n",
    "    ______.left(15)\n",
    "    \n",
    "    count = count + 1"
   ]
  },
  {
   "cell_type": "markdown",
   "metadata": {},
   "source": [
    "# 4. ENHANCE with Shapes and Colors!\n",
    "\n",
    "You now have the basics a spirograph!\n",
    "\n",
    "Now, we can make our drawings really intersting simply by drawing **different shapes**, including a circle! (*Warning* drawing lots of circles can be slow).\n",
    "\n",
    "The other enhancement we can try is to draw with a **different color** on each iteration of the loop.\n",
    "\n",
    "*ONE* possible  algorithm for different colors is:\n",
    "\n",
    "* Create a list of colors ([color names here](https://www.w3schools.com/tags/ref_colornames.asp))\n",
    "* Use `count % number_of_colors` to get an index\n",
    "* Use the index to get a color from the list\n",
    "* Use `.color()` during each loop"
   ]
  },
  {
   "cell_type": "code",
   "execution_count": null,
   "metadata": {},
   "outputs": [],
   "source": [
    "from mobilechelonian import Turtle\n",
    "\n",
    "# Enhance with shapes and color\n",
    "\n"
   ]
  },
  {
   "cell_type": "markdown",
   "metadata": {},
   "source": [
    "# 5. ENHANCE with Random\n",
    "\n",
    "<img style=\"float:left;margin-right:30px;\" width=\"400px\" src=\"https://media.giphy.com/media/H4uFElBB9Nt7zq3RZ9/source.gif\">\n",
    "\n",
    "If you're up for a **REALLY** extra challenge, you can introduce *randomness* into our code.\n",
    "\n",
    "First, we need to `import random` in our code. This let's us use some random *functions* to generate a random number. \n",
    "\n",
    "`random.random()` picks a *DECIMAL* number between `0` and `1`\n",
    "`random.randint(x,y)` picks a *WHOLE* number between `x` and `y`\n",
    "\n",
    "Or to make a *RANDOM COLOR* for turtle, we can use the following code:\n",
    "\n",
    "`randomColor = \"%06x\" % random.randint(0, 0xFFFFFF)`\n",
    "`myTurtle.pencolor(randomColor)`\n",
    "\n",
    "Here's an example:"
   ]
  },
  {
   "cell_type": "code",
   "execution_count": null,
   "metadata": {},
   "outputs": [],
   "source": [
    "# RUN ME\n",
    "from mobilechelonian import Turtle\n",
    "import random\n",
    "\n",
    "colorClaire = Turtle()\n",
    "colorClaire.speed(10)\n",
    "\n",
    "randomColor = \"#%06x\" % random.randint(0, 0xFFFFFF)\n",
    "\n",
    "colorClaire.pencolor(randomColor)\n",
    "colorClaire.forward(100)"
   ]
  },
  {
   "cell_type": "markdown",
   "metadata": {},
   "source": [
    "We can also use `random` to generate new positions for our turtle to draw MULTIPLE spirographs in random locations! The algorithm would look like this:\n",
    "\n",
    "* Pick a random `x`\n",
    "* Pick a random `y`\n",
    "* `.penup()`\n",
    "* Use `.setposition(x,y)`, using the random numbers\n",
    "* `.pendown()`\n",
    "* Draw your spirograph\n"
   ]
  },
  {
   "cell_type": "markdown",
   "metadata": {},
   "source": [
    "# 6. ART CONTEST\n",
    "\n",
    "We now have many ways to draw complex drawings and add randomness to our drawings. \n",
    "\n",
    "Callysto is running a [Callysto Turtle Art Contest](https://callysto.ca/callysto-contest/)\n",
    "\n",
    "What can you create to submit?"
   ]
  },
  {
   "cell_type": "code",
   "execution_count": null,
   "metadata": {},
   "outputs": [],
   "source": [
    "# CODE MORE DRAWINGS!\n",
    "\n",
    "from mobilechelonian import Turtle\n",
    "import random\n",
    "\n",
    "_______ = Turtle()\n"
   ]
  }
 ],
 "metadata": {
  "kernelspec": {
   "display_name": "Python 3",
   "language": "python",
   "name": "python3"
  },
  "language_info": {
   "codemirror_mode": {
    "name": "ipython",
    "version": 3
   },
   "file_extension": ".py",
   "mimetype": "text/x-python",
   "name": "python",
   "nbconvert_exporter": "python",
   "pygments_lexer": "ipython3",
   "version": "3.7.5"
  }
 },
 "nbformat": 4,
 "nbformat_minor": 2
}
