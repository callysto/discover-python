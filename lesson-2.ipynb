{
 "cells": [
  {
   "cell_type": "code",
   "execution_count": 2,
   "metadata": {},
   "outputs": [
    {
     "data": {
      "text/html": [
       "<style>div.run_this_cell{display:block;}</style>\n"
      ],
      "text/plain": [
       "<IPython.core.display.HTML object>"
      ]
     },
     "metadata": {},
     "output_type": "display_data"
    }
   ],
   "source": [
    "%%html\n",
    "<style>div.run_this_cell{display:block;}</style>"
   ]
  },
  {
   "cell_type": "markdown",
   "metadata": {},
   "source": [
    "<img style=\"float:right;margin-left:50px;margin-right:50px;\" width=\"300\" src=\"images/discovercoding.png\">\n",
    "\n",
    "# Discover Python with Callysto\n",
    "Lesson created and taught by [Discover Coding](https://discovercoding.ca).\n",
    "\n",
    "With support and funding from [Callysto](https://callysto.ca/) and the [Pacific Institute for Mathematical Sciences](https://www.pims.math.ca/)\n",
    "\n",
    "# Lesson 2: Conditionals\n",
    "\n",
    "In this lesson, we will explore:\n",
    "- How to use comparisons in CONTROL FLOW (conditionals)\n",
    "- Simple loops\n",
    "- Random numbers\n"
   ]
  },
  {
   "cell_type": "markdown",
   "metadata": {},
   "source": [
    "<img style=\"float:right;margin-left:30px;\" width=\"500px\" src=\"images/simonsays.png\">\n",
    "\n",
    "# 1. Conditionals\n",
    "CONDITIONALS are how programs make decisions:\n",
    "\n",
    "- If (`if`) something is `True`, then run some code; \n",
    "- or (`elif`) something else is `True`, then run some other code;\n",
    "- Otherwise (`else`), \n",
    "\n",
    "It's like playing **Simon Says** with the computer.\n",
    "\n",
    "A conditional looks like this:\n",
    "\n",
    "    if TEST :\n",
    "        some_code\n",
    "    elif TEST :\n",
    "        other_code\n",
    "    else : \n",
    "        more_code\n",
    "\n",
    "**TEST** is something that returns `True` or `False`\n",
    "\n",
    "    Equal:          ==\n",
    "    Not equal:      !=\n",
    "    Less than:      <\n",
    "    Greater than:   >\n",
    "    Less than, or equal to:    <=\n",
    "    Greater than, or equal to: >=\n",
    "\n",
    "**Don't forget** the COLON and the SPACES!\n"
   ]
  },
  {
   "cell_type": "markdown",
   "metadata": {},
   "source": [
    "### *Activity 1.1*\n",
    "\n",
    "Try running the following code. Things to think about:\n",
    "- What happens if you enter \"`C`\"?\n",
    "- What happens if you enter lower case \"`a`\" or \"`b`\"?\n"
   ]
  },
  {
   "cell_type": "code",
   "execution_count": null,
   "metadata": {},
   "outputs": [],
   "source": [
    "# RUN ME:\n",
    "fruit = input(\"select A or B: \")\n",
    "if fruit == \"A\":\n",
    "    print(\"A is for Apple!\")\n",
    "else:\n",
    "    print(\"B is for Banana!\")\n",
    "    "
   ]
  },
  {
   "cell_type": "markdown",
   "metadata": {},
   "source": [
    "### *Activity 1.2*\n",
    "Let's make this code better!\n",
    "\n",
    "Can you insert an `elif` statement so that it will print a message if the user enters \"`B`\"?"
   ]
  },
  {
   "cell_type": "code",
   "execution_count": null,
   "metadata": {},
   "outputs": [],
   "source": [
    "# FILL IN THE BLANKS:\n",
    "fruit = input(\"select A or B: \")\n",
    "if fruit == \"A\":\n",
    "    print(\"A is for Apple!\")\n",
    "____ fruit == \"___\":\n",
    "    print(\"___ is for Banana!\")\n",
    "else:\n",
    "    print(\"That's not A or B...\")"
   ]
  },
  {
   "cell_type": "markdown",
   "metadata": {},
   "source": [
    "### *Activity 1.3*\n",
    "\n",
    "You now have the basics to write a simple trivia game: *Who am I?* or *What am I?*\n",
    "\n",
    "Here's how your game will work:\n",
    "\n",
    "1. Describe something to the user (i.e. \"I have \n",
    "1. Ask them for a guess\n",
    "1. Tell them if they are correct or not\n",
    "\n",
    "Here's an example"
   ]
  },
  {
   "cell_type": "code",
   "execution_count": null,
   "metadata": {},
   "outputs": [],
   "source": [
    "# RUN ME\n",
    "print(r' ^(*(oo)*)^ ')\n",
    "answer = input(\"What am I?\")\n",
    "if answer == \"pig\":\n",
    "    print (\"Oink Oink!\")\n",
    "else:\n",
    "    print (\"I am NOT a \" + answer)"
   ]
  },
  {
   "cell_type": "markdown",
   "metadata": {},
   "source": [
    "Now you try!"
   ]
  },
  {
   "cell_type": "code",
   "execution_count": null,
   "metadata": {},
   "outputs": [],
   "source": [
    "# FILL IN THE BLANKS\n",
    "______ = input (\"_____\")\n",
    "if _____ == ______ :\n",
    "    print (\"_______\")\n",
    "else :\n",
    "    print (\"_______\")"
   ]
  }
 ],
 "metadata": {
  "kernelspec": {
   "display_name": "Python 3",
   "language": "python",
   "name": "python3"
  },
  "language_info": {
   "codemirror_mode": {
    "name": "ipython",
    "version": 3
   },
   "file_extension": ".py",
   "mimetype": "text/x-python",
   "name": "python",
   "nbconvert_exporter": "python",
   "pygments_lexer": "ipython3",
   "version": "3.7.5"
  }
 },
 "nbformat": 4,
 "nbformat_minor": 2
}
