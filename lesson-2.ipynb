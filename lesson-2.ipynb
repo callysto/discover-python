{
 "cells": [
  {
   "cell_type": "code",
   "execution_count": 2,
   "metadata": {},
   "outputs": [
    {
     "data": {
      "text/html": [
       "<style>div.run_this_cell{display:block;}</style>\n"
      ],
      "text/plain": [
       "<IPython.core.display.HTML object>"
      ]
     },
     "metadata": {},
     "output_type": "display_data"
    }
   ],
   "source": [
    "%%html\n",
    "<style>div.run_this_cell{display:block;}</style>"
   ]
  },
  {
   "cell_type": "markdown",
   "metadata": {},
   "source": [
    "<img style=\"float:right;margin-left:50px;margin-right:50px;\" width=\"300\" src=\"images/discovercoding.png\">\n",
    "\n",
    "# Discover Python with Callysto\n",
    "Lesson created and taught by [Discover Coding](https://discovercoding.ca).\n",
    "\n",
    "With support and funding from [Callysto](https://callysto.ca/) and the [Pacific Institute for Mathematical Sciences](https://www.pims.math.ca/)\n",
    "\n",
    "# Lesson 2: Conditionals\n",
    "\n",
    "In this lesson, we will explore:\n",
    "- Comparisons\n",
    "- Conditionals\n",
    "- Basic Loops\n",
    "- Random numbers\n"
   ]
  },
  {
   "cell_type": "markdown",
   "metadata": {},
   "source": [
    "# 1. Comparisons\n",
    "\n",
    "Python can also do a *COMPARISON* on numbers or strings and tell us if something is `TRUE` or `FALSE`. We use the following operators:\n",
    "\n",
    "    Is Equal:              ==\n",
    "    Not equal:             !=\n",
    "    Less than:             <\n",
    "    Greater than:          >\n",
    "    Less than or equal:    <=\n",
    "    Greater than or equal: >="
   ]
  },
  {
   "cell_type": "markdown",
   "metadata": {},
   "source": [
    "### *ACTIVITY 1.1*\n",
    "\n",
    "Let's try some comparisons. \n",
    "\n",
    "Python will tell us if these are `True` or `False`"
   ]
  },
  {
   "cell_type": "code",
   "execution_count": null,
   "metadata": {},
   "outputs": [],
   "source": [
    "# RUN ME: Is 5 less than 7?\n",
    "5 < 7"
   ]
  },
  {
   "cell_type": "code",
   "execution_count": null,
   "metadata": {},
   "outputs": [],
   "source": [
    "# RUN ME: Is one-half (1/2) EQUAL TO two-quarters (2/4)?\n",
    "1/2 == 2/4"
   ]
  },
  {
   "cell_type": "code",
   "execution_count": null,
   "metadata": {},
   "outputs": [],
   "source": [
    "# SOLVE THIS: Is two-thirds (2/3) greater than three-quarters (3/4)?\n"
   ]
  },
  {
   "cell_type": "markdown",
   "metadata": {},
   "source": [
    "We can also use comparison on strings, but usually we only use EQUAL (`==`) or NOT EQUAL (`!=`)"
   ]
  },
  {
   "cell_type": "code",
   "execution_count": null,
   "metadata": {},
   "outputs": [],
   "source": [
    "# RUN ME:\n",
    "\"hello\" == \"HELLO\""
   ]
  },
  {
   "cell_type": "code",
   "execution_count": null,
   "metadata": {},
   "outputs": [],
   "source": [
    "# RUN ME:\n",
    "\"String One\" != \"A different string\""
   ]
  },
  {
   "cell_type": "markdown",
   "metadata": {},
   "source": [
    "<img style=\"float:right;margin-left:30px;\" width=\"500px\" src=\"images/simonsays.png\">\n",
    "\n",
    "# 2. Conditionals\n",
    "CONDITIONALS are how programs make decisions:\n",
    "\n",
    "- If (`if`) something is `True`, then run some code; \n",
    "- or else if (`elif`) something else is `True`, then run other code;\n",
    "- Otherwise (`else`), then run different code.\n",
    "\n",
    "It's like playing **Simon Says** with the computer.\n",
    "\n",
    "A conditional looks like this:\n",
    "\n",
    "    if COMPARISON :\n",
    "        some_code\n",
    "    elif COMPARISON :\n",
    "        other_code\n",
    "    else : \n",
    "        more_code\n",
    "\n",
    "**NOTICE** the COLON and after the COMPARISON\n",
    "\n",
    "**NOTICE** the SPACES before the code!\n",
    "\n",
    "Let's try running the conditional below. \n",
    "\n",
    "What do you think will happen? \n",
    "\n",
    "What will happen if you change the number?\n"
   ]
  },
  {
   "cell_type": "code",
   "execution_count": null,
   "metadata": {},
   "outputs": [],
   "source": [
    "# RUN ME:\n",
    "testNumber = 1\n",
    "if testNumber == 1 :\n",
    "    print ( \"ONE\" )\n",
    "elif testNumber == 2 :\n",
    "    print ( \"TWO\" )\n",
    "else :\n",
    "    print ( \"NOT one or two\" )"
   ]
  },
  {
   "cell_type": "markdown",
   "metadata": {},
   "source": [
    "Let's try building up our own conditional -- starting with a basic conditional with just one `if` statement. \n",
    "\n",
    "### *Activity 2.1*\n",
    "\n",
    "Fill in the blank with different numbers."
   ]
  },
  {
   "cell_type": "code",
   "execution_count": null,
   "metadata": {},
   "outputs": [],
   "source": [
    "# FILL IN THE BLANK:\n",
    "aNumber = ___\n",
    "if aNumber > 10 :\n",
    "    print (\"that's a big number!\" )"
   ]
  },
  {
   "cell_type": "markdown",
   "metadata": {},
   "source": [
    "**QUESTION:** What happens if the number was NOT bigger than 10? \n",
    "\n",
    "*(answer: nothing!)*\n",
    "\n",
    "### *Activity 2.2*\n",
    "\n",
    "Let's add an `else` statement so that it prints something else instead:\n"
   ]
  },
  {
   "cell_type": "code",
   "execution_count": null,
   "metadata": {},
   "outputs": [],
   "source": [
    "# FILL IN THE BLANK:\n",
    "aNumber = ___\n",
    "if aNumber > 10 :\n",
    "    print (\"that's a big number!\")\n",
    "____ :\n",
    "    print (\"that's NOT bigger than 10!\")"
   ]
  },
  {
   "cell_type": "markdown",
   "metadata": {},
   "source": [
    "That's a little better! \n",
    "\n",
    "Now, let's try also saying something if the number is LESS THAN zero (0) too.\n",
    "\n",
    "### *Activity 2.3*\n",
    "\n",
    "Let's add an `elif` statement as a second conditional test:"
   ]
  },
  {
   "cell_type": "code",
   "execution_count": null,
   "metadata": {},
   "outputs": [],
   "source": [
    "# FILL IN THE BLANK:\n",
    "aNumber = ___\n",
    "if aNumber > 10 :\n",
    "    print (\"that's a big number!\")\n",
    "____ aNumber _ 0 :\n",
    "    print (\"that's a negative number...\")\n",
    "else :\n",
    "    print (\"that's between zero and ten :D \")"
   ]
  },
  {
   "cell_type": "markdown",
   "metadata": {},
   "source": [
    "### *Activity 2.4*\n",
    "\n",
    "We can now start making more interesting programs but taking `input` and then use a conditional to print a different message based on what is entered...\n",
    "\n",
    "**REMEMBER:** `input()` will save a *string*, not a number!\n",
    "\n",
    "Try running the following code. Things to think about:\n",
    "\n",
    "- What happens if you enter \"`C`\"?\n",
    "- What happens if you enter lower case \"`a`\" or \"`b`\"?\n"
   ]
  },
  {
   "cell_type": "code",
   "execution_count": null,
   "metadata": {},
   "outputs": [],
   "source": [
    "# PREDICT AND RUN ME:\n",
    "fruit = input(\"select A or B: \")\n",
    "if fruit == \"A\":\n",
    "    print(\"A is for Apple!\")\n",
    "else:\n",
    "    print(\"B is for Banana!\")\n",
    "    "
   ]
  },
  {
   "cell_type": "markdown",
   "metadata": {},
   "source": [
    "There's something not quite right with this code... do you know what it is?\n",
    "\n",
    "*HINT* what happens if I don't enter `A` or `B`?"
   ]
  },
  {
   "cell_type": "markdown",
   "metadata": {},
   "source": [
    "### *Activity 2.5*\n",
    "Let's make this code better!\n",
    "\n",
    "Can you insert an `elif` statement so that it prints the banana message **ONLY** if the user enters \"`B`\"? Otherwise, it should print something else."
   ]
  },
  {
   "cell_type": "code",
   "execution_count": null,
   "metadata": {},
   "outputs": [],
   "source": [
    "# FILL IN THE BLANKS:\n",
    "fruit = input(\"select A or B: \")\n",
    "if fruit == \"A\":\n",
    "    print(\"A is for Apple!\")\n",
    "____ fruit == \"___\":\n",
    "    print(\"___ is for Banana!\")\n",
    "else:\n",
    "    print(\"That's not A or B...\")"
   ]
  },
  {
   "cell_type": "markdown",
   "metadata": {},
   "source": [
    "### *Activity 2.3*\n",
    "\n",
    "You now have the basics to write a simple trivia game: *Who am I?* or *What am I?*\n",
    "\n",
    "Here's how your game will work:\n",
    "\n",
    "1. Describe something to the user (i.e. \"I have four legs\") \n",
    "1. Ask them for a guess\n",
    "1. Tell them if they are correct or not\n",
    "\n",
    "Here's an example"
   ]
  },
  {
   "cell_type": "code",
   "execution_count": null,
   "metadata": {},
   "outputs": [],
   "source": [
    "# RUN ME\n",
    "print(r' ^(*(oo)*)^ ')\n",
    "answer = input(\"What am I?\")\n",
    "if answer == \"pig\":\n",
    "    print (\"Oink Oink!\")\n",
    "else:\n",
    "    print (\"I am NOT a \" + answer)"
   ]
  },
  {
   "cell_type": "markdown",
   "metadata": {},
   "source": [
    "# 3. LOOPS\n",
    "\n",
    "<img style=\"float:right;\" width=\"30%\" src=\"images/loop.gif\">\n",
    "\n",
    "Loops are like conditionals, but help us run code *OVER and OVER and OVER and ...* \n",
    "\n",
    "We keep *looping* as long as the COMPARISON TEST is `True`.\n",
    "\n",
    "Code that is *indented* after the while loop are run each time.\n",
    "\n",
    "Try the simple loop below:"
   ]
  },
  {
   "cell_type": "code",
   "execution_count": null,
   "metadata": {},
   "outputs": [],
   "source": [
    "# RUN ME:\n",
    "aNumber = 1\n",
    "while aNumber <= 3:\n",
    "    print (aNumber)\n",
    "    aNumber = aNumber + 1"
   ]
  },
  {
   "cell_type": "markdown",
   "metadata": {},
   "source": [
    "**QUESTION:** When did the loop stop?\n",
    "\n",
    "*(answer: when aNumber was greater than 3, the loop stopped)\n",
    "\n",
    "### 3.1 Break\n",
    "\n",
    "But what if you want to **STOP** a loop early? Use keyword `break` -- it will exit the loop right away!\n",
    "\n",
    "This is a good way to combine loops with **conditionals**\n",
    "\n",
    "Here's an example: we keep looping looking for an answer. The loop is *ALWAYS TRUE*, so it will never stop.... or will it?"
   ]
  },
  {
   "cell_type": "code",
   "execution_count": null,
   "metadata": {},
   "outputs": [],
   "source": [
    "# RUN ME\n",
    "print(r' ^(*(oo)*)^ ')\n",
    "\n",
    "while True :\n",
    "    answer = input(\"What am I?\")\n",
    "    if answer == \"pig\":\n",
    "        print (\"Oink Oink!\")\n",
    "        break\n",
    "    else:\n",
    "        print (\"I am NOT a \" + answer)"
   ]
  },
  {
   "cell_type": "markdown",
   "metadata": {},
   "source": [
    "**QUESTION:** When did the loop stop?\n",
    "\n",
    "*(answer: when the user says \"pig\", we `break` the loop)\n",
    "\n",
    "Now you try! Code a program that does the following:\n",
    "\n",
    "1. print an ascii picture of something.\n",
    "1. make a loop that asks for input\n",
    "1. if the input was the correct answer, so something funny and `break`\n",
    "1. otherwise, keep looping"
   ]
  },
  {
   "cell_type": "code",
   "execution_count": null,
   "metadata": {},
   "outputs": [],
   "source": [
    "# FILL IN THE BLANKS\n",
    "print(\"______\")\n",
    "\n",
    "while True :\n",
    "    ______ = input (\"_____\")\n",
    "    if _____ == ______ :\n",
    "        print (\"_______\")\n",
    "        break\n",
    "    else :\n",
    "        print (\"_______\")"
   ]
  },
  {
   "cell_type": "markdown",
   "metadata": {},
   "source": [
    "# 4. Randomness\n",
    "\n",
    "<img style=\"float:left;margin-right:30px;\" width=\"400px\" src=\"https://media.giphy.com/media/H4uFElBB9Nt7zq3RZ9/source.gif\">\n",
    "\n",
    "So far, all of our code is very **predictable** -- we can see what will happen. So let's try to let the computer add some *randomness*. We can tell the computer to pick a number, or roll a dice.\n",
    "\n",
    "First, we need to `import random` in our code. This let's us use some random *functions* to generate a random number. \n",
    "\n",
    "`random.random()` picks a *DECIMAL* number between `0` and `1`\n",
    "`random.randint(x,y)` picks a *WHOLE* number between `x` and `y`\n",
    "\n",
    "Let's look at an example:\n"
   ]
  },
  {
   "cell_type": "code",
   "execution_count": null,
   "metadata": {},
   "outputs": [],
   "source": [
    "# RUN ME (try it a couple of times)\n",
    "import random\n",
    "print( random.random() )"
   ]
  },
  {
   "cell_type": "code",
   "execution_count": null,
   "metadata": {},
   "outputs": [],
   "source": [
    "# RUN ME (try it a couple of times)\n",
    "import random\n",
    "print( random.randint(0,5) )"
   ]
  },
  {
   "cell_type": "markdown",
   "metadata": {},
   "source": [
    "### *Activity 4.1*\n",
    "\n",
    "Now you try!\n",
    "\n",
    "Tell the computer to make a random number between 1 and 10.\n",
    "\n",
    "Save it into a variable named `myRandomNumber`"
   ]
  },
  {
   "cell_type": "code",
   "execution_count": null,
   "metadata": {},
   "outputs": [],
   "source": [
    "# FILL IN THE BLANKS:\n",
    "import ______\n",
    "__________ = random._______( __ , __ )\n",
    "print ( myRandomNumber )"
   ]
  },
  {
   "cell_type": "markdown",
   "metadata": {},
   "source": [
    "### *Activity 4.2*\n",
    "\n",
    "This time, let's pick a number between 1000 and 5000.\n",
    "\n",
    "Save it into a variable named `myRandomNumber`"
   ]
  },
  {
   "cell_type": "code",
   "execution_count": null,
   "metadata": {},
   "outputs": [],
   "source": [
    "# FILL IN THE BLANKS:\n",
    "import ______\n",
    "__________ = random._______( __ , __ )\n",
    "print ( myRandomNumber )"
   ]
  },
  {
   "cell_type": "markdown",
   "metadata": {},
   "source": [
    "<img style=\"float:right;margin-left:30px;\" src=\"images/guessthenumber.gif\">\n",
    "\n",
    "# 5. Putting it all together:<br/> \"Guess the Number\" Game\n",
    "\n",
    "Now create a number guessing game using a simple loop, conditionals, variables and random module. \n",
    "\n",
    "1. Save a random number in a variable named `secret`\n",
    "1. Create a loop that is *ALWAYS `True`*\n",
    "1. Ask the user to `input` a number\n",
    "1. If the guess is corret, print a winning message, and `break`\n",
    "1. If the guess is higher than `secret`, print `lower`\n",
    "1. Otherwise (`else`), the guess must need to be `higher`\n"
   ]
  },
  {
   "cell_type": "code",
   "execution_count": null,
   "metadata": {},
   "outputs": [],
   "source": [
    "# FILL IN THE BLANKS\n",
    "\n",
    "# 1. import module and pick a random number\n",
    "import ______\n",
    "secret = ______.______( ___ , ___ )\n",
    "\n",
    "# 2. Create a loop that is ALWAYS True\n",
    "while _____ :\n",
    "\n",
    "# 3. Prompt for user input\n",
    "#    HINT: We have to convert the user response from a string to an int\n",
    "    guess = input( \"______ \" )\n",
    "    number = int(guess)\n",
    "\n",
    "# 4. Check if number is equal to secret, if so, print a message and break out of loop. \n",
    "#    Otherwise, print a hint of higher or lower, and keep looping\n",
    "    if ______ == ______ :\n",
    "        print ( \"_____\" )\n",
    "        ______\n",
    "    elif ______ > ______ :\n",
    "        print ( \"_____\" )\n",
    "    else\n",
    "        print ( \"_____\" )\n"
   ]
  },
  {
   "cell_type": "markdown",
   "metadata": {},
   "source": [
    "## 5.1 EXTRA Random Function\n",
    "\n",
    "if we have a *LIST* of things, we can pick a random thing from the list using `random.choice()`.\n",
    "\n",
    "Here's an example:"
   ]
  },
  {
   "cell_type": "code",
   "execution_count": null,
   "metadata": {},
   "outputs": [],
   "source": [
    "# RUN ME (try it a couple of times)\n",
    "import random\n",
    "myList = [\"computer\", \"orange\", \"piano\"]\n",
    "myRandomThing = random.choice(myList)\n",
    "print ( myRandomThing )"
   ]
  },
  {
   "cell_type": "markdown",
   "metadata": {},
   "source": [
    "Can you try creating a *\"Guess the Word\"* game using `random.choice()`?"
   ]
  },
  {
   "cell_type": "code",
   "execution_count": null,
   "metadata": {},
   "outputs": [],
   "source": [
    "# CODE HERE\n",
    "\n",
    "# 1. import module and pick a random word\n",
    "\n",
    "# 2. Create a loop that is ALWAYS True\n",
    "\n",
    "# 3. Prompt for user input\n",
    "\n",
    "# 4. Check if user input is correct, then print and break out of loop. \n",
    "#    Otherwise, prompt user for input again\n",
    "\n"
   ]
  }
 ],
 "metadata": {
  "kernelspec": {
   "display_name": "Python 3",
   "language": "python",
   "name": "python3"
  },
  "language_info": {
   "codemirror_mode": {
    "name": "ipython",
    "version": 3
   },
   "file_extension": ".py",
   "mimetype": "text/x-python",
   "name": "python",
   "nbconvert_exporter": "python",
   "pygments_lexer": "ipython3",
   "version": "3.7.5"
  }
 },
 "nbformat": 4,
 "nbformat_minor": 2
}
