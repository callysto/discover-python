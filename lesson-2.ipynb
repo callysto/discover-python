{
 "cells": [
  {
   "cell_type": "code",
   "execution_count": 2,
   "metadata": {},
   "outputs": [
    {
     "data": {
      "text/html": [
       "<style>div.run_this_cell{display:block;}</style>\n"
      ],
      "text/plain": [
       "<IPython.core.display.HTML object>"
      ]
     },
     "metadata": {},
     "output_type": "display_data"
    }
   ],
   "source": [
    "%%html\n",
    "<style>div.run_this_cell{display:block;}</style>"
   ]
  },
  {
   "cell_type": "markdown",
   "metadata": {},
   "source": [
    "<img style=\"float:right;margin-left:50px;margin-right:50px;\" width=\"300\" src=\"images/discovercoding.png\">\n",
    "\n",
    "# Discover Python with Callysto\n",
    "Lesson created and taught by [Discover Coding](https://discovercoding.ca).\n",
    "\n",
    "With support and funding from [Callysto](https://callysto.ca/) and the [Pacific Institute for Mathematical Sciences](https://www.pims.math.ca/)\n",
    "\n",
    "# Lesson 2: Conditionals\n",
    "\n",
    "In this lesson, we will explore:\n",
    "- Comparisons\n",
    "- Conditionals\n",
    "- Basic Loops\n"
   ]
  },
  {
   "cell_type": "markdown",
   "metadata": {},
   "source": [
    "# 1. Comparisons\n",
    "\n",
    "Python can also do a *COMPARISON* on numbers or strings and tell us if something is `TRUE` or `FALSE`. We use the following operators:\n",
    "\n",
    "    Is Equal:              ==\n",
    "    Not equal:             !=\n",
    "    Less than:             <\n",
    "    Greater than:          >\n",
    "    Less than or equal:    <=\n",
    "    Greater than or equal: >="
   ]
  },
  {
   "cell_type": "markdown",
   "metadata": {},
   "source": [
    "### *ACTIVITY 1.1*\n",
    "\n",
    "Let's try some comparisons. \n",
    "\n",
    "Python will tell us if these are `True` or `False`"
   ]
  },
  {
   "cell_type": "code",
   "execution_count": null,
   "metadata": {},
   "outputs": [],
   "source": [
    "# RUN ME: Is 5 less than 7?\n",
    "5 < 7"
   ]
  },
  {
   "cell_type": "code",
   "execution_count": null,
   "metadata": {},
   "outputs": [],
   "source": [
    "# RUN ME: Is one-half (1/2) EQUAL TO two-quarters (2/4)?\n",
    "1/2 == 2/4"
   ]
  },
  {
   "cell_type": "code",
   "execution_count": null,
   "metadata": {},
   "outputs": [],
   "source": [
    "# SOLVE THIS: Is two-thirds (2/3) greater than three-quarters (3/4)?\n"
   ]
  },
  {
   "cell_type": "markdown",
   "metadata": {},
   "source": [
    "We can also use comparison on strings, but usually we only use EQUAL (`==`) or NOT EQUAL (`!=`)"
   ]
  },
  {
   "cell_type": "code",
   "execution_count": null,
   "metadata": {},
   "outputs": [],
   "source": [
    "# RUN ME:\n",
    "\"hello\" == \"HELLO\""
   ]
  },
  {
   "cell_type": "code",
   "execution_count": null,
   "metadata": {},
   "outputs": [],
   "source": [
    "# RUN ME:\n",
    "\"String One\" != \"A different string\""
   ]
  },
  {
   "cell_type": "markdown",
   "metadata": {},
   "source": [
    "<img style=\"float:right;margin-left:30px;\" width=\"500px\" src=\"images/simonsays1.JPG\">\n",
    "\n",
    "# 2. Conditionals\n",
    "\n",
    "CONDITIONALS are how programs make decisions. A conditional works like this:\n",
    "\n",
    "- If (`if`) a **COMPARISON** is `True`\n",
    "    - then run some code; \n",
    "\n",
    "It's like playing **Simon Says** with the computer.\n",
    "\n",
    "Here is the most basic form of a comparison:\n",
    "\n",
    "    if COMPARISON :\n",
    "        run_this_code\n",
    "        and_run_this_code\n",
    "\n",
    "**NOTICE** the COLON after the COMPARISON\n",
    "\n",
    "**NOTICE** the SPACES in front of the code that is part of the *condition*\n",
    "\n",
    "Let's try running the conditionals below. For each one, try:\n",
    "\n",
    "1. Fill in a value for each variable\n",
    "1. What happens when the comparison is true?\n",
    "1. What happens when the comparison is false?"
   ]
  },
  {
   "cell_type": "code",
   "execution_count": null,
   "metadata": {},
   "outputs": [],
   "source": [
    "# FILL IN THE BLANK (set the value of the bus fare)\n",
    "bus_fare = ____\n",
    "if bus_fare == 3.50 :\n",
    "    print( \"Thanks for paying,\" )\n",
    "    print( \"come on the bus!\" )"
   ]
  },
  {
   "cell_type": "code",
   "execution_count": null,
   "metadata": {},
   "outputs": [],
   "source": [
    "# FILL IN THE BLANKS (What word and what symbol is missing?)\n",
    "temperature = -25\n",
    "__ temperature < -23 __\n",
    "    print( \"Brrr. It's cold.\")\n",
    "    print( \"Indoor recess!\")"
   ]
  },
  {
   "cell_type": "code",
   "execution_count": null,
   "metadata": {},
   "outputs": [],
   "source": [
    "# FILL IN THE LINE OF CODE\n",
    "#   Add an *IF* statement so that the door opens if the user enters sesame\n",
    "password = input(\"Enter your password: \")\n",
    "__ ________ == \"______\" __\n",
    "    print(\" Open Sesame! A door opens \")"
   ]
  },
  {
   "cell_type": "markdown",
   "metadata": {},
   "source": [
    "<img style=\"float:left;margin-right:30px;\" width=\"500px\" src=\"images/simonsays2.JPG\">\n",
    "\n",
    "## 2.1 IF-ELSE\n",
    "\n",
    "So we know how to run some code *IF* the comparison is true. Now, let's run some different code when the comparison is *NOT* true. We will add an `else` block that works like this:\n",
    "\n",
    "- If (`if`) a **COMPARISON** is `True`, then run some code; \n",
    "- Otherwise (`else`), run other code *INSTEAD*\n",
    "\n",
    "So now, the conditional code looks like this:\n",
    "\n",
    "    if COMPARISON :\n",
    "        run_this_code\n",
    "        and_run_this_code\n",
    "        \n",
    "    else :\n",
    "        run_this_code_instead\n",
    "        this_code_too\n",
    "\n",
    "**Again, NOTICE** the COLONS at the end\n",
    "\n",
    "**Again, NOTICE** the SPACES in front of the code that is part of the `else`. The code that is grouped together with the same number of spaces in front is called a **code block**\n",
    "\n",
    "Let's try running these new conditionals. For each one, try:\n",
    "\n",
    "1. Fill in a value for each variable\n",
    "1. What happens when the comparison is true?\n",
    "1. *NOW* what happens when the comparison is false?\n"
   ]
  },
  {
   "cell_type": "code",
   "execution_count": null,
   "metadata": {},
   "outputs": [],
   "source": [
    "# FILL IN THE BLANK (set the value of the bus fare)\n",
    "bus_fare = ____\n",
    "if bus_fare == 3.50 :\n",
    "    print( \"Thanks for paying,\" )\n",
    "    print( \"come on the bus!\" )\n",
    "else :\n",
    "    print( \"That's not the EXACT amount...\" )"
   ]
  },
  {
   "cell_type": "code",
   "execution_count": null,
   "metadata": {},
   "outputs": [],
   "source": [
    "# FILL IN THE BLANK (What word and symbol is missing?)\n",
    "temperature = ____\n",
    "if temperature < -23 :\n",
    "    print( \"Brrr. It's cold.\")\n",
    "    print( \"Indoor recess!\")\n",
    "_____ __\n",
    "    print ( \"Go play outside!\" )"
   ]
  },
  {
   "cell_type": "code",
   "execution_count": null,
   "metadata": {},
   "outputs": [],
   "source": [
    "# FILL IN THE LINE OF CODE \n",
    "password = input(\"Enter your password: \")\n",
    "__ ________ == \"______\" __\n",
    "    print(\" Open Sesame! A door opens \")\n",
    "____ __\n",
    "    print(\" You cannot enter\")"
   ]
  },
  {
   "cell_type": "markdown",
   "metadata": {},
   "source": [
    "<img style=\"float:right;margin-left:30px;\" width=\"500px\" src=\"images/simonsays3.JPG\">\n",
    "\n",
    "## 2.2 IF-ELIF-ELSE\n",
    "\n",
    "Great, we know how to do something if a comparison is `True` and when it's not. But what if we want to test more than one comparison? We can use an *else if* statement to add more comparisons. It works like this:\n",
    "\n",
    "- If (`if`) a **COMPARISON** is `True`\n",
    "    - then run some code\n",
    "- Or, if (`elif`) another **COMPARISON** is `True`\n",
    "    - run some other code *INSTEAD*\n",
    "- Otherwise (`else`)\n",
    "    - run a third piece of code *INSTEAD*\n",
    "\n",
    "So, finally, our code looks like this:\n",
    "\n",
    "    if COMPARISON1 :\n",
    "        run_this_code\n",
    "        and_run_this_code\n",
    "        \n",
    "    elif COMPARISON2 :\n",
    "        run_different_code\n",
    "        and_more_different_code\n",
    "        \n",
    "    else :\n",
    "        run_this_code_instead\n",
    "        this_code_too\n",
    "\n",
    "Let's try our conditionals again:"
   ]
  },
  {
   "cell_type": "code",
   "execution_count": null,
   "metadata": {},
   "outputs": [],
   "source": [
    "# FILL IN THE BLANK (set the value of the bus fare)\n",
    "bus_fare = ____\n",
    "if bus_fare == 3.50 :\n",
    "    print( \"Thanks for paying,\" )\n",
    "    print( \"come on the bus!\" )\n",
    "elif bus_fare > 3.50 :\n",
    "    print( \"You paid too much!\" )\n",
    "else :\n",
    "    print( \"You paid too little!\" )"
   ]
  },
  {
   "cell_type": "code",
   "execution_count": null,
   "metadata": {},
   "outputs": [],
   "source": [
    "# FILL IN THE BLANKS (what word and symbol is missing?)\n",
    "temperature = ____\n",
    "if temperature < -23 :\n",
    "    print( \"Brrr. It's cold.\")\n",
    "    print( \"Indoor recess!\")\n",
    "____ temperature > 30 __\n",
    "    print ( \"So hot. Let's go swimming.\")\n",
    "____ __\n",
    "    print ( \"Go play outside!\" )"
   ]
  },
  {
   "cell_type": "code",
   "execution_count": null,
   "metadata": {},
   "outputs": [],
   "source": [
    "# FILL IN THE BLANKS: Check for two different passwords.\n",
    "password = input(\"Enter your password: \")\n",
    "if password __ \"______\"\n",
    "    print(\" _______ \")\n",
    "elif password __ \"_______\"\n",
    "    print(\" _______ \")\n",
    "else\n",
    "    print(\" _______ \")"
   ]
  },
  {
   "cell_type": "markdown",
   "metadata": {},
   "source": [
    "# More Challenges\n",
    "\n",
    "### *Activity 2.3*\n",
    "\n",
    "Fill in the blank with different numbers."
   ]
  },
  {
   "cell_type": "code",
   "execution_count": null,
   "metadata": {},
   "outputs": [],
   "source": [
    "# FILL IN THE BLANK:\n",
    "aNumber = ___\n",
    "if aNumber > 10 :\n",
    "    print (\"that's a big number!\" )"
   ]
  },
  {
   "cell_type": "markdown",
   "metadata": {},
   "source": [
    "**QUESTION:** What happens if the number was NOT bigger than 10? \n",
    "\n",
    "*(answer: nothing!)*\n",
    "\n",
    "### *Activity 2.5*\n",
    "\n",
    "Let's add an `else` statement so that it prints something else instead:\n"
   ]
  },
  {
   "cell_type": "code",
   "execution_count": null,
   "metadata": {},
   "outputs": [],
   "source": [
    "# FILL IN THE BLANK:\n",
    "aNumber = ___\n",
    "if aNumber > 10 :\n",
    "    print (\"that's a big number!\")\n",
    "____ :\n",
    "    print (\"that's NOT bigger than 10!\")"
   ]
  },
  {
   "cell_type": "markdown",
   "metadata": {},
   "source": [
    "That's a little better! \n",
    "\n",
    "Now, let's try also saying something if the number is LESS THAN zero (0) too.\n",
    "\n",
    "### *Activity 2.6*\n",
    "\n",
    "Let's add an `elif` statement as a second conditional test:"
   ]
  },
  {
   "cell_type": "code",
   "execution_count": null,
   "metadata": {},
   "outputs": [],
   "source": [
    "# FILL IN THE BLANK:\n",
    "aNumber = ___\n",
    "if aNumber > 10 :\n",
    "    print (\"that's a big number!\")\n",
    "____ aNumber _ 0 :\n",
    "    print (\"that's a negative number...\")\n",
    "else :\n",
    "    print (\"that's between zero and ten :D \")"
   ]
  },
  {
   "cell_type": "markdown",
   "metadata": {},
   "source": [
    "### *Activity 2.7*\n",
    "\n",
    "We can now start making more interesting programs by taking `input` and then use a conditional to print a different message based on what is entered...\n",
    "\n",
    "**REMEMBER:** `input()` will save a *string*, not a number!\n",
    "\n",
    "Try running the following code. Things to think about:\n",
    "\n",
    "- What happens if you enter \"`C`\"?\n",
    "- What happens if you enter lower case \"`a`\" or \"`b`\"?\n"
   ]
  },
  {
   "cell_type": "code",
   "execution_count": null,
   "metadata": {},
   "outputs": [],
   "source": [
    "# PREDICT AND RUN ME:\n",
    "fruit = input(\"select A or B: \")\n",
    "if fruit == \"A\":\n",
    "    print(\"A is for Apple!\")\n",
    "else:\n",
    "    print(\"B is for Banana!\")\n",
    "    "
   ]
  },
  {
   "cell_type": "markdown",
   "metadata": {},
   "source": [
    "There's something not quite right with this code... do you know what it is?\n",
    "\n",
    "*HINT* what happens if I don't enter `A` or `B`?"
   ]
  },
  {
   "cell_type": "markdown",
   "metadata": {},
   "source": [
    "### *Activity 2.8*\n",
    "Let's make this code better!\n",
    "\n",
    "Can you insert an `elif` statement so that it prints the banana message **ONLY** if the user enters \"`B`\"? Otherwise, it should print something else."
   ]
  },
  {
   "cell_type": "code",
   "execution_count": null,
   "metadata": {},
   "outputs": [],
   "source": [
    "# FILL IN THE BLANKS:\n",
    "fruit = input(\"select A or B: \")\n",
    "if fruit == \"A\":\n",
    "    print(\"A is for Apple!\")\n",
    "____ fruit == \"___\":\n",
    "    print(\"___ is for Banana!\")\n",
    "else:\n",
    "    print(\"That's not A or B...\")"
   ]
  },
  {
   "cell_type": "markdown",
   "metadata": {},
   "source": [
    "# 3. Basic Loops\n",
    "\n",
    "So now we're good at doing `if` then `else`; but sometimes we want keep doing something over and over. \n",
    "\n",
    "We need to use a **LOOP**. \n",
    "\n",
    "For now, we'll just use an *infinite loop* that looks like this `while True :`\n",
    "\n",
    "And when we want to stop, we'll use `break`\n",
    "\n",
    "Let's use this to build a very basic game:"
   ]
  },
  {
   "cell_type": "code",
   "execution_count": null,
   "metadata": {},
   "outputs": [],
   "source": [
    "# RUN ME\n",
    "print (\"SAY MY NAME GAME\")\n",
    "while True :\n",
    "    name = input (\"Say my name : \")\n",
    "    if name == \"my name\" :\n",
    "        print (\"You win!\")\n",
    "        break\n",
    "    else :\n",
    "        print (\"Nope. Try again. I said: say my name\")    "
   ]
  },
  {
   "cell_type": "markdown",
   "metadata": {},
   "source": [
    "### *Activity 3.1*\n",
    "\n",
    "You now have the basics to write a simple trivia game: *Who am I?* or *What am I?*\n",
    "\n",
    "Here's how your game will work:\n",
    "\n",
    "1. Describe something to the user (i.e. \"I have four legs\", or use some ascii art)\n",
    "1. Use a while True loop\n",
    "1. Ask them for a guess\n",
    "1. Use a conditional to say if the guess is right or wrong\n",
    "1. Use break to exit the loop\n"
   ]
  },
  {
   "cell_type": "code",
   "execution_count": null,
   "metadata": {},
   "outputs": [],
   "source": [
    "# FILL IN THE BLANKS\n",
    "print(\"________\")\n",
    "while True :\n",
    "    ______ = input(\"_________\")\n",
    "    if _____ :\n",
    "        print (\"________\")\n",
    "    _____ :\n",
    "        print (\"_________)"
   ]
  }
 ],
 "metadata": {
  "kernelspec": {
   "display_name": "Python 3",
   "language": "python",
   "name": "python3"
  },
  "language_info": {
   "codemirror_mode": {
    "name": "ipython",
    "version": 3
   },
   "file_extension": ".py",
   "mimetype": "text/x-python",
   "name": "python",
   "nbconvert_exporter": "python",
   "pygments_lexer": "ipython3",
   "version": "3.7.5"
  }
 },
 "nbformat": 4,
 "nbformat_minor": 2
}
