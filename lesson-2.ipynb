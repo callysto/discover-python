{
 "cells": [
  {
   "cell_type": "code",
   "execution_count": 2,
   "metadata": {},
   "outputs": [
    {
     "data": {
      "text/html": [
       "<style>div.run_this_cell{display:block;}</style>\n"
      ],
      "text/plain": [
       "<IPython.core.display.HTML object>"
      ]
     },
     "metadata": {},
     "output_type": "display_data"
    }
   ],
   "source": [
    "%%html\n",
    "<style>div.run_this_cell{display:block;}</style>"
   ]
  },
  {
   "cell_type": "markdown",
   "metadata": {},
   "source": [
    "<img style=\"float:right;margin-left:50px;margin-right:50px;\" width=\"300\" src=\"images/discovercoding.png\">\n",
    "\n",
    "# Discover Python with Callysto\n",
    "Lesson created and taught by [Discover Coding](https://discovercoding.ca).\n",
    "\n",
    "With support and funding from [Callysto](https://callysto.ca/) and the [Pacific Institute for Mathematical Sciences](https://www.pims.math.ca/)\n",
    "\n",
    "# Lesson 2: Conditionals\n",
    "\n",
    "In this lesson, we will explore:\n",
    "- Comparisons\n",
    "- Conditionals\n",
    "- Basic Loops\n",
    "- Random numbers\n"
   ]
  },
  {
   "cell_type": "markdown",
   "metadata": {},
   "source": [
    "# 1. Comparisons\n",
    "\n",
    "Python can also do a *COMPARISON* on numbers or strings and tell us if something is `TRUE` or `FALSE`. We use the following operators:\n",
    "\n",
    "    Is Equal:              ==\n",
    "    Not equal:             !=\n",
    "    Less than:             <\n",
    "    Greater than:          >\n",
    "    Less than or equal:    <=\n",
    "    Greater than or equal: >="
   ]
  },
  {
   "cell_type": "markdown",
   "metadata": {},
   "source": [
    "### *ACTIVITY 1.1*\n",
    "\n",
    "Let's try some comparisons. \n",
    "\n",
    "Python will tell us if these are `True` or `False`"
   ]
  },
  {
   "cell_type": "code",
   "execution_count": null,
   "metadata": {},
   "outputs": [],
   "source": [
    "# RUN ME: Is 5 less than 7?\n",
    "5 < 7"
   ]
  },
  {
   "cell_type": "code",
   "execution_count": null,
   "metadata": {},
   "outputs": [],
   "source": [
    "# RUN ME: Is one-half (1/2) EQUAL TO two-quarters (2/4)?\n",
    "1/2 == 2/4"
   ]
  },
  {
   "cell_type": "code",
   "execution_count": null,
   "metadata": {},
   "outputs": [],
   "source": [
    "# SOLVE THIS: Is two-thirds (2/3) greater than three-quarters (3/4)?\n"
   ]
  },
  {
   "cell_type": "markdown",
   "metadata": {},
   "source": [
    "We can also use comparison on strings, but usually we only use EQUAL (`==`) or NOT EQUAL (`!=`)"
   ]
  },
  {
   "cell_type": "code",
   "execution_count": null,
   "metadata": {},
   "outputs": [],
   "source": [
    "# RUN ME:\n",
    "\"hello\" == \"HELLO\""
   ]
  },
  {
   "cell_type": "code",
   "execution_count": null,
   "metadata": {},
   "outputs": [],
   "source": [
    "# RUN ME:\n",
    "\"String One\" != \"A different string\""
   ]
  },
  {
   "cell_type": "markdown",
   "metadata": {},
   "source": [
    "<img style=\"float:right;margin-left:30px;\" width=\"500px\" src=\"images/simonsays1.JPG\">\n",
    "\n",
    "# 2. Conditionals\n",
    "\n",
    "CONDITIONALS are how programs make decisions. A conditional works like this:\n",
    "\n",
    "- If (`if`) a **COMPARISON** is `True`\n",
    "    - then run some code; \n",
    "\n",
    "It's like playing **Simon Says** with the computer.\n",
    "\n",
    "Here is the most basic form of a comparison:\n",
    "\n",
    "    if COMPARISON :\n",
    "        run_this_code\n",
    "        and_run_this_code\n",
    "\n",
    "**NOTICE** the COLON after the COMPARISON\n",
    "\n",
    "**NOTICE** the SPACES in front of the code that is part of the *condition*\n",
    "\n",
    "Let's try running the conditionals below. For each one, try:\n",
    "\n",
    "1. Fill in a value for each variable\n",
    "1. What happens when the comparison is true?\n",
    "1. What happens when the comparison is false?"
   ]
  },
  {
   "cell_type": "code",
   "execution_count": null,
   "metadata": {},
   "outputs": [],
   "source": [
    "# FILL IN THE BLANK (set the value of the bus fare)\n",
    "bus_fare = ____\n",
    "if bus_fare == 3.50 :\n",
    "    print( \"Thanks for paying,\" )\n",
    "    print( \"come on the bus!\" )"
   ]
  },
  {
   "cell_type": "code",
   "execution_count": null,
   "metadata": {},
   "outputs": [],
   "source": [
    "# FILL IN THE BLANKS (What word and what symbol is missing?)\n",
    "temperature = -25\n",
    "__ temperature < -23 __\n",
    "    print( \"Brrr. It's cold.\")\n",
    "    print( \"Indoor recess!\")"
   ]
  },
  {
   "cell_type": "code",
   "execution_count": null,
   "metadata": {},
   "outputs": [],
   "source": [
    "# FILL IN THE LINE OF CODE\n",
    "#   Add an *IF* statement so that the door opens if the user enters sesame\n",
    "password = input(\"Enter your password: \")\n",
    "__ ________ == \"______\" __\n",
    "    print(\" Open Sesame! A door opens \")"
   ]
  },
  {
   "cell_type": "markdown",
   "metadata": {},
   "source": [
    "<img style=\"float:left;margin-right:30px;\" width=\"500px\" src=\"images/simonsays2.JPG\">\n",
    "\n",
    "## 2.1 IF-ELSE\n",
    "\n",
    "So we know how to run some code *IF* the comparison is true. Now, let's run some different code when the comparison is *NOT* true. We will add an `else` block that works like this:\n",
    "\n",
    "- If (`if`) a **COMPARISON** is `True`, then run some code; \n",
    "- Otherwise (`else`), run other code *INSTEAD*\n",
    "\n",
    "So now, the conditional code looks like this:\n",
    "\n",
    "    if COMPARISON :\n",
    "        run_this_code\n",
    "        and_run_this_code\n",
    "        \n",
    "    else :\n",
    "        run_this_code_instead\n",
    "        this_code_too\n",
    "\n",
    "**Again, NOTICE** the COLONS at the end\n",
    "\n",
    "**Again, NOTICE** the SPACES in front of the code that is part of the `else`. The code that is grouped together with the same number of spaces in front is called a **code block**\n",
    "\n",
    "Let's try running these new conditionals. For each one, try:\n",
    "\n",
    "1. Fill in a value for each variable\n",
    "1. What happens when the comparison is true?\n",
    "1. *NOW* what happens when the comparison is false?\n"
   ]
  },
  {
   "cell_type": "code",
   "execution_count": null,
   "metadata": {},
   "outputs": [],
   "source": [
    "# FILL IN THE BLANK (set the value of the bus fare)\n",
    "bus_fare = ____\n",
    "if bus_fare == 3.50 :\n",
    "    print( \"Thanks for paying,\" )\n",
    "    print( \"come on the bus!\" )\n",
    "else :\n",
    "    print( \"That's not the EXACT amount...\" )"
   ]
  },
  {
   "cell_type": "code",
   "execution_count": null,
   "metadata": {},
   "outputs": [],
   "source": [
    "# FILL IN THE BLANK (What word and symbol is missing?)\n",
    "temperature = ____\n",
    "if temperature < -23 :\n",
    "    print( \"Brrr. It's cold.\")\n",
    "    print( \"Indoor recess!\")\n",
    "_____ __\n",
    "    print ( \"Go play outside!\" )"
   ]
  },
  {
   "cell_type": "code",
   "execution_count": null,
   "metadata": {},
   "outputs": [],
   "source": [
    "# FILL IN THE LINE OF CODE \n",
    "password = input(\"Enter your password: \")\n",
    "__ ________ == \"______\" __\n",
    "    print(\" Open Sesame! A door opens \")\n",
    "____ __\n",
    "    print(\" You cannot enter\")"
   ]
  },
  {
   "cell_type": "markdown",
   "metadata": {},
   "source": [
    "<img style=\"float:right;margin-left:30px;\" width=\"500px\" src=\"images/simonsays3.JPG\">\n",
    "\n",
    "## 2.2 IF-ELIF-ELSE\n",
    "\n",
    "Great, we know how to do something if a comparison is `True` and when it's not. But what if we want to test more than one comparison? We can use an *else if* statement to add more comparisons. It works like this:\n",
    "\n",
    "- If (`if`) a **COMPARISON** is `True`\n",
    "    - then run some code\n",
    "- Or, if (`elif`) another **COMPARISON** is `True`\n",
    "    - run some other code *INSTEAD*\n",
    "- Otherwise (`else`)\n",
    "    - run a third piece of code *INSTEAD*\n",
    "\n",
    "So, finally, our code looks like this:\n",
    "\n",
    "    if COMPARISON1 :\n",
    "        run_this_code\n",
    "        and_run_this_code\n",
    "        \n",
    "    elif COMPARISON2 :\n",
    "        run_different_code\n",
    "        and_more_different_code\n",
    "        \n",
    "    else :\n",
    "        run_this_code_instead\n",
    "        this_code_too\n",
    "\n",
    "Let's try our conditionals again:"
   ]
  },
  {
   "cell_type": "code",
   "execution_count": null,
   "metadata": {},
   "outputs": [],
   "source": [
    "# FILL IN THE BLANK (set the value of the bus fare)\n",
    "bus_fare = ____\n",
    "if bus_fare == 3.50 :\n",
    "    print( \"Thanks for paying,\" )\n",
    "    print( \"come on the bus!\" )\n",
    "elif bus_fare > 3.50 :\n",
    "    print( \"You paid too much!\" )\n",
    "else :\n",
    "    print( \"You paid too little!\" )"
   ]
  },
  {
   "cell_type": "code",
   "execution_count": null,
   "metadata": {},
   "outputs": [],
   "source": [
    "# FILL IN THE BLANKS (what word and symbol is missing?)\n",
    "temperature = ____\n",
    "if temperature < -23 :\n",
    "    print( \"Brrr. It's cold.\")\n",
    "    print( \"Indoor recess!\")\n",
    "____ temperature > 30 __\n",
    "    print ( \"So hot. Let's go swimming.\")\n",
    "____ __\n",
    "    print ( \"Go play outside!\" )"
   ]
  },
  {
   "cell_type": "code",
   "execution_count": null,
   "metadata": {},
   "outputs": [],
   "source": [
    "# FILL IN THE BLANKS: Check for two different passwords.\n",
    "password = input(\"Enter your password: \")\n",
    "if password __ \"______\"\n",
    "    print(\" _______ \")\n",
    "elif password __ \"_______\"\n",
    "    print(\" _______ \")\n",
    "else\n",
    "    print(\" _______ \")"
   ]
  },
  {
   "cell_type": "markdown",
   "metadata": {},
   "source": [
    "# CHECKPOINT\n",
    "\n",
    "`if` you're feeling good about conditionals and want to move on, scroll down to **SECTION 3. RANDOM**\n",
    "\n",
    "`else` you want to get extra practice, try some of the activities below.\n",
    "\n",
    "### *Activity 2.3*\n",
    "\n",
    "Fill in the blank with different numbers."
   ]
  },
  {
   "cell_type": "code",
   "execution_count": null,
   "metadata": {},
   "outputs": [],
   "source": [
    "# FILL IN THE BLANK:\n",
    "aNumber = ___\n",
    "if aNumber > 10 :\n",
    "    print (\"that's a big number!\" )"
   ]
  },
  {
   "cell_type": "markdown",
   "metadata": {},
   "source": [
    "**QUESTION:** What happens if the number was NOT bigger than 10? \n",
    "\n",
    "*(answer: nothing!)*\n",
    "\n",
    "### *Activity 2.5*\n",
    "\n",
    "Let's add an `else` statement so that it prints something else instead:\n"
   ]
  },
  {
   "cell_type": "code",
   "execution_count": null,
   "metadata": {},
   "outputs": [],
   "source": [
    "# FILL IN THE BLANK:\n",
    "aNumber = ___\n",
    "if aNumber > 10 :\n",
    "    print (\"that's a big number!\")\n",
    "____ :\n",
    "    print (\"that's NOT bigger than 10!\")"
   ]
  },
  {
   "cell_type": "markdown",
   "metadata": {},
   "source": [
    "That's a little better! \n",
    "\n",
    "Now, let's try also saying something if the number is LESS THAN zero (0) too.\n",
    "\n",
    "### *Activity 2.6*\n",
    "\n",
    "Let's add an `elif` statement as a second conditional test:"
   ]
  },
  {
   "cell_type": "code",
   "execution_count": null,
   "metadata": {},
   "outputs": [],
   "source": [
    "# FILL IN THE BLANK:\n",
    "aNumber = ___\n",
    "if aNumber > 10 :\n",
    "    print (\"that's a big number!\")\n",
    "____ aNumber _ 0 :\n",
    "    print (\"that's a negative number...\")\n",
    "else :\n",
    "    print (\"that's between zero and ten :D \")"
   ]
  },
  {
   "cell_type": "markdown",
   "metadata": {},
   "source": [
    "### *Activity 2.7*\n",
    "\n",
    "We can now start making more interesting programs by taking `input` and then use a conditional to print a different message based on what is entered...\n",
    "\n",
    "**REMEMBER:** `input()` will save a *string*, not a number!\n",
    "\n",
    "Try running the following code. Things to think about:\n",
    "\n",
    "- What happens if you enter \"`C`\"?\n",
    "- What happens if you enter lower case \"`a`\" or \"`b`\"?\n"
   ]
  },
  {
   "cell_type": "code",
   "execution_count": null,
   "metadata": {},
   "outputs": [],
   "source": [
    "# PREDICT AND RUN ME:\n",
    "fruit = input(\"select A or B: \")\n",
    "if fruit == \"A\":\n",
    "    print(\"A is for Apple!\")\n",
    "else:\n",
    "    print(\"B is for Banana!\")\n",
    "    "
   ]
  },
  {
   "cell_type": "markdown",
   "metadata": {},
   "source": [
    "There's something not quite right with this code... do you know what it is?\n",
    "\n",
    "*HINT* what happens if I don't enter `A` or `B`?"
   ]
  },
  {
   "cell_type": "markdown",
   "metadata": {},
   "source": [
    "### *Activity 2.8*\n",
    "Let's make this code better!\n",
    "\n",
    "Can you insert an `elif` statement so that it prints the banana message **ONLY** if the user enters \"`B`\"? Otherwise, it should print something else."
   ]
  },
  {
   "cell_type": "code",
   "execution_count": null,
   "metadata": {},
   "outputs": [],
   "source": [
    "# FILL IN THE BLANKS:\n",
    "fruit = input(\"select A or B: \")\n",
    "if fruit == \"A\":\n",
    "    print(\"A is for Apple!\")\n",
    "____ fruit == \"___\":\n",
    "    print(\"___ is for Banana!\")\n",
    "else:\n",
    "    print(\"That's not A or B...\")"
   ]
  },
  {
   "cell_type": "markdown",
   "metadata": {},
   "source": [
    "### *Activity 2.9*\n",
    "\n",
    "You now have the basics to write a simple trivia game: *Who am I?* or *What am I?*\n",
    "\n",
    "Here's how your game will work:\n",
    "\n",
    "1. Describe something to the user (i.e. \"I have four legs\") \n",
    "1. Ask them for a guess\n",
    "1. Tell them if they are correct or not\n",
    "\n",
    "Here's an example"
   ]
  },
  {
   "cell_type": "code",
   "execution_count": null,
   "metadata": {},
   "outputs": [],
   "source": [
    "# RUN ME\n",
    "print(r' ^(*(oo)*)^ ')\n",
    "answer = input(\"What am I?\")\n",
    "if answer == \"pig\":\n",
    "    print (\"Oink Oink!\")\n",
    "else:\n",
    "    print (\"I am NOT a \" + answer)"
   ]
  },
  {
   "cell_type": "markdown",
   "metadata": {},
   "source": [
    "# 3. Random\n",
    "\n",
    "<img style=\"float:left;margin-right:30px;\" width=\"400px\" src=\"https://media.giphy.com/media/H4uFElBB9Nt7zq3RZ9/source.gif\">\n",
    "\n",
    "So far, all of our code is very **predictable** -- we can see what will happen. So let's try to let the computer add some *randomness*. We can tell the computer to pick a number, or roll a dice.\n",
    "\n",
    "First, we need to `import random` in our code. This let's us use some random *functions* to generate a random number. \n",
    "\n",
    "`random.random()` picks a *DECIMAL* number between `0` and `1`\n",
    "`random.randint(x,y)` picks a *WHOLE* number between `x` and `y`\n",
    "\n",
    "Let's look at an example:\n"
   ]
  },
  {
   "cell_type": "code",
   "execution_count": null,
   "metadata": {},
   "outputs": [],
   "source": [
    "# RUN ME (try it a couple of times)\n",
    "import random\n",
    "print( random.random() )"
   ]
  },
  {
   "cell_type": "code",
   "execution_count": null,
   "metadata": {},
   "outputs": [],
   "source": [
    "# RUN ME (try it a couple of times)\n",
    "import random\n",
    "print( random.randint(0,5) )"
   ]
  },
  {
   "cell_type": "markdown",
   "metadata": {},
   "source": [
    "### *Activity 3.1*\n",
    "\n",
    "Now you try!\n",
    "\n",
    "Tell the computer to make a random number between 1 and 10.\n",
    "\n",
    "Save it into a variable named `myRandomNumber`"
   ]
  },
  {
   "cell_type": "code",
   "execution_count": null,
   "metadata": {},
   "outputs": [],
   "source": [
    "# FILL IN THE BLANKS:\n",
    "import ______\n",
    "__________ = random._______( __ , __ )\n",
    "print ( myRandomNumber )"
   ]
  },
  {
   "cell_type": "markdown",
   "metadata": {},
   "source": [
    "### *Activity 3.2*\n",
    "\n",
    "This time, let's pick a number between 1000 and 5000.\n",
    "\n",
    "Save it into a variable named `myRandomNumber`"
   ]
  },
  {
   "cell_type": "code",
   "execution_count": null,
   "metadata": {},
   "outputs": [],
   "source": [
    "# FILL IN THE BLANKS:\n",
    "import ______\n",
    "__________ = random._______( __ , __ )\n",
    "print ( myRandomNumber )"
   ]
  },
  {
   "cell_type": "markdown",
   "metadata": {},
   "source": [
    "### *Activity 3.3*\n",
    "\n",
    "Remember the previous activities where we entered a temperature? Let's set one randomly now!"
   ]
  },
  {
   "cell_type": "code",
   "execution_count": null,
   "metadata": {},
   "outputs": [],
   "source": [
    "# ADD TWO LINES OF CODE to set a random temperature \n",
    "______ ______\n",
    "__________ = _______.________ ( ___ , ___ )\n",
    "\n",
    "if temperature < -23 :\n",
    "    print( \"Brrr. It's cold.\")\n",
    "    print( \"Indoor recess!\")\n",
    "elif temperature > 30 :\n",
    "    print ( \"So hot. Let's go swimming.\")\n",
    "else :\n",
    "    print ( \"Go play outside!\" )"
   ]
  },
  {
   "cell_type": "markdown",
   "metadata": {},
   "source": [
    "<img style=\"float:right;margin-left:30px;\" src=\"images/guessthenumber.gif\">\n",
    "\n",
    "# 4. EXTRA CHALLENGE:<br/> \"Guess the Number\" Game\n",
    "\n",
    "Now, let's create a number guessing game using a conditionals, variables and random numbers.\n",
    "\n",
    "1. Save a random number in a variable named `secret`\n",
    "1. Ask the user to `input` a number\n",
    "1. If the guess is corret, print a winning message\n",
    "1. If the guess is higher than `secret`, print `lower`\n",
    "1. Otherwise (`else`), the guess must need to be `higher`\n"
   ]
  },
  {
   "cell_type": "code",
   "execution_count": null,
   "metadata": {},
   "outputs": [],
   "source": [
    "# FILL IN THE BLANKS\n",
    "\n",
    "# 1. import module and pick a random number\n",
    "import ______\n",
    "secret = ______.______( ___ , ___ )\n",
    "\n",
    "# This is a loop. Don't worry about it for now. \n",
    "while True :\n",
    "\n",
    "# 3. Prompt for user input\n",
    "#    HINT: We have to convert the user response from a string to an int\n",
    "    guess = input( \"______ \" )\n",
    "    number = int(guess)\n",
    "\n",
    "# 4. Check if number is equal to secret, if so, print a message and break out of loop. \n",
    "#    Otherwise, print a hint of higher or lower, and keep looping\n",
    "    if ______ == ______ :\n",
    "        print ( \"_____\" )\n",
    "        break # this makes our loop stop. Don't worry about it for now\n",
    "    elif ______ > ______ :\n",
    "        print ( \"_____\" )\n",
    "    else :\n",
    "        print ( \"_____\" )\n"
   ]
  },
  {
   "cell_type": "markdown",
   "metadata": {},
   "source": [
    "## 5.1 EXTRA Random Function\n",
    "\n",
    "if we have a *LIST* of things, we can pick a random thing from the list using `random.choice()`.\n",
    "\n",
    "Here's an example:"
   ]
  },
  {
   "cell_type": "code",
   "execution_count": null,
   "metadata": {},
   "outputs": [],
   "source": [
    "# RUN ME (try it a couple of times)\n",
    "import random\n",
    "myList = [\"computer\", \"orange\", \"piano\"]\n",
    "myRandomThing = random.choice(myList)\n",
    "print ( myRandomThing )"
   ]
  },
  {
   "cell_type": "markdown",
   "metadata": {},
   "source": [
    "Let's try a simple word-guessing quiz"
   ]
  },
  {
   "cell_type": "code",
   "execution_count": null,
   "metadata": {},
   "outputs": [],
   "source": [
    "# FILL IN THE LINE OF CODE \n",
    "import ______\n",
    "food = [\"bits\", \"bytes\", \"electrons\"]\n",
    "meal = random._____( _____ )\n",
    "\n",
    "answer = input(\"What did your computer eat for breakfast? \")\n",
    "if answer == meal :\n",
    "    print(\"Om nom nom. correct.\")\n",
    "else :\n",
    "    print(\"Bzzt. It ate \" + meal)"
   ]
  },
  {
   "cell_type": "markdown",
   "metadata": {},
   "source": [
    "**EXTRA CHALLENGE 2:** Can you try creating a *\"Guess the Word\"* game using `random.choice()`?"
   ]
  },
  {
   "cell_type": "code",
   "execution_count": null,
   "metadata": {},
   "outputs": [],
   "source": [
    "# CODE HERE\n",
    "\n",
    "# 1. import module and pick a random word\n",
    "\n",
    "# 2. Create a loop that is ALWAYS True\n",
    "while True:\n",
    "\n",
    "# 3. Prompt for user input\n",
    "\n",
    "# 4. Check if user input is correct, then print and break out of loop. \n",
    "#    Otherwise, prompt user for input again\n",
    "\n"
   ]
  }
 ],
 "metadata": {
  "kernelspec": {
   "display_name": "Python 3",
   "language": "python",
   "name": "python3"
  },
  "language_info": {
   "codemirror_mode": {
    "name": "ipython",
    "version": 3
   },
   "file_extension": ".py",
   "mimetype": "text/x-python",
   "name": "python",
   "nbconvert_exporter": "python",
   "pygments_lexer": "ipython3",
   "version": "3.7.5"
  }
 },
 "nbformat": 4,
 "nbformat_minor": 2
}
