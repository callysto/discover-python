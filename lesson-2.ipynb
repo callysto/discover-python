{
 "cells": [
  {
   "cell_type": "code",
   "execution_count": 2,
   "metadata": {},
   "outputs": [
    {
     "data": {
      "text/html": [
       "<style>div.run_this_cell{display:block;}</style>\n"
      ],
      "text/plain": [
       "<IPython.core.display.HTML object>"
      ]
     },
     "metadata": {},
     "output_type": "display_data"
    }
   ],
   "source": [
    "%%html\n",
    "<style>div.run_this_cell{display:block;}</style>"
   ]
  },
  {
   "cell_type": "markdown",
   "metadata": {},
   "source": [
    "<img style=\"float:right;margin-left:50px;margin-right:50px;\" width=\"300\" src=\"images/discovercoding.png\">\n",
    "\n",
    "# Discover Python with Callysto\n",
    "Lesson created and taught by [Discover Coding](https://discovercoding.ca).\n",
    "\n",
    "With support and funding from [Callysto](https://callysto.ca/) and the [Pacific Institute for Mathematical Sciences](https://www.pims.math.ca/)\n",
    "\n",
    "# Lesson 2: Conditionals\n",
    "\n",
    "In this lesson, we will explore:\n",
    "- Comparisons\n",
    "- Conditionals\n",
    "- Random numbers\n"
   ]
  },
  {
   "cell_type": "markdown",
   "metadata": {},
   "source": [
    "# 1. Comparisons\n",
    "\n",
    "Python can also do a *COMPARISON* on numbers or strings and tell us if something is `TRUE` or `FALSE`. We use the following operators:\n",
    "\n",
    "    Is Equal:              ==\n",
    "    Not equal:             !=\n",
    "    Less than:             <\n",
    "    Greater than:          >\n",
    "    Less than or equal:    <=\n",
    "    Greater than or equal: >="
   ]
  },
  {
   "cell_type": "markdown",
   "metadata": {},
   "source": [
    "### *ACTIVITY 1.1*\n",
    "\n",
    "Let's try some comparisons. \n",
    "\n",
    "Python will tell us if these are `True` or `False`"
   ]
  },
  {
   "cell_type": "code",
   "execution_count": null,
   "metadata": {},
   "outputs": [],
   "source": [
    "# RUN ME: Is 5 less than 7?\n",
    "5 < 7"
   ]
  },
  {
   "cell_type": "code",
   "execution_count": null,
   "metadata": {},
   "outputs": [],
   "source": [
    "# RUN ME: Is one-half (1/2) EQUAL TO two-quarters (2/4)?\n",
    "1/2 == 2/4"
   ]
  },
  {
   "cell_type": "code",
   "execution_count": null,
   "metadata": {},
   "outputs": [],
   "source": [
    "# SOLVE THIS: Is two-thirds (2/3) greater than three-quarters (3/4)?\n"
   ]
  },
  {
   "cell_type": "markdown",
   "metadata": {},
   "source": [
    "We can also use comparison on strings, but usually we only use EQUAL (`==`) or NOT EQUAL (`!=`)"
   ]
  },
  {
   "cell_type": "code",
   "execution_count": null,
   "metadata": {},
   "outputs": [],
   "source": [
    "# RUN ME:\n",
    "\"hello\" == \"HELLO\""
   ]
  },
  {
   "cell_type": "code",
   "execution_count": null,
   "metadata": {},
   "outputs": [],
   "source": [
    "# RUN ME:\n",
    "\"String One\" != \"A differen string\""
   ]
  },
  {
   "cell_type": "markdown",
   "metadata": {},
   "source": [
    "<img style=\"float:right;margin-left:30px;\" width=\"500px\" src=\"images/simonsays.png\">\n",
    "\n",
    "# 2. Conditionals\n",
    "CONDITIONALS are how programs make decisions:\n",
    "\n",
    "- If (`if`) something is `True`, then run some code; \n",
    "- or else if (`elif`) something else is `True`, then run other code;\n",
    "- Otherwise (`else`), then run different code.\n",
    "\n",
    "It's like playing **Simon Says** with the computer.\n",
    "\n",
    "A conditional looks like this:\n",
    "\n",
    "    if COMPARISON :\n",
    "        some_code\n",
    "    elif COMPARISON :\n",
    "        other_code\n",
    "    else : \n",
    "        more_code\n",
    "\n",
    "**NOTICE** the COLON and after the COMPARISON\n",
    "\n",
    "**NOTICE** the SPACES before the code!\n"
   ]
  },
  {
   "cell_type": "markdown",
   "metadata": {},
   "source": [
    "Here's a basic conditional:"
   ]
  },
  {
   "cell_type": "code",
   "execution_count": null,
   "metadata": {},
   "outputs": [],
   "source": [
    "# FILL IN THE BLANK (with a number):\n",
    "a = ___\n",
    "if a == 3 :\n",
    "    print (\"Variable 'a' is equal to 3!\")\n",
    "else:\n",
    "    print (\"Variable 'a' is something else\")"
   ]
  },
  {
   "cell_type": "markdown",
   "metadata": {},
   "source": [
    "### *Activity 2.1*\n",
    "\n",
    "We can now start making really interesting programs. Let's take some `input` and then use a conditional to print a different message based on what is entered...\n",
    "\n",
    "Try running the following code. Things to think about:\n",
    "\n",
    "- What happens if you enter \"`C`\"?\n",
    "- What happens if you enter lower case \"`a`\" or \"`b`\"?\n"
   ]
  },
  {
   "cell_type": "code",
   "execution_count": null,
   "metadata": {},
   "outputs": [],
   "source": [
    "# PREDICT AND RUN ME:\n",
    "fruit = input(\"select A or B: \")\n",
    "if fruit == \"A\":\n",
    "    print(\"A is for Apple!\")\n",
    "else:\n",
    "    print(\"B is for Banana!\")\n",
    "    "
   ]
  },
  {
   "cell_type": "markdown",
   "metadata": {},
   "source": [
    "There's something not quite right with this code... do you know what it is?\n",
    "\n",
    "*HINT* what happens if I don't enter `A` or `B`?"
   ]
  },
  {
   "cell_type": "markdown",
   "metadata": {},
   "source": [
    "### *Activity 2.2*\n",
    "Let's make this code better!\n",
    "\n",
    "Can you insert an `elif` statement so that it prints the banana message **ONLY** if the user enters \"`B`\"? Otherwise, it should print something else."
   ]
  },
  {
   "cell_type": "code",
   "execution_count": null,
   "metadata": {},
   "outputs": [],
   "source": [
    "# FILL IN THE BLANKS:\n",
    "fruit = input(\"select A or B: \")\n",
    "if fruit == \"A\":\n",
    "    print(\"A is for Apple!\")\n",
    "____ fruit == \"___\":\n",
    "    print(\"___ is for Banana!\")\n",
    "else:\n",
    "    print(\"That's not A or B...\")"
   ]
  },
  {
   "cell_type": "markdown",
   "metadata": {},
   "source": [
    "### *Activity 2.3*\n",
    "\n",
    "You now have the basics to write a simple trivia game: *Who am I?* or *What am I?*\n",
    "\n",
    "Here's how your game will work:\n",
    "\n",
    "1. Describe something to the user (i.e. \"I have \n",
    "1. Ask them for a guess\n",
    "1. Tell them if they are correct or not\n",
    "\n",
    "Here's an example"
   ]
  },
  {
   "cell_type": "code",
   "execution_count": null,
   "metadata": {},
   "outputs": [],
   "source": [
    "# RUN ME\n",
    "print(r' ^(*(oo)*)^ ')\n",
    "answer = input(\"What am I?\")\n",
    "if answer == \"pig\":\n",
    "    print (\"Oink Oink!\")\n",
    "else:\n",
    "    print (\"I am NOT a \" + answer)"
   ]
  },
  {
   "cell_type": "markdown",
   "metadata": {},
   "source": [
    "Now you try!"
   ]
  },
  {
   "cell_type": "code",
   "execution_count": null,
   "metadata": {},
   "outputs": [],
   "source": [
    "# FILL IN THE BLANKS\n",
    "______ = input (\"_____\")\n",
    "if _____ == ______ :\n",
    "    print (\"_______\")\n",
    "else :\n",
    "    print (\"_______\")"
   ]
  },
  {
   "cell_type": "markdown",
   "metadata": {},
   "source": [
    "# 3. Randomness\n",
    "\n",
    "<img style=\"float:left;margin-right:30px;\" width=\"400px\" src=\"https://media.giphy.com/media/H4uFElBB9Nt7zq3RZ9/source.gif\">\n",
    "\n",
    "So far, all of our code is very **predictable** -- we can see what will happen. So let's try to let the computer add some *randomness*. We can tell the computer to pick a number, or roll a dice.\n",
    "\n",
    "First, we need to `import random` in our code. This let's us use some random *functions* to generate a random number. \n",
    "\n",
    "`random.random()` picks a *DECIMAL* number between `0` and `1`\n",
    "`random.randint(x,y)` picks a *WHOLE* number between `x` and `y`\n",
    "\n",
    "Let's look at an example:\n"
   ]
  },
  {
   "cell_type": "code",
   "execution_count": null,
   "metadata": {},
   "outputs": [],
   "source": [
    "# RUN ME (try it a couple of times)\n",
    "import random\n",
    "print( random.random() )\n",
    "print( random.randint(0,5) )"
   ]
  },
  {
   "cell_type": "markdown",
   "metadata": {},
   "source": [
    "### *Activity 3.1*\n",
    "\n",
    "Can you try picking a number between 1 and 10? And save it into a variable named `myRandomNumber`?"
   ]
  },
  {
   "cell_type": "code",
   "execution_count": null,
   "metadata": {},
   "outputs": [],
   "source": [
    "# FILL IN THE BLANKS:\n",
    "__________ = random._______( __ , __ )\n",
    "print ( myRandomNumber )"
   ]
  },
  {
   "cell_type": "markdown",
   "metadata": {},
   "source": [
    "## 3.2 Random item in a list\n",
    "\n",
    "if we have a *LIST* of things, we can pick a random thing from the list using `random.choice()`.\n",
    "\n",
    "Here's an example:"
   ]
  },
  {
   "cell_type": "code",
   "execution_count": null,
   "metadata": {},
   "outputs": [],
   "source": [
    "# RUN ME (try it a couple of times)\n",
    "import random\n",
    "myList = [\"computer\", \"orange\", \"piano\"]\n",
    "myRandomThing = random.choice(myList)\n",
    "print ( myRandomThing )"
   ]
  }
 ],
 "metadata": {
  "kernelspec": {
   "display_name": "Python 3",
   "language": "python",
   "name": "python3"
  },
  "language_info": {
   "codemirror_mode": {
    "name": "ipython",
    "version": 3
   },
   "file_extension": ".py",
   "mimetype": "text/x-python",
   "name": "python",
   "nbconvert_exporter": "python",
   "pygments_lexer": "ipython3",
   "version": "3.7.5"
  }
 },
 "nbformat": 4,
 "nbformat_minor": 2
}
