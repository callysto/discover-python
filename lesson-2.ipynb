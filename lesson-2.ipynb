{
 "cells": [
  {
   "cell_type": "code",
   "execution_count": null,
   "metadata": {},
   "outputs": [],
   "source": [
    "%%html\n",
    "<style>div.run_this_cell{display:block;}</style>"
   ]
  },
  {
   "cell_type": "markdown",
   "metadata": {},
   "source": [
    "<img style=\"float:right;margin-left:50px;margin-right:50px;\" width=\"300\" src=\"images/discovercoding.png\">\n",
    "\n",
    "# Discover Python with Callysto\n",
    "Lesson created and taught by [Discover Coding](https://discovercoding.ca).\n",
    "\n",
    "With support and funding from [Callysto](https://callysto.ca/) and the [Pacific Institute for Mathematical Sciences](https://www.pims.math.ca/)\n",
    "\n",
    "# Lesson 2: Control Flows\n",
    "\n",
    "This lesson will explore more:\n",
    "- interesting math operations\n",
    "- comparisons\n",
    "- conditionals and loops\n"
   ]
  },
  {
   "cell_type": "markdown",
   "metadata": {},
   "source": [
    "<a href=\"https://www.elixirofknowledge.com/2017/07/your-guide-to-solving-next-online-viral.html\" target=\"_blank\"><img style=\"float:right;margin-left:100px;margin-right:100px;\" width=\"300\" src=\"images/viralmath2.jpg\"></a>\n",
    "\n",
    "# 1. Interesting Math Operations\n",
    "\n",
    "In the previous lesson, we saw some of the basic math operations that computers can do:\n",
    "\n",
    "    ADD:       +\n",
    "    SUBTRACT:  -\n",
    "    MULTIPLY:  *\n",
    "    DIVIDE:    /\n",
    "    \n",
    "Math in Python also follows *order of operation* rules, so it can help solve math riddles.\n",
    "\n",
    "Let's try solving this one:"
   ]
  },
  {
   "cell_type": "code",
   "execution_count": null,
   "metadata": {},
   "outputs": [],
   "source": [
    "# SOLVE ME\n",
    "# Can you write the above question as Python equation?\n",
    "print(6 / 2 _______)"
   ]
  },
  {
   "cell_type": "code",
   "execution_count": null,
   "metadata": {},
   "outputs": [],
   "source": [
    "# RUN ME\n",
    "# Here's the correct solution\n",
    "print ( 6 / 2 * ( 1 + 2 ))"
   ]
  },
  {
   "cell_type": "markdown",
   "metadata": {},
   "source": [
    "Now, let's try some more interesting math operations:\n",
    "\n",
    "    Operation        What it does                                     Operator symbol\n",
    "    --------------   -----------------------------------------------  --------------\n",
    "    MODULO           Find the remainder                               %\n",
    "    FLOOR DIVISION   Divide and round down to the lower whole number  //\n",
    "    POWER            Multiply by the same number many times           **\n",
    "\n",
    "Try running some code using the operations"
   ]
  },
  {
   "cell_type": "code",
   "execution_count": null,
   "metadata": {},
   "outputs": [],
   "source": [
    "# FILL IN THE BLANKS\n",
    "\n",
    "# Find remainder of 7 divided by 2\n",
    "print ( 7 % 2 )\n",
    "\n",
    "# Find the floor of 7 divided by 2\n",
    "print ( 7 // 2 )\n",
    "\n",
    "# Calculate 7 to the power of 2\n",
    "print ( 7 ** 2 )"
   ]
  },
  {
   "cell_type": "markdown",
   "metadata": {},
   "source": [
    "# 2. Variables\n",
    "\n",
    "Review: Variables are a box that can hold *values* like `\"strings\"` or *numbers*\n",
    "When a number is stored in a variable, we can do math on it.\n",
    "\n",
    "Let's create 2 variables, called `myString` and `myNumber`, then print them"
   ]
  },
  {
   "cell_type": "code",
   "execution_count": null,
   "metadata": {},
   "outputs": [],
   "source": [
    "# FILL IN THE BLANKS\n",
    "my_____ = \"_______\"\n",
    "my______ = _______\n",
    "print( myString )\n",
    "print( _________ )"
   ]
  },
  {
   "cell_type": "code",
   "execution_count": null,
   "metadata": {},
   "outputs": [],
   "source": [
    "# PREDICT ME - what will happen if I try do to math on the variables?\n",
    "myNumber = 1 + myNumber\n",
    "print( myNumber )\n",
    "myString = 1 + myString"
   ]
  },
  {
   "cell_type": "markdown",
   "metadata": {},
   "source": [
    "Look closely at the output. Did the math operation on the number work? \n",
    "\n",
    "Notice the error message suggests that I can't add (`+`) an `int`eger and `str`ing "
   ]
  },
  {
   "cell_type": "markdown",
   "metadata": {},
   "source": [
    "# 3. Comparisons\n",
    "\n",
    "Recall that Python *compare* numbers and tell us if a *statement* is TRUE or FALSE. We use the following operators to create *BOOLEAN expressions*.\n",
    "\n",
    "    Equal:         ==\n",
    "    Not equal:     !=\n",
    "    Less than:     <\n",
    "    Greater than:  >\n",
    "    Less than, or equal to:    <=\n",
    "    Greater than, or equal to: >=\n",
    "\n",
    "Let's try a couple of comparisons using variables. Use variables to do some math, and then see if a comparison is true or false. For example:"
   ]
  },
  {
   "cell_type": "code",
   "execution_count": null,
   "metadata": {},
   "outputs": [],
   "source": [
    "# RUN ME: set a number, is it less than 5?\n",
    "number = 1\n",
    "number < 5"
   ]
  },
  {
   "cell_type": "code",
   "execution_count": null,
   "metadata": {},
   "outputs": [],
   "source": [
    "# RUN ME: add 3, is it less than 4?\n",
    "number = number + 3\n",
    "number < 4"
   ]
  },
  {
   "cell_type": "markdown",
   "metadata": {},
   "source": [
    "Let's try something more advanced now. Let's use advanced operators and compare values in two variables."
   ]
  },
  {
   "cell_type": "code",
   "execution_count": null,
   "metadata": {},
   "outputs": [],
   "source": [
    "# FILL IN THE BLANK:\n",
    "# is 2 to the power of 3 EQUAL TO 17 modulo 9?\n",
    "aPowerNumber = 2 ** 3\n",
    "aRemainder = 17 % 9\n",
    "print ( aPowerNumber __ aRemainder )"
   ]
  },
  {
   "cell_type": "code",
   "execution_count": null,
   "metadata": {},
   "outputs": [],
   "source": [
    "# FILL IN THE BLANKS: Try math and comparisons of your own!\n",
    "numberA = \n",
    "numberB = \n",
    "numberA ___ numberB"
   ]
  },
  {
   "cell_type": "markdown",
   "metadata": {},
   "source": [
    "# 4. Loops"
   ]
  },
  {
   "cell_type": "code",
   "execution_count": null,
   "metadata": {},
   "outputs": [],
   "source": [
    "# CHALLENGE: print 1 to 5 using a loop\n"
   ]
  },
  {
   "cell_type": "code",
   "execution_count": null,
   "metadata": {},
   "outputs": [],
   "source": [
    "# CHALLENGE: print 6 to 10 using a loop\n"
   ]
  },
  {
   "cell_type": "code",
   "execution_count": null,
   "metadata": {},
   "outputs": [],
   "source": [
    "# CHALLENGE: find even numbers between 1 and 20\n"
   ]
  },
  {
   "cell_type": "code",
   "execution_count": null,
   "metadata": {},
   "outputs": [],
   "source": [
    "# CHALLENGE: print numbers BACKWARDS from 5 to 1\n"
   ]
  },
  {
   "cell_type": "code",
   "execution_count": null,
   "metadata": {},
   "outputs": [],
   "source": [
    "# CHALLENGE: print multiples of 5 from 50 to 100\n"
   ]
  },
  {
   "cell_type": "code",
   "execution_count": null,
   "metadata": {},
   "outputs": [],
   "source": [
    "# CHALLENGE: find the SQUARES (a number to the POWER of 2) from 1 to 5\n"
   ]
  },
  {
   "cell_type": "code",
   "execution_count": null,
   "metadata": {},
   "outputs": [],
   "source": [
    "# CHALLENGE: find the EXPONENTIAL series of 2\n",
    "#  This is 2 to the power 1, then to the power 2, then to the power 3, etc...\n"
   ]
  },
  {
   "cell_type": "markdown",
   "metadata": {},
   "source": [
    "## *4.1 EXTRA CHALLENGE: FIBONACCI SEQUENCE*\n",
    "\n",
    "The fibonacci sequence is the SUM of the PREVIOUS TWO numbers.\n",
    "\n",
    "- The first numbers is **1**.\n",
    "- The next number is also **1**.\n",
    "- The next number is 1 *PLUS* 1, which is **2**.\n",
    "- The next number is 1 *PLUS* 2, which is **3**.\n",
    "- The next number is 2 *PLUS* 3, which is **5**.\n",
    "\n",
    "**CHALLENGE:** *Find the FIBONACCI numbers less than 200*"
   ]
  },
  {
   "cell_type": "markdown",
   "metadata": {},
   "source": [
    "<img src=\"images/fibonacci.png\" width=\"266\" style=\"float:right;\">    \n",
    "\n",
    "Here's a hint to get started:\n",
    "\n",
    "Put the first two numbers AND the sum into variables\n",
    "\n",
    "    N = 1\n",
    "    M = 1\n",
    "    sum = ...\n",
    "\n",
    "Next, make a loop that runs as long as N is less than 200\n",
    "\n",
    "    while N < 200:\n",
    "    \n",
    "Inside the loop, print the sum, and find **NEW values** for the variables\n",
    "\n",
    "    N = ?, M = ?, sum = ?"
   ]
  },
  {
   "cell_type": "code",
   "execution_count": null,
   "metadata": {},
   "outputs": [],
   "source": [
    "# SOLVE ME: PRINT the FIBONACCI numbers smaller than 200\n",
    "\n",
    "# Start with two numbers, 1 and 1, find the sum\n",
    "N = _\n",
    "M = _ \n",
    "sum = _ * _\n",
    "\n",
    "# Print the sum, and find new values of N, M, and sum\n",
    "while sum < ___ :\n",
    "    print ( ___ )\n",
    "    N = _\n",
    "    M = ___\n",
    "    sum = _ * _"
   ]
  }
 ],
 "metadata": {
  "kernelspec": {
   "display_name": "Python 3",
   "language": "python",
   "name": "python3"
  },
  "language_info": {
   "codemirror_mode": {
    "name": "ipython",
    "version": 3
   },
   "file_extension": ".py",
   "mimetype": "text/x-python",
   "name": "python",
   "nbconvert_exporter": "python",
   "pygments_lexer": "ipython3",
   "version": "3.7.5"
  }
 },
 "nbformat": 4,
 "nbformat_minor": 2
}
