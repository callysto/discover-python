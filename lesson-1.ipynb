{
 "cells": [
  {
   "cell_type": "code",
   "execution_count": 1,
   "metadata": {},
   "outputs": [
    {
     "data": {
      "text/html": [
       "<style>div.run_this_cell{display:block;}</style>\n"
      ],
      "text/plain": [
       "<IPython.core.display.HTML object>"
      ]
     },
     "metadata": {},
     "output_type": "display_data"
    }
   ],
   "source": [
    "%%html\n",
    "<style>div.run_this_cell{display:block;}</style>"
   ]
  },
  {
   "cell_type": "markdown",
   "metadata": {},
   "source": [
    "<img style=\"float:right;margin-left:50px;margin-right:50px;\" width=\"300\" src=\"images/discovercoding.png\">\n",
    "\n",
    "# Discover Python with Callysto\n",
    "Lesson created and taught by [Discover Coding](https://discovercoding.ca).\n",
    "\n",
    "With support and funding from [Callysto](https://callysto.ca/) and the [Pacific Institute for Mathematical Sciences](https://www.pims.math.ca/)\n",
    "\n",
    "# Lesson 1: Introduction\n",
    "\n",
    "This lesson will introduce:\n",
    "- Callysto and Jupyter notebooks\n",
    "- Basics of coding with Python\n",
    "\n",
    "# 1. What is all this *STUFF*?"
   ]
  },
  {
   "cell_type": "markdown",
   "metadata": {},
   "source": [
    "<img style=\"float:right;margin-left:50px;margin-right:50px;\" width=\"400\" src=\"images/library.jpg\">\n",
    "\n",
    "## What is Callysto?\n",
    "\n",
    "**Callysto** is a free and online collection of special, interactive textbooks specially designed for Canadian students. \n",
    "\n",
    "It's like your own personal school library of the future.\n"
   ]
  },
  {
   "cell_type": "markdown",
   "metadata": {},
   "source": [
    "<img style=\"float:left;margin-left:50px;margin-right:50px;\" width=\"400\" src=\"images/notebook.jpg\">\n",
    "\n",
    "## What is Jupyter?\n",
    "\n",
    "Callysto uses **Jupyter** notebooks to display text, images, videos, and even code! It's a notebook where you **WRITE** and **RUN** code!\n",
    "\n",
    "It's the same tool used in universities  by programmers and data scientists! "
   ]
  },
  {
   "cell_type": "markdown",
   "metadata": {},
   "source": [
    "<img style=\"float:right;margin-left:100px;margin-right:100px;\" width=\"200\" src=\"images/python.png\">\n",
    "\n",
    "## What is Python?\n",
    "\n",
    "**Python** is a kind of *programming language* that a computer can understand. \n",
    "\n",
    "When we write *Python code*, we are telling a computer what to do. \n",
    "\n",
    "There are many programming languages that exist, but Python is fairly easy to write; plus, we can run Python code *inside* this notebook!\n"
   ]
  },
  {
   "cell_type": "markdown",
   "metadata": {},
   "source": [
    "# 2. Python Basics\n",
    "\n",
    "What makes these notebooks cool is that we can write and run code, such as *Python*, directly inside the notebook! \n",
    "\n",
    "We're not just *READING* a textbook anymore; we can now use it to write code, run programs, and solve problems for us! \n",
    "\n",
    "Let's run our first program! Select the code block below and click <img src=\"images/run-button.png\" style=\"display:inline-block;\"> or CTRL+ENTER"
   ]
  },
  {
   "cell_type": "code",
   "execution_count": null,
   "metadata": {},
   "outputs": [],
   "source": [
    "print(\"Hello Python Code!\")"
   ]
  },
  {
   "cell_type": "markdown",
   "metadata": {},
   "source": [
    "The most basic program uses a *print()* statement to write messages to the screen. \n",
    "\n",
    "We're going to use this a lot so that our programs can tell us what it's doing."
   ]
  },
  {
   "cell_type": "markdown",
   "metadata": {},
   "source": [
    "## 2.1 Comments\n",
    "\n",
    "Before we start writing too much code, let's learn how to write *comments*.\n",
    "\n",
    "A *hashtag* (#) at the start of the line means the code will not be run.\n",
    "\n",
    "- It is useful for writing comments (notes) in your code.\n",
    "- It is also useful to DEBUG and prevent code from running.\n"
   ]
  },
  {
   "cell_type": "markdown",
   "metadata": {},
   "source": [
    "### *ACTIVITY 2.1*\n",
    "\n",
    "This code block has a BAD line of code. \n",
    "1. Try to run it. \n",
    "1. Next, add a comment so that it doesn't get run.\n",
    "1. Finally, add your name as a comment."
   ]
  },
  {
   "cell_type": "code",
   "execution_count": null,
   "metadata": {},
   "outputs": [],
   "source": [
    "# This notebook has been modified by: {your name here}\n",
    "print(\"This code is good!\")\n",
    "print(This code is bad. Comment it out!)"
   ]
  },
  {
   "cell_type": "markdown",
   "metadata": {},
   "source": [
    "# 3. Primitive Data Types\n",
    "\n",
    "All computer programs, including *Python*, use different kinds of **Data Types** to store information. \n",
    "\n",
    "The most basic, or *primative*, data types store words, numbers, or true/false.  Here are the \n",
    "\n",
    "    Data Type     Description                Example\n",
    "    ----------    ------------------------   ------------------------------------\n",
    "    int           Integer or whole numbers   35\n",
    "    float         decimal numbers            12.3\n",
    "    str           String or words            \"This is text\" or 'This is text too'\n",
    "    bool          true or false              True or False\n",
    "    "
   ]
  },
  {
   "cell_type": "markdown",
   "metadata": {},
   "source": [
    "## 3.1 Numbers & Math\n",
    "\n",
    "Number data types, such as *int* or *float* let us do math and calculations.\n",
    "\n",
    "We can use the following *OPERATORS* (i.e. *symbols*) to add, subtract, multiply, and divide numbers:\n",
    "\n",
    "    ADD:       +\n",
    "    SUBTRACT:  -\n",
    "    MULTIPLY:  *\n",
    "    DIVIDE:    /\n",
    "\n",
    "Let's look at some sample code involving numbers. Before you run each code block, **predict** what they will do!"
   ]
  },
  {
   "cell_type": "code",
   "execution_count": null,
   "metadata": {},
   "outputs": [],
   "source": [
    "# RUN ME:\n",
    "print (3+2)"
   ]
  },
  {
   "cell_type": "code",
   "execution_count": null,
   "metadata": {},
   "outputs": [],
   "source": [
    "# RUN ME:\n",
    "print (1+2.2)"
   ]
  },
  {
   "cell_type": "code",
   "execution_count": null,
   "metadata": {},
   "outputs": [],
   "source": [
    "# RUN ME:\n",
    "print (\"1\"+\"2\")"
   ]
  },
  {
   "cell_type": "code",
   "execution_count": null,
   "metadata": {},
   "outputs": [],
   "source": [
    "# RUN ME:\n",
    "print (\"one\"+\"2\")"
   ]
  },
  {
   "cell_type": "markdown",
   "metadata": {},
   "source": [
    "### 3.2 What did we just run?\n",
    "\n",
    "There's two things you should have noticed:\n",
    "\n",
    "1. It's ok to mix *int* and *float* numbers. \n",
    "1. If a number is in \"quotes\", then it becomes a *string*; and *adding* two strings is **NOT** MATH!\n",
    "\n",
    "### *Activity 3.3*\n",
    "\n",
    "Try experimenting with more numbers and math operations:\n",
    "\n",
    "  Double click on the lines and delete, then fill in."
   ]
  },
  {
   "cell_type": "code",
   "execution_count": null,
   "metadata": {},
   "outputs": [],
   "source": [
    "# FILL IN THE BLANKS:\n",
    "print( __ + __ )\n",
    "print( __ - __ )\n",
    "print( __ / __ )\n",
    "print( __ * __ )"
   ]
  },
  {
   "cell_type": "markdown",
   "metadata": {},
   "source": [
    "<a href=\"https://www.insider.com/viral-math-problem-solution-dividing-the-internet-2019-7\" target=\"_blank\"><img style=\"float:right;margin-left:100px;margin-right:100px;\" width=\"300\" src=\"images/viralmath.jpg\"></a>\n",
    "\n",
    "\n",
    "### *Activity 3.4*\n",
    "\n",
    "We can use code to help us solve a math problem that went *viral* on Twitter in the fall of 2019. \n",
    "\n",
    "The internet was divided between two different answers. \n",
    "\n",
    "- What do you think the answer is?\n",
    "- Do you think Python will give the correct answer?\n"
   ]
  },
  {
   "cell_type": "code",
   "execution_count": null,
   "metadata": {},
   "outputs": [],
   "source": [
    "# SOLVE ME\n",
    "# Can you write the above question as Python equation?\n",
    "print( 8 __ 2 * ( 2 __ 2 ) )"
   ]
  },
  {
   "cell_type": "markdown",
   "metadata": {},
   "source": [
    "# 4 Strings\n",
    "\n",
    "A **string** is a sequence of characters: letters, numbers and special characters, such as, `! ? %`. \n",
    "\n",
    "Strings are defined by these characters in between a pair of quotes (`'`) or double-quotes (`\"`)."
   ]
  },
  {
   "cell_type": "code",
   "execution_count": null,
   "metadata": {},
   "outputs": [],
   "source": [
    "# RUN ME\n",
    "print(\"Hello World\")\n",
    "print(\"123\")\n",
    "print(\"Hello World 2.0!\")"
   ]
  },
  {
   "cell_type": "markdown",
   "metadata": {},
   "source": [
    "## 4.1 Joining Strings\n",
    "We can join multiple strings together using (`+`)"
   ]
  },
  {
   "cell_type": "code",
   "execution_count": null,
   "metadata": {},
   "outputs": [],
   "source": [
    "# RUN ME:\n",
    "print(\"Hello! \" + \"How are \" + \"you \" )"
   ]
  },
  {
   "cell_type": "markdown",
   "metadata": {},
   "source": [
    "This following code has a **BUG** in it. Try running it to see what happens.\n",
    "\n",
    "Can you fix it to print EITHER a *NUMBER* or a *STRING*?"
   ]
  },
  {
   "cell_type": "code",
   "execution_count": null,
   "metadata": {},
   "outputs": [],
   "source": [
    "# DEBUG THIS\n",
    "print ( 1 + \"2\" )"
   ]
  },
  {
   "cell_type": "markdown",
   "metadata": {},
   "source": [
    "## 4.2 Special Characters\n",
    "\n",
    "Sometimes, we want to print special characters such as quote(`'`) or double-quote(`\"`). \n",
    "\n",
    "*BUT NOT SO FAST!* We can't just use it in our string because those are supposed to surround our string. \n",
    "\n",
    "For example, let's try running this code:"
   ]
  },
  {
   "cell_type": "code",
   "execution_count": null,
   "metadata": {},
   "outputs": [],
   "source": [
    "# RUN ME - What is wrong?\n",
    "print(\"I use double-quote (\") to print a string\" )"
   ]
  },
  {
   "cell_type": "markdown",
   "metadata": {},
   "source": [
    "To print special characters, we can *ESCAPE* them\n",
    "\n",
    "    To print this:      Use this in your code:\n",
    "    -----------------   ----------------------\n",
    "    ' (quote)           \\'\n",
    "    \" (double-quote)    \\\"\n",
    "    \\ (backslash)       \\\\\n",
    "      (newline)         \\n\n",
    "      (tab)             \\t\n",
    "\n",
    "Try running the sample code to see how we can insert tabs and newlines into a string."
   ]
  },
  {
   "cell_type": "code",
   "execution_count": null,
   "metadata": {},
   "outputs": [],
   "source": [
    "# RUN ME:\n",
    "# Can you predict what the output will look like?\n",
    "print(\" You \\n Are \\n Super \\t Awesome \\t !\")"
   ]
  },
  {
   "cell_type": "markdown",
   "metadata": {},
   "source": [
    "### *Activity 4.3*\n",
    "Go back to the previous code block and use `\\\"` to fix the bug."
   ]
  },
  {
   "cell_type": "markdown",
   "metadata": {},
   "source": [
    "## 4.4 Raw strings\n",
    "Another way to put special characters in your string is to use RAW strings.\n",
    "These are just strings with the letter `r` in front of them. \n",
    "\n",
    "For example:"
   ]
  },
  {
   "cell_type": "code",
   "execution_count": null,
   "metadata": {},
   "outputs": [],
   "source": [
    "# RUN ME:\n",
    "# Here's a big spider:\n",
    "print(\"This spider is missing his right leg:\")\n",
    "print(\"//\\(oo)/\\\\\")\n",
    "print('\\n')\n",
    "print(\"This spider is printed as a RAW string. His leg is back!\")\n",
    "print(r\"//\\(oo)/\\\\\")"
   ]
  },
  {
   "cell_type": "markdown",
   "metadata": {},
   "source": [
    "## 4.5 Multi-line strings\n",
    "\n",
    "What if I wanted to print multiple lines?\n",
    "I could use multiple print statements. Or I can use a TRIPLE-QUOTE (`'''`) or (`\"\"\"\"`)\n",
    "\n",
    "For example:"
   ]
  },
  {
   "cell_type": "code",
   "execution_count": null,
   "metadata": {},
   "outputs": [],
   "source": [
    "# RUN ME:\n",
    "print(r\"\"\"\n",
    " /\\_/\\\n",
    "((@v@))\n",
    "():::()\n",
    " VV-VV\n",
    "\"\"\")"
   ]
  },
  {
   "cell_type": "markdown",
   "metadata": {},
   "source": [
    "### *Activity 4.6*\n",
    "Now you try!\n",
    "Create your own creative ascii art for a email signature!\n",
    "\n",
    "    _________|----------------------------------------|________\n",
    "    \\       :| )\\   /(      Your Name         )\\   /( |:      /\n",
    "      \\     :|  )\\_/(                          )\\_/(  |:    /\n",
    "        >   :| (/^|^\\)    \"Coding is fun\"     (/^|^\\) |:  <\n",
    "      /     :|  \\*|*/                          \\*|*/  |:    \\\n",
    "    /_______:/---\\|/----------------------------\\|/---\\:______\\\n",
    "                  V                              V\n",
    "              "
   ]
  },
  {
   "cell_type": "code",
   "execution_count": null,
   "metadata": {},
   "outputs": [],
   "source": [
    "print(r\"\"\"\n",
    "\n",
    "\"\"\")"
   ]
  },
  {
   "cell_type": "markdown",
   "metadata": {},
   "source": [
    "<img style=\"float:right;\" width=\"500px\" src=\"images/variable.jpg\">\n",
    "\n",
    "# 5. Variables\n",
    "\n",
    "A **VARIABLE** is just *name* that holds a value, such as numbers or strings (words in quotations \" \").\n",
    "\n",
    "For example, try running the code below:"
   ]
  },
  {
   "cell_type": "code",
   "execution_count": null,
   "metadata": {},
   "outputs": [],
   "source": [
    "# RUN ME:\n",
    "mynumber = 10\n",
    "mystring = \"a secret message\"\n",
    "print(mynumber)\n",
    "print(mystring)"
   ]
  },
  {
   "cell_type": "markdown",
   "metadata": {},
   "source": [
    "<img style=\"float:left;margin-right:30px;\" width=\"400px\" src=\"images/input.png\">\n",
    "\n",
    "## 5.1 Inputs\n",
    "So far, we've created **OUTPUT** with Python, and printed numbers and strings. \n",
    "\n",
    "**Q:** How can we get **INPUT** from a user into our program?\n",
    "\n",
    "**A:** We can use the `input()` function.\n",
    "\n",
    "Try running the program below. It'll ask you a question and you can enter your answer."
   ]
  },
  {
   "cell_type": "code",
   "execution_count": null,
   "metadata": {},
   "outputs": [],
   "source": [
    "# Run me:\n",
    "name = input(\"What is your name? \")\n",
    "\n",
    "print(\"Hello, \" + name + \"!\")"
   ]
  },
  {
   "cell_type": "code",
   "execution_count": null,
   "metadata": {},
   "outputs": [],
   "source": [
    "# Run me:\n",
    "age = input(\"How old are you? \")\n",
    "\n",
    "print(\"It's pretty cool that you can code at \" + age + \"years old! \\(^_^)/\")"
   ]
  },
  {
   "cell_type": "markdown",
   "metadata": {},
   "source": [
    "### *Activity 5.2*\n",
    "Create your own question and response"
   ]
  },
  {
   "cell_type": "code",
   "execution_count": null,
   "metadata": {},
   "outputs": [],
   "source": [
    "# FILL IN THE BLANK\n",
    "_____ = input(\"______\")\n",
    "print(_____)"
   ]
  },
  {
   "cell_type": "markdown",
   "metadata": {},
   "source": [
    "# 6. Comparisons\n",
    "\n",
    "Python can also do a *COMPARISON TEST* on numbers and tell us if something is TRUE or FALSE. We use the following operators:\n",
    "\n",
    "    Is Equal:      ==\n",
    "    Not equal:     !=\n",
    "    Less than:     <\n",
    "    Greater than:  >\n",
    "    Less than, or equal to:    <=\n",
    "    Greater than, or equal to: >="
   ]
  },
  {
   "cell_type": "markdown",
   "metadata": {},
   "source": [
    "### *ACTIVITY 6.1*\n",
    "\n",
    "Let's try some comparisons. \n",
    "\n",
    "Python will tell us if these are `True` or `False`"
   ]
  },
  {
   "cell_type": "code",
   "execution_count": null,
   "metadata": {},
   "outputs": [],
   "source": [
    "# RUN ME: Is 5 less than 7?\n",
    "5 < 7"
   ]
  },
  {
   "cell_type": "code",
   "execution_count": null,
   "metadata": {},
   "outputs": [],
   "source": [
    "# RUN ME: Is one-half (1/2) EQUAL TO two-quarters (2/4)?\n",
    "1/2 == 2/4"
   ]
  },
  {
   "cell_type": "code",
   "execution_count": null,
   "metadata": {},
   "outputs": [],
   "source": [
    "# SOLVE THIS: Is two-thirds (2/3) greater than three-quarters (3/4)?\n"
   ]
  }
 ],
 "metadata": {
  "kernelspec": {
   "display_name": "Python 3",
   "language": "python",
   "name": "python3"
  },
  "language_info": {
   "codemirror_mode": {
    "name": "ipython",
    "version": 3
   },
   "file_extension": ".py",
   "mimetype": "text/x-python",
   "name": "python",
   "nbconvert_exporter": "python",
   "pygments_lexer": "ipython3",
   "version": "3.7.5"
  }
 },
 "nbformat": 4,
 "nbformat_minor": 2
}
