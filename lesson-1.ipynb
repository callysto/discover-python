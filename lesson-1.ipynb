{
 "cells": [
  {
   "cell_type": "code",
   "execution_count": 59,
   "metadata": {},
   "outputs": [
    {
     "data": {
      "text/html": [
       "<style>div.run_this_cell{display:block;}</style>\n"
      ],
      "text/plain": [
       "<IPython.core.display.HTML object>"
      ]
     },
     "metadata": {},
     "output_type": "display_data"
    }
   ],
   "source": [
    "%%html\n",
    "<style>div.run_this_cell{display:block;}</style>"
   ]
  },
  {
   "cell_type": "markdown",
   "metadata": {},
   "source": [
    "Brought to you by Discover Coding!"
   ]
  },
  {
   "cell_type": "markdown",
   "metadata": {},
   "source": [
    "# 1. Welcome to Discover Python\n",
    "\n",
    "To get started, click the Slideshow button <img src=\"images/slideshow-button.png\" style=\"display:inline-block;\"> or **ALT+R**\n",
    "\n",
    "Press **SPACEBAR** to continue, or use the arrows in the bottom right corner.\n",
    "\n",
    "Press **SHIFT + SPACEBAR** to go back a slide."
   ]
  },
  {
   "cell_type": "markdown",
   "metadata": {},
   "source": [
    "<img style=\"float:right;\" width=\"400\" src=\"images/library.jpg\">\n",
    "\n",
    "## 2. What is Callysto?\n",
    "\n",
    "**Callysto** is a free and online collection of special textbooks for Canadian students. It's like your own personal school library of the future.\n"
   ]
  },
  {
   "cell_type": "markdown",
   "metadata": {},
   "source": [
    "<img style=\"float:left;padding-right:10px;\" width=\"400px\" src=\"images/notebook.jpg\">\n",
    "\n",
    "Callysto uses **Jupyter** notebooks to display text, images, videos, and even code! It's a notebook where you **WRITE** and **RUN** code!\n",
    "\n",
    "It's the same tool used in universities  by programmers and data scientists! "
   ]
  },
  {
   "cell_type": "markdown",
   "metadata": {},
   "source": [
    "<img style=\"float:left;padding-right:10px\" width=\"200px\" src=\"images/python.png\">\n",
    "\n",
    "We are going to use this notebook to learn *coding* with **Python**. \n",
    "\n",
    "Python *code* are instructions in a *language* that a computer can understand.\n",
    "\n",
    "When we are *coding*, we are telling the computer what to do!"
   ]
  },
  {
   "cell_type": "markdown",
   "metadata": {},
   "source": [
    "\n",
    "## 3. Getting Started with Callysto\n",
    "\n",
    "You've already made it here! To use Callysto:\n",
    "1. Log into Callysto: https://hub.callysto.ca\n",
    "1. Find an interesting notebook [from here](https://callysto.ca/learning_modules/)\n",
    "1. Click on it to get your own copy of it\n",
    "1. Open, read, run it from the hub (look for the .ipynb file)\n"
   ]
  },
  {
   "cell_type": "markdown",
   "metadata": {},
   "source": [
    "<img src=\"images/hub.png\">\n"
   ]
  },
  {
   "cell_type": "markdown",
   "metadata": {},
   "source": [
    "# 4. Python\n",
    "\n",
    "What makes these notebooks cool is that we can write and run code, such as *Python*, directly inside the notebook! We're not just *READING* a textbook anymore; we can now use it to solve problems for us! \n",
    "\n",
    "Let's run our first program! Select the code block below and click <img src=\"images/run-button.png\" style=\"display:inline-block;\"> or CTRL+ENTER"
   ]
  },
  {
   "cell_type": "code",
   "execution_count": null,
   "metadata": {},
   "outputs": [],
   "source": [
    "print(\"Hello Python Code!\")"
   ]
  },
  {
   "cell_type": "markdown",
   "metadata": {},
   "source": [
    "## 5. Comments\n",
    "\n",
    "A *hashtag* (#) at the start of the line means the code will not be run.\n",
    "\n",
    "- It is useful for writing comments (notes) in your code.\n",
    "- It is also useful to DEBUG and prevent code from running.\n"
   ]
  },
  {
   "cell_type": "markdown",
   "metadata": {},
   "source": [
    "### *ACTIVITY 5.1*\n",
    "\n",
    "This code block has a BAD line of code. \n",
    "1. Try to run it. \n",
    "1. Next, add a comment so that it doesn't get run.\n",
    "1. Finally, add your name as a comment."
   ]
  },
  {
   "cell_type": "code",
   "execution_count": null,
   "metadata": {},
   "outputs": [],
   "source": [
    "# This notebook has been modified by: {your name here}\n",
    "#print(\"This code is good!\")\n",
    "print(This code is bad. Comment it out!)"
   ]
  },
  {
   "cell_type": "markdown",
   "metadata": {},
   "source": [
    "## 6. Data Types\n",
    "\n",
    "In Python there are different ways to represent information, called **Data Types**.\n",
    "\n",
    "Here are some basics data types:\n",
    "\n",
    "Data Types                 Examples\n",
    "----------------          ----------\n",
    "Strings                    \"This is text\" or 'This is text too'\n",
    "Integers                   35\n",
    "Floats                     12.3\n",
    "Boolean                    True or False\n"
   ]
  },
  {
   "cell_type": "markdown",
   "metadata": {},
   "source": [
    "### 6.1 Numbers"
   ]
  },
  {
   "cell_type": "code",
   "execution_count": null,
   "metadata": {},
   "outputs": [],
   "source": [
    "print (1+2.2)"
   ]
  },
  {
   "cell_type": "code",
   "execution_count": null,
   "metadata": {},
   "outputs": [],
   "source": [
    "print (1+2)"
   ]
  },
  {
   "cell_type": "code",
   "execution_count": null,
   "metadata": {},
   "outputs": [],
   "source": [
    "print (\"1\"+\"2\")"
   ]
  },
  {
   "cell_type": "markdown",
   "metadata": {},
   "source": [
    "### 6.2 Strings\n",
    "\n",
    "A **string** is a sequence of characters: letters, numbers and special characters (ie. !?%). Strings are defined by these characters in between a pair of quotes (') or double-quotes (\")."
   ]
  },
  {
   "cell_type": "code",
   "execution_count": 2,
   "metadata": {},
   "outputs": [
    {
     "name": "stdout",
     "output_type": "stream",
     "text": [
      "Hello World\n",
      "123\n",
      "Hello World 2.0!\n"
     ]
    }
   ],
   "source": [
    "# RUN ME\n",
    "print(\"Hello World\")\n",
    "print(\"123\")\n",
    "print(\"Hello World 2.0!\")"
   ]
  },
  {
   "cell_type": "markdown",
   "metadata": {},
   "source": [
    "### Joining Strings\n",
    "We can join multiple strings together using (+)"
   ]
  },
  {
   "cell_type": "code",
   "execution_count": null,
   "metadata": {},
   "outputs": [],
   "source": [
    "print(\"Hello! \" + \"How ar\")"
   ]
  },
  {
   "cell_type": "code",
   "execution_count": null,
   "metadata": {},
   "outputs": [],
   "source": [
    "# Debug?\n",
    "print (1+\"2\")"
   ]
  },
  {
   "cell_type": "markdown",
   "metadata": {},
   "source": [
    "### Special Characters\n",
    "What if we want to print a special character, such as:\n",
    "quote(') \n",
    "double-quote(\")\n",
    "hashtag(#)\n"
   ]
  },
  {
   "cell_type": "markdown",
   "metadata": {},
   "source": [
    "What if we want to print a special character, such as:\n",
    "quote(') \n",
    "double-quote(\")\n",
    "hashtag(#)\n"
   ]
  },
  {
   "cell_type": "markdown",
   "metadata": {},
   "source": [
    "### Escape Characters\n",
    "We can use an escape character to print those:\n",
    "\n",
    "    quote:        \\'\n",
    "    double-quote: \\\"\n",
    "    hashtag:      \\#\n"
   ]
  },
  {
   "cell_type": "markdown",
   "metadata": {},
   "source": [
    "### More Escape Characters\n",
    "Notice that the backslash is a special character. So are \"invisible\" characters, like a newline or tab. Here's how we print those:\n",
    "\n",
    "    backslash:  \\\\\n",
    "    newline:    \\n\n",
    "    tab:        \\t\n"
   ]
  },
  {
   "cell_type": "markdown",
   "metadata": {},
   "source": [
    "# Raw strings\n",
    "Another way to put special characters in your string is to use RAW strings.\n",
    "These are just strings with the letter r in front of them. \n",
    "\n",
    "For example:"
   ]
  },
  {
   "cell_type": "code",
   "execution_count": null,
   "metadata": {},
   "outputs": [],
   "source": [
    "# RUN ME:\n",
    "# Here's a big spider:\n",
    "print(\"This spider is missing a leg:\")\n",
    "print('//\\(oo)/\\\\')\n",
    "\n",
    "print(\"This spider is printed as a RAW string. His leg is back!\")\n",
    "print(r'//\\(oo)/\\\\')"
   ]
  },
  {
   "cell_type": "markdown",
   "metadata": {},
   "source": [
    "# Multi-line\n",
    "What if I wanted to print multiple lines?\n",
    "I could use multiple print statements. Or I can use a TRIPLE-QUOTE (''') or (\"\"\"\")\n",
    "\n",
    "For example:"
   ]
  },
  {
   "cell_type": "code",
   "execution_count": null,
   "metadata": {},
   "outputs": [],
   "source": [
    "# RUN ME:\n",
    "print(r\"\"\"\n",
    " /\\_/\\\n",
    "((@v@))\n",
    "():::()\n",
    " VV-VV\n",
    "\"\"\")"
   ]
  },
  {
   "cell_type": "markdown",
   "metadata": {},
   "source": [
    "# Activity\n",
    "Now you try!\n",
    "Print some creative ascii art of your own!\n"
   ]
  },
  {
   "cell_type": "code",
   "execution_count": null,
   "metadata": {},
   "outputs": [],
   "source": [
    "print(r\"\"\"\n",
    "\n",
    "\"\"\")"
   ]
  },
  {
   "cell_type": "markdown",
   "metadata": {},
   "source": [
    "### Literal Code Block\n",
    "What if you have lots of special characters to display? We can use a TRIPLE-QUOTE (\"\"\")\n"
   ]
  },
  {
   "cell_type": "code",
   "execution_count": null,
   "metadata": {},
   "outputs": [],
   "source": [
    "print(\"\"\"hello\n",
    ".9/?234'\"''\"\n",
    "\"\"\")"
   ]
  },
  {
   "cell_type": "markdown",
   "metadata": {},
   "source": [
    "### *Activity 6.x*\n",
    "\n",
    "Make ascii art"
   ]
  },
  {
   "cell_type": "markdown",
   "metadata": {},
   "source": [
    "<img style=\"float:right;\" width=\"500px\" src=\"images/variable.jpg\">\n",
    "\n",
    "## 7. Variables\n",
    "\n",
    "A **VARIABLE** is just *name* that holds a value, such as numbers or strings (words in quotations \" \").\n",
    "\n",
    "For example, try running the code below:"
   ]
  },
  {
   "cell_type": "code",
   "execution_count": null,
   "metadata": {},
   "outputs": [],
   "source": [
    "# RUN ME:\n",
    "mynumber = 10\n",
    "mystring = \"a secret message\"\n",
    "print(mynumber)\n",
    "print(mystring)"
   ]
  },
  {
   "cell_type": "markdown",
   "metadata": {},
   "source": [
    "# Inputs\n",
    "So far, we've created OUTPUT with Python, and printed numbers and strings. \n",
    "How can we get INPUT from a user into our program?\n",
    "We can use the input(). {TODO: diagram that shows how INPUT works}\n"
   ]
  },
  {
   "cell_type": "code",
   "execution_count": null,
   "metadata": {},
   "outputs": [],
   "source": [
    "# Run me:\n",
    "my_name = input(\"What is your name?\")\n",
    "print(\"My name is:\")\n",
    "print(my_name)\n",
    "\n",
    "my_age = input(\"How old are you?\")\n",
    "print(\"I am \" + my_age + \"years old\")"
   ]
  },
  {
   "cell_type": "markdown",
   "metadata": {},
   "source": [
    "# Exercise:\n",
    "Create your own question and response"
   ]
  },
  {
   "cell_type": "code",
   "execution_count": null,
   "metadata": {},
   "outputs": [],
   "source": [
    "# FILL IN THE BLANK\n",
    "_____ = input(\"______\")\n",
    "print(_____)"
   ]
  },
  {
   "cell_type": "markdown",
   "metadata": {},
   "source": [
    "# 7. Comparisons\n",
    "\n",
    "Python can also do a *COMPARISON TEST* on numbers and tell us if something is TRUE or FALSE. We use the following operators:\n",
    "\n",
    "    Equal:         ==\n",
    "    Not equal:     !=\n",
    "    Less than:     <\n",
    "    Greater than:  >\n",
    "    Less than, or equal to:    <=\n",
    "    Greater than, or equal to: >="
   ]
  },
  {
   "cell_type": "markdown",
   "metadata": {},
   "source": [
    "### *ACTIVITY 7.4*"
   ]
  },
  {
   "cell_type": "code",
   "execution_count": null,
   "metadata": {},
   "outputs": [],
   "source": [
    "# RUN ME: Is 5 less than 7?\n",
    "5 < 7"
   ]
  },
  {
   "cell_type": "code",
   "execution_count": null,
   "metadata": {},
   "outputs": [],
   "source": [
    "# RUN ME: Is one-half (1/2) EQUAL TO two-quarters (2/4)?\n",
    "1/2 == 2/4"
   ]
  },
  {
   "cell_type": "code",
   "execution_count": null,
   "metadata": {},
   "outputs": [],
   "source": [
    "# SOLVE THIS: Is two-thirds (2/3) greater than three-quarters (3/4)?\n"
   ]
  },
  {
   "cell_type": "markdown",
   "metadata": {},
   "source": [
    "# Conditionals\n",
    "CONDITIONALS are how programs make decisions. If something is TRUE, then do one thing; else, do something else.\n",
    "\n",
    "A conditional looks like this:\n",
    "\n",
    "    if TEST :\n",
    "        some_code\n",
    "    elif TEST :\n",
    "        other_code\n",
    "    else : \n",
    "        some_other_code\n",
    "\n",
    "TEST is something that returns TRUE or FALSE, like we did previously, using:\n",
    "\n",
    "    Equal: ==\n",
    "    Not equal: !=\n",
    "    Less than: <\n",
    "    Less than, or equal to: <=\n",
    "    Greater than: >\n",
    "    Greater than, or equal to: >=\n",
    "\n",
    "**NOTICE** the COLON and the SPACES!\n",
    "\n",
    "Let's try a simple example:"
   ]
  },
  {
   "cell_type": "code",
   "execution_count": null,
   "metadata": {},
   "outputs": [],
   "source": [
    "# RUN ME:\n",
    "fruit = input(\"select A or B: \")\n",
    "if fruit == \"A\":\n",
    "    print(\"A is for Apple!\")\n",
    "else:\n",
    "    print(\"B is for Banana!\")"
   ]
  },
  {
   "cell_type": "markdown",
   "metadata": {},
   "source": [
    "### Things to think about:\n",
    "What happens if you enter \"C\"?\n",
    "What happens if you enter lower case \"a\" or \"b\"?\n",
    "Can we make that code better?"
   ]
  },
  {
   "cell_type": "code",
   "execution_count": null,
   "metadata": {},
   "outputs": [],
   "source": [
    "# RUN ME:\n",
    "fruit = input(\"select A or B: \")\n",
    "if fruit == \"A\":\n",
    "    print(\"A is for Apple!\")\n",
    "elif fruit == \"B\":\n",
    "    print(\"B is for Banana!\")\n",
    "else:\n",
    "    print(\"That's not A or B...\")"
   ]
  },
  {
   "cell_type": "markdown",
   "metadata": {},
   "source": [
    "# Exercise\n",
    "Write your own simple trivia game -- *Who am I?* or *What am I?*\n",
    "\n",
    "Here's how your game will work.\n",
    "1. Describe something to the user\n",
    "2. Ask them if it's answer A or B (or 1 or 2)\n",
    "3. Tell them if they are correct or not\n",
    "\n",
    "Here's an example"
   ]
  }
 ],
 "metadata": {
  "kernelspec": {
   "display_name": "Python 3",
   "language": "python",
   "name": "python3"
  },
  "language_info": {
   "codemirror_mode": {
    "name": "ipython",
    "version": 3
   },
   "file_extension": ".py",
   "mimetype": "text/x-python",
   "name": "python",
   "nbconvert_exporter": "python",
   "pygments_lexer": "ipython3",
   "version": "3.7.5"
  }
 },
 "nbformat": 4,
 "nbformat_minor": 2
}
